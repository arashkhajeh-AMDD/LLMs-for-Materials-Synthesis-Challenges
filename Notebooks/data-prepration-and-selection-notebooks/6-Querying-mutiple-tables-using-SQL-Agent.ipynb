{
 "cells": [
  {
   "cell_type": "markdown",
   "metadata": {},
   "source": [
    "# Making a SQLite databased combining multiple tables"
   ]
  },
  {
   "cell_type": "code",
   "execution_count": null,
   "metadata": {},
   "outputs": [
    {
     "name": "stdout",
     "output_type": "stream",
     "text": [
      "Data directory: /Users/arashkhajeh/GitHub/LLM-for-Materials/Data\n",
      "Application file path: /Users/arashkhajeh/GitHub/LLM-for-Materials/Data/applications-energy.csv\n",
      "comments file path: /Users/arashkhajeh/GitHub/LLM-for-Materials/Data/comments-energy.csv\n",
      "Composition file path: /Users/arashkhajeh/GitHub/LLM-for-Materials/Data/compositions-energy.csv\n",
      "Melting points file path: /Users/arashkhajeh/GitHub/LLM-for-Materials/Data/melting-points-energy.csv\n"
     ]
    },
    {
     "data": {
      "text/plain": [
       "525"
      ]
     },
     "execution_count": 8,
     "metadata": {},
     "output_type": "execute_result"
    }
   ],
   "source": [
    "from pyprojroot import here\n",
    "from langchain_community.utilities import SQLDatabase\n",
    "from sqlalchemy import create_engine\n",
    "import pandas as pd\n",
    "from pathlib import Path\n",
    "\n",
    "data_dir = Path(str(here(\"Data\")))\n",
    "print( f\"Data directory: {data_dir}\")\n",
    "\n",
    "\n",
    "applications_file_name = \"applications-energy.csv\"\n",
    "file_path = data_dir / applications_file_name\n",
    "applications_df = pd.read_csv(file_path)\n",
    "print( f\"Application file path: {file_path}\")\n",
    "\n",
    "comments_file_name = \"comments-energy.csv\"\n",
    "file_path = data_dir / comments_file_name\n",
    "comments_df = pd.read_csv(file_path)\n",
    "print( f\"Comments file path: {file_path}\")\n",
    "\n",
    "\n",
    "compositions_file_name = \"compositions-energy.csv\"\n",
    "file_path = data_dir / compositions_file_name\n",
    "compositions_df = pd.read_csv(file_path)\n",
    "print( f\"Composition file path: {file_path}\")\n",
    "\n",
    "melting_points_file_name = \"melting-points-energy.csv\"\n",
    "file_path = data_dir / melting_points_file_name\n",
    "melting_points_df = pd.read_csv(file_path)\n",
    "print( f\"Melting points file path: {file_path}\")\n",
    "\n",
    "\n",
    "db_path = str(here(\"Data\")) + \"/ICDD-energy.db\"\n",
    "db_path = f\"sqlite:///{db_path}\"\n",
    "\n",
    "engine = create_engine(db_path)\n",
    "\n",
    "comments_df.to_sql(\"Comments\", engine, index=False)\n",
    "applications_df.to_sql(\"Applications\", engine, index=False)\n",
    "compositions_df.to_sql(\"Compositions\", engine, index=False)\n",
    "melting_points_df.to_sql(\"Melting Points\", engine, index=False)"
   ]
  },
  {
   "cell_type": "code",
   "execution_count": 9,
   "metadata": {},
   "outputs": [
    {
     "name": "stdout",
     "output_type": "stream",
     "text": [
      "sqlite\n",
      "['Applications', 'Comments', 'Compositions', 'Melting Points']\n"
     ]
    },
    {
     "data": {
      "text/plain": [
       "\"[(353, 10359, None, None, 'Decomposes at 1750 C'), (494, 10503, None, None, None), (569, 10579, None, None, None), (618, 10628, None, None, 'Transition to calcite at 520. Antacid'), (636, 10646, None, 'A new method of X-Ray crystal analysis', None), (667, 10677, None, None, None), (696, 10706, None, None, None), (738, 10750, None, None, None), (780, 10792, None, None, None), (784, 10796, None, None, None)]\""
      ]
     },
     "execution_count": 9,
     "metadata": {},
     "output_type": "execute_result"
    }
   ],
   "source": [
    "# validate the connection to the vectordb\n",
    "from langchain_community.utilities import SQLDatabase\n",
    "from pyprojroot import here\n",
    "\n",
    "db_path = str(here(\"Data\")) + \"/ICDD-energy.db\"\n",
    "db = SQLDatabase.from_uri(f\"sqlite:///{db_path}\")\n",
    "\n",
    "print(db.dialect)\n",
    "print(db.get_usable_table_names())\n",
    "db.run(\"SELECT * FROM comments LIMIT 10;\")"
   ]
  },
  {
   "cell_type": "code",
   "execution_count": 10,
   "metadata": {},
   "outputs": [
    {
     "name": "stdout",
     "output_type": "stream",
     "text": [
      "Environment variables are loaded: True\n",
      "Model name: gpt-3.5-turbo\n"
     ]
    }
   ],
   "source": [
    "from dotenv import load_dotenv\n",
    "import os\n",
    "print(\"Environment variables are loaded:\", load_dotenv())\n",
    "\n",
    "# Optional: print model name if you set it\n",
    "print(\"Model name:\", os.getenv(\"gpt_deployment_name\"))  # e.g., \"gpt-3.5-turbo\""
   ]
  },
  {
   "cell_type": "code",
   "execution_count": 22,
   "metadata": {},
   "outputs": [
    {
     "name": "stdout",
     "output_type": "stream",
     "text": [
      "Hello! How can I assist you today?\n"
     ]
    }
   ],
   "source": [
    "from openai import OpenAI\n",
    "\n",
    "messages = [\n",
    "    {\"role\": \"system\", \"content\": str(\n",
    "        \"You are a helpful assistant\"\n",
    "    )},\n",
    "    {\"role\": \"user\", \"content\": str(\"hello\")}\n",
    "]\n",
    "\n",
    "client = OpenAI()\n",
    "\n",
    "response = client.chat.completions.create(\n",
    "    model=\"gpt-4o\",#os.getenv(\"gpt_deployment_name\"),\n",
    "    messages=messages\n",
    ")\n",
    "\n",
    "print(response.choices[0].message.content)"
   ]
  },
  {
   "cell_type": "code",
   "execution_count": 2,
   "metadata": {},
   "outputs": [
    {
     "ename": "NameError",
     "evalue": "name 'os' is not defined",
     "output_type": "error",
     "traceback": [
      "\u001b[0;31m---------------------------------------------------------------------------\u001b[0m",
      "\u001b[0;31mNameError\u001b[0m                                 Traceback (most recent call last)",
      "Cell \u001b[0;32mIn[2], line 6\u001b[0m\n\u001b[1;32m      1\u001b[0m \u001b[38;5;66;03m# SQL Query chain\u001b[39;00m\n\u001b[1;32m      2\u001b[0m \n\u001b[1;32m      3\u001b[0m \u001b[38;5;66;03m# Load the LLM\u001b[39;00m\n\u001b[1;32m      4\u001b[0m \u001b[38;5;28;01mfrom\u001b[39;00m\u001b[38;5;250m \u001b[39m\u001b[38;5;21;01mlangchain\u001b[39;00m\u001b[38;5;21;01m.\u001b[39;00m\u001b[38;5;21;01mchat_models\u001b[39;00m\u001b[38;5;250m \u001b[39m\u001b[38;5;28;01mimport\u001b[39;00m ChatOpenAI\n\u001b[0;32m----> 6\u001b[0m model_name \u001b[38;5;241m=\u001b[39m \u001b[43mos\u001b[49m\u001b[38;5;241m.\u001b[39mgetenv(\u001b[38;5;124m\"\u001b[39m\u001b[38;5;124mgpt_deployment_name\u001b[39m\u001b[38;5;124m\"\u001b[39m)\n\u001b[1;32m      7\u001b[0m openai_api_key \u001b[38;5;241m=\u001b[39m os\u001b[38;5;241m.\u001b[39menviron[\u001b[38;5;124m\"\u001b[39m\u001b[38;5;124mOPENAI_API_KEY\u001b[39m\u001b[38;5;124m\"\u001b[39m]\n\u001b[1;32m      8\u001b[0m llm \u001b[38;5;241m=\u001b[39m ChatOpenAI(model_name\u001b[38;5;241m=\u001b[39mmodel_name,\n\u001b[1;32m      9\u001b[0m                  temperature\u001b[38;5;241m=\u001b[39m\u001b[38;5;241m0\u001b[39m,\n\u001b[1;32m     10\u001b[0m                  openai_api_key \u001b[38;5;241m=\u001b[39m openai_api_key)\n",
      "\u001b[0;31mNameError\u001b[0m: name 'os' is not defined"
     ]
    }
   ],
   "source": [
    "# SQL Query chain\n",
    "\n",
    "# Load the LLM\n",
    "from langchain.chat_models import ChatOpenAI\n",
    "\n",
    "model_name = os.getenv(\"gpt_deployment_name\")\n",
    "openai_api_key = os.environ[\"OPENAI_API_KEY\"]\n",
    "llm = ChatOpenAI(model_name=model_name,\n",
    "                 temperature=0,\n",
    "                 openai_api_key = openai_api_key)"
   ]
  },
  {
   "cell_type": "code",
   "execution_count": 25,
   "metadata": {},
   "outputs": [
    {
     "name": "stdout",
     "output_type": "stream",
     "text": [
      "SELECT\n"
     ]
    }
   ],
   "source": [
    "from langchain.chains import create_sql_query_chain\n",
    "\n",
    "chain = create_sql_query_chain(llm, db)\n",
    "response = chain.invoke({\"question\": \"What are the table names in the database\"})\n",
    "print(response)"
   ]
  },
  {
   "cell_type": "code",
   "execution_count": 21,
   "metadata": {},
   "outputs": [
    {
     "name": "stdout",
     "output_type": "stream",
     "text": [
      "SELECT\n"
     ]
    }
   ],
   "source": [
    "from langchain.chains import create_sql_query_chain\n",
    "\n",
    "chain = create_sql_query_chain(llm, db)\n",
    "response = chain.invoke({\"question\": \"How many entries have melting point?\"})\n",
    "print(response)"
   ]
  },
  {
   "cell_type": "code",
   "execution_count": 17,
   "metadata": {},
   "outputs": [
    {
     "data": {
      "text/plain": [
       "'[(2,)]'"
      ]
     },
     "execution_count": 17,
     "metadata": {},
     "output_type": "execute_result"
    }
   ],
   "source": [
    "# execute the query\n",
    "db.run(response)"
   ]
  },
  {
   "cell_type": "code",
   "execution_count": 21,
   "metadata": {},
   "outputs": [
    {
     "data": {
      "text/plain": [
       "'[(2,)]'"
      ]
     },
     "execution_count": 21,
     "metadata": {},
     "output_type": "execute_result"
    }
   ],
   "source": [
    "# Using Chain\n",
    "\n",
    "from langchain_community.tools.sql_database.tool import QuerySQLDataBaseTool\n",
    "\n",
    "write_query = create_sql_query_chain(llm, db)\n",
    "execute_query = QuerySQLDataBaseTool(db=db)\n",
    "\n",
    "chain = write_query | execute_query\n",
    "\n",
    "chain.invoke({\"question\": \"How many entries have melting point?\"})"
   ]
  },
  {
   "cell_type": "code",
   "execution_count": 22,
   "metadata": {},
   "outputs": [
    {
     "data": {
      "text/plain": [
       "'There are 2 entries in the comments table that have a melting point value.'"
      ]
     },
     "execution_count": 22,
     "metadata": {},
     "output_type": "execute_result"
    }
   ],
   "source": [
    "# Answer the question in a user friendly manner\n",
    "from operator import itemgetter\n",
    "from langchain_core.output_parsers import StrOutputParser\n",
    "from langchain_core.prompts import PromptTemplate\n",
    "from langchain_core.runnables import RunnablePassthrough\n",
    "\n",
    "answer_prompt = PromptTemplate.from_template(\n",
    "    \"\"\"Given the following user question, corresponding SQL query, and SQL result, answer the user question.\n",
    "\n",
    "Question: {question}\n",
    "SQL Query: {query}\n",
    "SQL Result: {result}\n",
    "Answer: \"\"\"\n",
    ")\n",
    "\n",
    "answer = answer_prompt | llm | StrOutputParser()\n",
    "chain = (\n",
    "    RunnablePassthrough.assign(query=write_query).assign(\n",
    "        result=itemgetter(\"query\") | execute_query\n",
    "    )\n",
    "    | answer\n",
    ")\n",
    "\n",
    "chain.invoke({\"question\": \"How many entries have melting point?\"})"
   ]
  },
  {
   "cell_type": "markdown",
   "metadata": {},
   "source": [
    "# Using SQL Agent"
   ]
  },
  {
   "cell_type": "code",
   "execution_count": 28,
   "metadata": {},
   "outputs": [
    {
     "name": "stdout",
     "output_type": "stream",
     "text": [
      "Environment variables are loaded: True\n",
      "test by reading a variable: gpt-3.5-turbo\n"
     ]
    }
   ],
   "source": [
    "import os\n",
    "from dotenv import load_dotenv\n",
    "import warnings\n",
    "warnings.filterwarnings(\"ignore\")\n",
    "print(\"Environment variables are loaded:\", load_dotenv())\n",
    "print(\"test by reading a variable:\", os.getenv(\"gpt_deployment_name\"))"
   ]
  },
  {
   "cell_type": "code",
   "execution_count": 29,
   "metadata": {},
   "outputs": [],
   "source": [
    "# Load the LLM\n",
    "from langchain.chat_models import ChatOpenAI\n",
    "\n",
    "model_name = os.getenv(\"gpt_deployment_name\")\n",
    "openai_api_key = os.environ[\"OPENAI_API_KEY\"]\n",
    "llm = ChatOpenAI(model_name=model_name,\n",
    "                 temperature=0,\n",
    "                 openai_api_key = openai_api_key)"
   ]
  },
  {
   "cell_type": "code",
   "execution_count": 30,
   "metadata": {},
   "outputs": [],
   "source": [
    "from langchain_community.agent_toolkits import create_sql_agent\n",
    "agent_executor = create_sql_agent(llm, db=db, agent_type=\"openai-tools\", verbose=True)"
   ]
  },
  {
   "cell_type": "code",
   "execution_count": 32,
   "metadata": {},
   "outputs": [
    {
     "name": "stdout",
     "output_type": "stream",
     "text": [
      "\n",
      "\n",
      "\u001b[1m> Entering new SQL Agent Executor chain...\u001b[0m\n",
      "\u001b[32;1m\u001b[1;3m\n",
      "Invoking: `sql_db_list_tables` with `{}`\n",
      "\n",
      "\n",
      "\u001b[0m\u001b[38;5;200m\u001b[1;3mcomments\u001b[0m\u001b[32;1m\u001b[1;3m\n",
      "Invoking: `sql_db_schema` with `{'table_names': 'comments'}`\n",
      "\n",
      "\n",
      "\u001b[0m\u001b[33;1m\u001b[1;3m\n",
      "CREATE TABLE comments (\n",
      "\t\"Unnamed: 0\" BIGINT, \n",
      "\t\"ProductID\" BIGINT, \n",
      "\t\"Melting Point\" TEXT, \n",
      "\t\"Article Title\" TEXT\n",
      ")\n",
      "\n",
      "/*\n",
      "3 rows from comments table:\n",
      "Unnamed: 0\tProductID\tMelting Point\tArticle Title\n",
      "0\t40203804\tNone\tCrystal structures and magnetic properties of the BaAl4-type structure derivatives in Gd-Al-Ga syste\n",
      "1\t40017624\tNone\tStructural Features and Magnetic Properties of Solid Solutions in the CuFe2O4-Li0.5Fe2.5O4-Mn3O4 Sys\n",
      "2\t40231825\tNone\tCrystal structure, thermal expansion and high-temperature electrical conductivity of A-site deficien\n",
      "*/\u001b[0m\u001b[32;1m\u001b[1;3mThe comments table has the following columns:\n",
      "1. Unnamed: 0 (BIGINT)\n",
      "2. ProductID (BIGINT)\n",
      "3. Melting Point (TEXT)\n",
      "4. Article Title (TEXT)\n",
      "\n",
      "Here are 3 sample rows from the comments table:\n",
      "1. Unnamed: 0: 40203804, ProductID: 40203804, Melting Point: None, Article Title: Crystal structures and magnetic properties of the BaAl4-type structure derivatives in Gd-Al-Ga system\n",
      "2. Unnamed: 0: 40017624, ProductID: 40017624, Melting Point: None, Article Title: Structural Features and Magnetic Properties of Solid Solutions in the CuFe2O4-Li0.5Fe2.5O4-Mn3O4 Sys\n",
      "3. Unnamed: 0: 40231825, ProductID: 40231825, Melting Point: None, Article Title: Crystal structure, thermal expansion and high-temperature electrical conductivity of A-site deficien\u001b[0m\n",
      "\n",
      "\u001b[1m> Finished chain.\u001b[0m\n"
     ]
    }
   ],
   "source": [
    "response = agent_executor.invoke({\"input\": \"Describe the comments table.\"})"
   ]
  },
  {
   "cell_type": "code",
   "execution_count": 35,
   "metadata": {},
   "outputs": [
    {
     "name": "stdout",
     "output_type": "stream",
     "text": [
      "The comments table has the following columns:\n",
      "1. Unnamed: 0 (BIGINT)\n",
      "2. ProductID (BIGINT)\n",
      "3. Melting Point (TEXT)\n",
      "4. Article Title (TEXT)\n",
      "\n",
      "Here are 3 sample rows from the comments table:\n",
      "1. Unnamed: 0: 40203804, ProductID: 40203804, Melting Point: None, Article Title: Crystal structures and magnetic properties of the BaAl4-type structure derivatives in Gd-Al-Ga system\n",
      "2. Unnamed: 0: 40017624, ProductID: 40017624, Melting Point: None, Article Title: Structural Features and Magnetic Properties of Solid Solutions in the CuFe2O4-Li0.5Fe2.5O4-Mn3O4 Sys\n",
      "3. Unnamed: 0: 40231825, ProductID: 40231825, Melting Point: None, Article Title: Crystal structure, thermal expansion and high-temperature electrical conductivity of A-site deficien\n"
     ]
    }
   ],
   "source": [
    "print(response[\"output\"])"
   ]
  },
  {
   "cell_type": "code",
   "execution_count": 39,
   "metadata": {},
   "outputs": [
    {
     "name": "stdout",
     "output_type": "stream",
     "text": [
      "\n",
      "\n",
      "\u001b[1m> Entering new SQL Agent Executor chain...\u001b[0m\n",
      "\u001b[32;1m\u001b[1;3m\n",
      "Invoking: `sql_db_list_tables` with `{}`\n",
      "\n",
      "\n",
      "\u001b[0m\u001b[38;5;200m\u001b[1;3mcomments\u001b[0m\u001b[32;1m\u001b[1;3m\n",
      "Invoking: `sql_db_schema` with `{'table_names': 'comments'}`\n",
      "\n",
      "\n",
      "\u001b[0m\u001b[33;1m\u001b[1;3m\n",
      "CREATE TABLE comments (\n",
      "\t\"Unnamed: 0\" BIGINT, \n",
      "\t\"ProductID\" BIGINT, \n",
      "\t\"Melting Point\" TEXT, \n",
      "\t\"Article Title\" TEXT\n",
      ")\n",
      "\n",
      "/*\n",
      "3 rows from comments table:\n",
      "Unnamed: 0\tProductID\tMelting Point\tArticle Title\n",
      "0\t40203804\tNone\tCrystal structures and magnetic properties of the BaAl4-type structure derivatives in Gd-Al-Ga syste\n",
      "1\t40017624\tNone\tStructural Features and Magnetic Properties of Solid Solutions in the CuFe2O4-Li0.5Fe2.5O4-Mn3O4 Sys\n",
      "2\t40231825\tNone\tCrystal structure, thermal expansion and high-temperature electrical conductivity of A-site deficien\n",
      "*/\u001b[0m\u001b[32;1m\u001b[1;3m\n",
      "Invoking: `sql_db_query` with `{'query': 'SELECT COUNT(*) FROM comments WHERE \"Melting Point\" IS NOT NULL'}`\n",
      "\n",
      "\n",
      "\u001b[0m\u001b[36;1m\u001b[1;3m[(2,)]\u001b[0m\u001b[32;1m\u001b[1;3mThere are 2 entries in the comments table that have melting points specified.\u001b[0m\n",
      "\n",
      "\u001b[1m> Finished chain.\u001b[0m\n"
     ]
    }
   ],
   "source": [
    "response = agent_executor.invoke({\"input\": \"How many entries have melting points in the comments table?\"})"
   ]
  },
  {
   "cell_type": "code",
   "execution_count": 42,
   "metadata": {},
   "outputs": [
    {
     "name": "stdout",
     "output_type": "stream",
     "text": [
      "\n",
      "\n",
      "\u001b[1m> Entering new SQL Agent Executor chain...\u001b[0m\n",
      "\u001b[32;1m\u001b[1;3m\n",
      "Invoking: `sql_db_list_tables` with `{}`\n",
      "\n",
      "\n",
      "\u001b[0m\u001b[38;5;200m\u001b[1;3mcomments\u001b[0m\u001b[32;1m\u001b[1;3m\n",
      "Invoking: `sql_db_schema` with `{'table_names': 'comments'}`\n",
      "\n",
      "\n",
      "\u001b[0m\u001b[33;1m\u001b[1;3m\n",
      "CREATE TABLE comments (\n",
      "\t\"Unnamed: 0\" BIGINT, \n",
      "\t\"ProductID\" BIGINT, \n",
      "\t\"Melting Point\" TEXT, \n",
      "\t\"Article Title\" TEXT\n",
      ")\n",
      "\n",
      "/*\n",
      "3 rows from comments table:\n",
      "Unnamed: 0\tProductID\tMelting Point\tArticle Title\n",
      "0\t40203804\tNone\tCrystal structures and magnetic properties of the BaAl4-type structure derivatives in Gd-Al-Ga syste\n",
      "1\t40017624\tNone\tStructural Features and Magnetic Properties of Solid Solutions in the CuFe2O4-Li0.5Fe2.5O4-Mn3O4 Sys\n",
      "2\t40231825\tNone\tCrystal structure, thermal expansion and high-temperature electrical conductivity of A-site deficien\n",
      "*/\u001b[0m\u001b[32;1m\u001b[1;3m\n",
      "Invoking: `sql_db_query` with `{'query': 'SELECT * FROM comments WHERE \"Article Title\" LIKE \\'%CuFe2O4%\\''}`\n",
      "\n",
      "\n",
      "\u001b[0m\u001b[36;1m\u001b[1;3m[(1, 40017624, None, 'Structural Features and Magnetic Properties of Solid Solutions in the CuFe2O4-Li0.5Fe2.5O4-Mn3O4 System')]\u001b[0m\u001b[32;1m\u001b[1;3mThe article \"Structural Features and Magnetic Properties of Solid Solutions in the CuFe2O4-Li0.5Fe2.5O4-Mn3O4 System\" contains the mention of CuFe2O4 in the comments table. The product ID of this entry is 40017624.\u001b[0m\n",
      "\n",
      "\u001b[1m> Finished chain.\u001b[0m\n"
     ]
    }
   ],
   "source": [
    "response = agent_executor.invoke({\"input\": \"Can you tell me in what article in the comments table CuFe2O4 is appeared? Also show me th product ID of this entry\"})"
   ]
  },
  {
   "cell_type": "code",
   "execution_count": 44,
   "metadata": {},
   "outputs": [
    {
     "name": "stdout",
     "output_type": "stream",
     "text": [
      "The article \"Structural Features and Magnetic Properties of Solid Solutions in the CuFe2O4-Li0.5Fe2.5O4-Mn3O4 System\" contains the mention of CuFe2O4 in the comments table. The product ID of this entry is 40017624.\n"
     ]
    }
   ],
   "source": [
    "print(response[\"output\"])"
   ]
  },
  {
   "cell_type": "markdown",
   "metadata": {},
   "source": [
    "# Testing on the entire comments dataset"
   ]
  },
  {
   "cell_type": "code",
   "execution_count": 45,
   "metadata": {},
   "outputs": [
    {
     "data": {
      "text/plain": [
       "1104137"
      ]
     },
     "execution_count": 45,
     "metadata": {},
     "output_type": "execute_result"
    }
   ],
   "source": [
    "from pyprojroot import here\n",
    "from langchain_community.utilities import SQLDatabase\n",
    "from sqlalchemy import create_engine\n",
    "import pandas as pd\n",
    "\n",
    "csv_file_path = str(here(\"Data\")) + \"/comments.csv\"\n",
    "df = pd.read_csv(csv_file_path)\n",
    "\n",
    "\n",
    "db_path = str(here(\"Data\")) + \"/comments.db\"\n",
    "db_path = f\"sqlite:///{db_path}\"\n",
    "\n",
    "engine = create_engine(db_path)\n",
    "df.to_sql(\"comments\", engine, index=False)"
   ]
  },
  {
   "cell_type": "code",
   "execution_count": 46,
   "metadata": {},
   "outputs": [
    {
     "name": "stdout",
     "output_type": "stream",
     "text": [
      "sqlite\n",
      "['comments']\n"
     ]
    },
    {
     "data": {
      "text/plain": [
       "\"[(0, 10001, 'Warning: Unindexed pattern. Unit Cell Data Source: Powder Diffraction.', 'Unindexed pattern', 'Powder Diffraction', None, None, None, None, None, None, None, None, None, None, None, None, None, None, None, None, None, None, None, None, None, None, None, None, None, None, None, None, None, None, None, None, None, None, None, None, None, None, None, None, None, None, None, None, None, None, None, None, None, None, None, None, None, None, None, None, None, None, None, None, None, None, None, None, None, None, None, None, None, None, None, None, None, None, None, None, None, None, None, None, None, None, None, None, None, None, None, None, None, None, None, None, None, None, None, None, None, None, None, None, None, None, None, None, None, None, None, None, None, None, None, None, None, None, None, None, None, None, None, None, None, None, None, None, None, None, None, None, None, None, None, None, None, None, None, None, None, None, None, None, None, None, None, None, None, None, None, None, None, None, None, None, None, None, None, None, None, None, None, None, None, None, None, None, None, None, None, None, None, None, None, None, None, None, None, None, None, None, None, None, None, None, None, None, None, None, None, None, None, None, None, None, None, None, None, None, None, None, None, None, None, None, None, None, None, None, None, None, None, None, None, None, None, None, None, None, None, None, None, None, None, None, None, None), (1, 10002, 'Warning: Unindexed pattern. Unit Cell Data Source: Powder Diffraction.', 'Unindexed pattern', 'Powder Diffraction', None, None, None, None, None, None, None, None, None, None, None, None, None, None, None, None, None, None, None, None, None, None, None, None, None, None, None, None, None, None, None, None, None, None, None, None, None, None, None, None, None, None, None, None, None, None, None, None, None, None, None, None, None, None, None, None, None, None, None, None, None, None, None, None, None, None, None, None, None, None, None, None, None, None, None, None, None, None, None, None, None, None, None, None, None, None, None, None, None, None, None, None, None, None, None, None, None, None, None, None, None, None, None, None, None, None, None, None, None, None, None, None, None, None, None, None, None, None, None, None, None, None, None, None, None, None, None, None, None, None, None, None, None, None, None, None, None, None, None, None, None, None, None, None, None, None, None, None, None, None, None, None, None, None, None, None, None, None, None, None, None, None, None, None, None, None, None, None, None, None, None, None, None, None, None, None, None, None, None, None, None, None, None, None, None, None, None, None, None, None, None, None, None, None, None, None, None, None, None, None, None, None, None, None, None, None, None, None, None, None, None, None, None, None, None, None, None, None, None, None, None, None, None, None), (2, 10003, 'Warning: Unindexed pattern. Unit Cell Data Source: Powder Diffraction.', 'Unindexed pattern', 'Powder Diffraction', None, None, None, None, None, None, None, None, None, None, None, None, None, None, None, None, None, None, None, None, None, None, None, None, None, None, None, None, None, None, None, None, None, None, None, None, None, None, None, None, None, None, None, None, None, None, None, None, None, None, None, None, None, None, None, None, None, None, None, None, None, None, None, None, None, None, None, None, None, None, None, None, None, None, None, None, None, None, None, None, None, None, None, None, None, None, None, None, None, None, None, None, None, None, None, None, None, None, None, None, None, None, None, None, None, None, None, None, None, None, None, None, None, None, None, None, None, None, None, None, None, None, None, None, None, None, None, None, None, None, None, None, None, None, None, None, None, None, None, None, None, None, None, None, None, None, None, None, None, None, None, None, None, None, None, None, None, None, None, None, None, None, None, None, None, None, None, None, None, None, None, None, None, None, None, None, None, None, None, None, None, None, None, None, None, None, None, None, None, None, None, None, None, None, None, None, None, None, None, None, None, None, None, None, None, None, None, None, None, None, None, None, None, None, None, None, None, None, None, None, None, None, None, None), (3, 10004, 'Warning: Unindexed pattern. Unit Cell Data Source: Powder Diffraction.', 'Unindexed pattern', 'Powder Diffraction', None, None, None, None, None, None, None, None, None, None, None, None, None, None, None, None, None, None, None, None, None, None, None, None, None, None, None, None, None, None, None, None, None, None, None, None, None, None, None, None, None, None, None, None, None, None, None, None, None, None, None, None, None, None, None, None, None, None, None, None, None, None, None, None, None, None, None, None, None, None, None, None, None, None, None, None, None, None, None, None, None, None, None, None, None, None, None, None, None, None, None, None, None, None, None, None, None, None, None, None, None, None, None, None, None, None, None, None, None, None, None, None, None, None, None, None, None, None, None, None, None, None, None, None, None, None, None, None, None, None, None, None, None, None, None, None, None, None, None, None, None, None, None, None, None, None, None, None, None, None, None, None, None, None, None, None, None, None, None, None, None, None, None, None, None, None, None, None, None, None, None, None, None, None, None, None, None, None, None, None, None, None, None, None, None, None, None, None, None, None, None, None, None, None, None, None, None, None, None, None, None, None, None, None, None, None, None, None, None, None, None, None, None, None, None, None, None, None, None, None, None, None, None, None), (4, 10005, 'Warning: Unindexed pattern. Unit Cell Data Source: Powder Diffraction.', 'Unindexed pattern', 'Powder Diffraction', None, None, None, None, None, None, None, None, None, None, None, None, None, None, None, None, None, None, None, None, None, None, None, None, None, None, None, None, None, None, None, None, None, None, None, None, None, None, None, None, None, None, None, None, None, None, None, None, None, None, None, None, None, None, None, None, None, None, None, None, None, None, None, None, None, None, None, None, None, None, None, None, None, None, None, None, None, None, None, None, None, None, None, None, None, None, None, None, None, None, None, None, None, None, None, None, None, None, None, None, None, None, None, None, None, None, None, None, None, None, None, None, None, None, None, None, None, None, None, None, None, None, None, None, None, None, None, None, None, None, None, None, None, None, None, None, None, None, None, None, None, None, None, None, None, None, None, None, None, None, None, None, None, None, None, None, None, None, None, None, None, None, None, None, None, None, None, None, None, None, None, None, None, None, None, None, None, None, None, None, None, None, None, None, None, None, None, None, None, None, None, None, None, None, None, None, None, None, None, None, None, None, None, None, None, None, None, None, None, None, None, None, None, None, None, None, None, None, None, None, None, None, None, None), (5, 10006, 'General Comments: A mixture. Reason O Quality Was Assigned: O assigned because unindexed. Unit Cell Data Source: Powder Diffraction.', None, 'Powder Diffraction', 'A mixture', 'O assigned because unindexed', None, None, None, None, None, None, None, None, None, None, None, None, None, None, None, None, None, None, None, None, None, None, None, None, None, None, None, None, None, None, None, None, None, None, None, None, None, None, None, None, None, None, None, None, None, None, None, None, None, None, None, None, None, None, None, None, None, None, None, None, None, None, None, None, None, None, None, None, None, None, None, None, None, None, None, None, None, None, None, None, None, None, None, None, None, None, None, None, None, None, None, None, None, None, None, None, None, None, None, None, None, None, None, None, None, None, None, None, None, None, None, None, None, None, None, None, None, None, None, None, None, None, None, None, None, None, None, None, None, None, None, None, None, None, None, None, None, None, None, None, None, None, None, None, None, None, None, None, None, None, None, None, None, None, None, None, None, None, None, None, None, None, None, None, None, None, None, None, None, None, None, None, None, None, None, None, None, None, None, None, None, None, None, None, None, None, None, None, None, None, None, None, None, None, None, None, None, None, None, None, None, None, None, None, None, None, None, None, None, None, None, None, None, None, None, None, None, None, None, None, None, None), (6, 10007, 'Warning: Unindexed pattern. Unit Cell Data Source: Powder Diffraction.', 'Unindexed pattern', 'Powder Diffraction', None, None, None, None, None, None, None, None, None, None, None, None, None, None, None, None, None, None, None, None, None, None, None, None, None, None, None, None, None, None, None, None, None, None, None, None, None, None, None, None, None, None, None, None, None, None, None, None, None, None, None, None, None, None, None, None, None, None, None, None, None, None, None, None, None, None, None, None, None, None, None, None, None, None, None, None, None, None, None, None, None, None, None, None, None, None, None, None, None, None, None, None, None, None, None, None, None, None, None, None, None, None, None, None, None, None, None, None, None, None, None, None, None, None, None, None, None, None, None, None, None, None, None, None, None, None, None, None, None, None, None, None, None, None, None, None, None, None, None, None, None, None, None, None, None, None, None, None, None, None, None, None, None, None, None, None, None, None, None, None, None, None, None, None, None, None, None, None, None, None, None, None, None, None, None, None, None, None, None, None, None, None, None, None, None, None, None, None, None, None, None, None, None, None, None, None, None, None, None, None, None, None, None, None, None, None, None, None, None, None, None, None, None, None, None, None, None, None, None, None, None, None, None, None), (7, 10008, 'Deleted Or Rejected By: Deleted by 00-025-1568 and 00-028-2003. Warning: Unindexed pattern. Unit Cell Data Source: Powder Diffraction.', 'Unindexed pattern', 'Powder Diffraction', None, None, 'Deleted by 00-025-1568 and 00-028-2003', None, None, None, None, None, None, None, None, None, None, None, None, None, None, None, None, None, None, None, None, None, None, None, None, None, None, None, None, None, None, None, None, None, None, None, None, None, None, None, None, None, None, None, None, None, None, None, None, None, None, None, None, None, None, None, None, None, None, None, None, None, None, None, None, None, None, None, None, None, None, None, None, None, None, None, None, None, None, None, None, None, None, None, None, None, None, None, None, None, None, None, None, None, None, None, None, None, None, None, None, None, None, None, None, None, None, None, None, None, None, None, None, None, None, None, None, None, None, None, None, None, None, None, None, None, None, None, None, None, None, None, None, None, None, None, None, None, None, None, None, None, None, None, None, None, None, None, None, None, None, None, None, None, None, None, None, None, None, None, None, None, None, None, None, None, None, None, None, None, None, None, None, None, None, None, None, None, None, None, None, None, None, None, None, None, None, None, None, None, None, None, None, None, None, None, None, None, None, None, None, None, None, None, None, None, None, None, None, None, None, None, None, None, None, None, None, None, None, None, None, None), (8, 10009, 'Color: White. Warning: Unindexed pattern. Unit Cell Data Source: Powder Diffraction.', 'Unindexed pattern', 'Powder Diffraction', None, None, None, 'White', None, None, None, None, None, None, None, None, None, None, None, None, None, None, None, None, None, None, None, None, None, None, None, None, None, None, None, None, None, None, None, None, None, None, None, None, None, None, None, None, None, None, None, None, None, None, None, None, None, None, None, None, None, None, None, None, None, None, None, None, None, None, None, None, None, None, None, None, None, None, None, None, None, None, None, None, None, None, None, None, None, None, None, None, None, None, None, None, None, None, None, None, None, None, None, None, None, None, None, None, None, None, None, None, None, None, None, None, None, None, None, None, None, None, None, None, None, None, None, None, None, None, None, None, None, None, None, None, None, None, None, None, None, None, None, None, None, None, None, None, None, None, None, None, None, None, None, None, None, None, None, None, None, None, None, None, None, None, None, None, None, None, None, None, None, None, None, None, None, None, None, None, None, None, None, None, None, None, None, None, None, None, None, None, None, None, None, None, None, None, None, None, None, None, None, None, None, None, None, None, None, None, None, None, None, None, None, None, None, None, None, None, None, None, None, None, None, None, None, None), (9, 10010, 'Warning: Unindexed pattern. Unit Cell Data Source: Powder Diffraction.', 'Unindexed pattern', 'Powder Diffraction', None, None, None, None, None, None, None, None, None, None, None, None, None, None, None, None, None, None, None, None, None, None, None, None, None, None, None, None, None, None, None, None, None, None, None, None, None, None, None, None, None, None, None, None, None, None, None, None, None, None, None, None, None, None, None, None, None, None, None, None, None, None, None, None, None, None, None, None, None, None, None, None, None, None, None, None, None, None, None, None, None, None, None, None, None, None, None, None, None, None, None, None, None, None, None, None, None, None, None, None, None, None, None, None, None, None, None, None, None, None, None, None, None, None, None, None, None, None, None, None, None, None, None, None, None, None, None, None, None, None, None, None, None, None, None, None, None, None, None, None, None, None, None, None, None, None, None, None, None, None, None, None, None, None, None, None, None, None, None, None, None, None, None, None, None, None, None, None, None, None, None, None, None, None, None, None, None, None, None, None, None, None, None, None, None, None, None, None, None, None, None, None, None, None, None, None, None, None, None, None, None, None, None, None, None, None, None, None, None, None, None, None, None, None, None, None, None, None, None, None, None, None, None, None)]\""
      ]
     },
     "execution_count": 46,
     "metadata": {},
     "output_type": "execute_result"
    }
   ],
   "source": [
    "# validate the connection to the vectordb\n",
    "from langchain_community.utilities import SQLDatabase\n",
    "from pyprojroot import here\n",
    "\n",
    "db_path = str(here(\"Data\")) + \"/comments.db\"\n",
    "db = SQLDatabase.from_uri(f\"sqlite:///{db_path}\")\n",
    "\n",
    "print(db.dialect)\n",
    "print(db.get_usable_table_names())\n",
    "db.run(\"SELECT * FROM comments LIMIT 10;\")"
   ]
  },
  {
   "cell_type": "code",
   "execution_count": 47,
   "metadata": {},
   "outputs": [
    {
     "name": "stdout",
     "output_type": "stream",
     "text": [
      "Environment variables are loaded: True\n",
      "Model name: gpt-3.5-turbo\n"
     ]
    }
   ],
   "source": [
    "from dotenv import load_dotenv\n",
    "import os\n",
    "print(\"Environment variables are loaded:\", load_dotenv())\n",
    "\n",
    "# Optional: print model name if you set it\n",
    "print(\"Model name:\", os.getenv(\"gpt_deployment_name\"))  # e.g., \"gpt-3.5-turbo\""
   ]
  },
  {
   "cell_type": "code",
   "execution_count": 48,
   "metadata": {},
   "outputs": [
    {
     "name": "stdout",
     "output_type": "stream",
     "text": [
      "Hello! How can I assist you today?\n"
     ]
    }
   ],
   "source": [
    "from openai import OpenAI\n",
    "\n",
    "messages = [\n",
    "    {\"role\": \"system\", \"content\": str(\n",
    "        \"You are a helpful assistant\"\n",
    "    )},\n",
    "    {\"role\": \"user\", \"content\": str(\"hello\")}\n",
    "]\n",
    "\n",
    "client = OpenAI()\n",
    "\n",
    "response = client.chat.completions.create(\n",
    "    model=os.getenv(\"gpt_deployment_name\"),\n",
    "    messages=messages\n",
    ")\n",
    "\n",
    "print(response.choices[0].message.content)"
   ]
  },
  {
   "cell_type": "code",
   "execution_count": null,
   "metadata": {},
   "outputs": [],
   "source": [
    "# SQL Query chain\n",
    "\n",
    "# Load the LLM\n",
    "from langchain.chat_models import ChatOpenAI\n",
    "\n",
    "model_name = os.getenv(\"gpt_deployment_name\")\n",
    "openai_api_key = os.environ[\"OPENAI_API_KEY\"]\n",
    "llm = ChatOpenAI(model_name=model_name,\n",
    "                 temperature=0,\n",
    "                 openai_api_key = openai_api_key)"
   ]
  },
  {
   "cell_type": "code",
   "execution_count": 50,
   "metadata": {},
   "outputs": [
    {
     "name": "stdout",
     "output_type": "stream",
     "text": [
      "SELECT\n"
     ]
    }
   ],
   "source": [
    "from langchain.chains import create_sql_query_chain\n",
    "\n",
    "chain = create_sql_query_chain(llm, db)\n",
    "response = chain.invoke({\"question\": \"How many entries are there in comments table?\"})\n",
    "print(response)"
   ]
  },
  {
   "cell_type": "code",
   "execution_count": null,
   "metadata": {},
   "outputs": [],
   "source": []
  },
  {
   "cell_type": "markdown",
   "metadata": {},
   "source": [
    "⚠️ Problem: The Chain Can't Handle Large Schemas Well\n",
    "The reason you're seeing just SELECT when there are many columns is likely because:\n",
    "\n",
    "create_sql_query_chain internally injects table schema info into the prompt, and\n",
    "\n",
    "When the schema (i.e., list of columns) is too long, the total token length exceeds the model's context limit or the prompt becomes too noisy,\n",
    "\n",
    "So the LLM returns an incomplete SQL query, like just SELECT.\n",
    "\n"
   ]
  },
  {
   "cell_type": "markdown",
   "metadata": {},
   "source": [
    "✅ Solutions\n",
    "✅ Option 1: Use a Narrowed Schema (Only Include Relevant Tables)\n",
    "LangChain allows you to limit which tables are included in the prompt:\n",
    "\n",
    "python\n",
    "Copy\n",
    "Edit\n",
    "db = SQLDatabase.from_uri(..., include_tables=[\"comments\"])\n",
    "chain = create_sql_query_chain(llm, db)\n",
    "This helps cut down schema size sent to the model.\n",
    "\n",
    "✅ Option 2: Use a More Capable Model (Like gpt-4 or gpt-3.5-turbo-16k)\n",
    "Larger models with more context length can handle long table schemas better.\n",
    "\n",
    "python\n",
    "Copy\n",
    "Edit\n",
    "from langchain.chat_models import ChatOpenAI\n",
    "\n",
    "llm = ChatOpenAI(model=\"gpt-3.5-turbo-16k\", temperature=0)\n",
    "Or if you’re using OpenAI tools agent with auto-function-calling, that often performs better for large schemas:\n",
    "\n",
    "python\n",
    "Copy\n",
    "Edit\n",
    "from langchain.agents import create_sql_agent\n",
    "from langchain.agents.agent_toolkits import SQLDatabaseToolkit\n",
    "\n",
    "agent = create_sql_agent(\n",
    "    llm=llm,\n",
    "    toolkit=SQLDatabaseToolkit(db=db, llm=llm),\n",
    "    verbose=True,"
   ]
  },
  {
   "cell_type": "code",
   "execution_count": 68,
   "metadata": {},
   "outputs": [
    {
     "name": "stdout",
     "output_type": "stream",
     "text": [
      "\n",
      "\n",
      "\u001b[1m> Entering new SQL Agent Executor chain...\u001b[0m\n",
      "\u001b[32;1m\u001b[1;3mAction: sql_db_list_tables\n",
      "Action Input: \u001b[0m\u001b[38;5;200m\u001b[1;3mcomments\u001b[0m\u001b[32;1m\u001b[1;3mI should query the schema of the comments table to see if there is a column for melting points.\n",
      "Action: sql_db_schema\n",
      "Action Input: comments\u001b[0m\u001b[33;1m\u001b[1;3m\n",
      "CREATE TABLE comments (\n",
      "\t\"Unnamed: 0\" BIGINT, \n",
      "\t\"ProductID\" BIGINT, \n",
      "\t\"FullComment\" TEXT, \n",
      "\t\"Warning\" TEXT, \n",
      "\t\"Unit Cell Data Source\" TEXT, \n",
      "\t\"General Comments\" TEXT, \n",
      "\t\"Reason O Quality Was Assigned\" TEXT, \n",
      "\t\"Deleted Or Rejected By\" TEXT, \n",
      "\t\"Color\" TEXT, \n",
      "\t\"Melting Point\" TEXT, \n",
      "\t\"Water Loss\" TEXT, \n",
      "\t\"Structures\" TEXT, \n",
      "\t\"Optical Data\" TEXT, \n",
      "\t\"Additional Patterns\" TEXT, \n",
      "\t\"Unit Cell\" TEXT, \n",
      "\t\"Sample Preparation\" TEXT, \n",
      "\t\"Sublimation Point\" TEXT, \n",
      "\t\"Analysis\" TEXT, \n",
      "\t\"Deleted\" TEXT, \n",
      "\t\"Boiling Point\" TEXT, \n",
      "\t\"Article Title\" TEXT, \n",
      "\t\"Note\" TEXT, \n",
      "\t\"Additional Diffraction Lines\" TEXT, \n",
      "\t\"Opaque Optical Data\" TEXT, \n",
      "\t\"Delete\" TEXT, \n",
      "\t\"Reflectance\" TEXT, \n",
      "\t\"Vickers Hardness Number\" TEXT, \n",
      "\t\"Composition\" TEXT, \n",
      "\t\"Fluorescence\" TEXT, \n",
      "\t\"Bioactivity\" TEXT, \n",
      "\t\"Chemically Related\" TEXT, \n",
      "\t\"Reference\" TEXT, \n",
      "\t\"Phase Transition\" TEXT, \n",
      "\t\"Polymorphism\" TEXT, \n",
      "\t\"Lustre\" TEXT, \n",
      "\t\"Ref\" TEXT, \n",
      "\t\"Borneo\" TEXT, \n",
      "\t\"Utah\" TEXT, \n",
      "\t\"Powder Data\" TEXT, \n",
      "\t\"Monoclinic\" TEXT, \n",
      "\t\"In Situ Condition\" TEXT, \n",
      "\t\"Research Laboratory\" TEXT, \n",
      "\t\"Cu\" TEXT, \n",
      "\t\"Ca\" TEXT, \n",
      "\t\"References\" TEXT, \n",
      "\t\"Reported\" TEXT, \n",
      "\t\"Twinned\" TEXT, \n",
      "\t\"Found\" TEXT, \n",
      "\t\"Sb\" TEXT, \n",
      "\t\"For Cu\" TEXT, \n",
      "\t\"Preparation\" TEXT, \n",
      "\t\"Calculated\" TEXT, \n",
      "\t\"Ge\" TEXT, \n",
      "\t\"Zn\" TEXT, \n",
      "\t\"Editor\" TEXT, \n",
      "\t\"Pleochroism\" TEXT, \n",
      "\t\"Synthesis\" TEXT, \n",
      "\t\"Sree Harsha\" TEXT, \n",
      "\t\"See\" TEXT, \n",
      "\t\"Phase Diagram\" TEXT, \n",
      "\t\"Triple Point\" TEXT, \n",
      "\t\"Al\" TEXT, \n",
      "\t\"Material\" TEXT, \n",
      "\t\"Formula\" TEXT, \n",
      "\t\"Oxford\" TEXT, \n",
      "\t\"Theory\" TEXT, \n",
      "\t\"Thermal Patterns\" TEXT, \n",
      "\t\"Authors Phase Designation\" TEXT, \n",
      "\t\"Reaction\" TEXT, \n",
      "\t\"Habit\" TEXT, \n",
      "\t\"Temperature\" TEXT, \n",
      "\t\"Scale Factors\" TEXT, \n",
      "\t\"Parabromochlorobenzene\" TEXT, \n",
      "\t\"Parachloroiodobenzene\" TEXT, \n",
      "\t\"Moreiras\" TEXT, \n",
      "\t\"Impurities\" TEXT, \n",
      "\t\"Scheib\" TEXT, \n",
      "\t\"Bulk Modulus\" TEXT, \n",
      "\t\"Sensitivity\" TEXT, \n",
      "\t\"Processing Information\" TEXT, \n",
      "\t\"Pneumonocosis\" TEXT, \n",
      "\t\"Scattering Factors\" TEXT, \n",
      "\t\"Wyckoff Sequence\" TEXT, \n",
      "\t\"Calculated Pattern Original Remarks\" TEXT, \n",
      "\t\"Atmosphere\" TEXT, \n",
      "\t\"Hypothetical Structure\" TEXT, \n",
      "\t\"Occurrence\" TEXT, \n",
      "\t\"Supercell\" TEXT, \n",
      "\t\"N\" TEXT, \n",
      "\t\"Average\" TEXT, \n",
      "\t\"Raw Data Comment\" TEXT, \n",
      "\t\"Other Cell\" TEXT, \n",
      "\t\"Compressibilities\" TEXT, \n",
      "\t\"The Ti\" TEXT, \n",
      "\t\"The Fe\" TEXT, \n",
      "\t\"Refractive Index\" TEXT, \n",
      "\t\"Metal\" TEXT, \n",
      "\t\"Source\" TEXT, \n",
      "\t\"B\" TEXT, \n",
      "\t\"Absolute Configuration\" TEXT, \n",
      "\t\"Isomorphism\" TEXT, \n",
      "\t\"Atomic Position\" TEXT, \n",
      "\t\"Same Structure\" TEXT, \n",
      "\t\"Precursors\" TEXT, \n",
      "\t\"Temperature Factor\" TEXT, \n",
      "\t\"Part I\" TEXT, \n",
      "\t\"Data Collection\" TEXT, \n",
      "\t\"Ferromagnet\" TEXT, \n",
      "\t\"Mw\" TEXT, \n",
      "\t\"Mn\" TEXT, \n",
      "\t\"An Si\" TEXT, \n",
      "\t\"Yield\" TEXT, \n",
      "\t\"Average Mn\" TEXT, \n",
      "\t\"The Pt\" TEXT, \n",
      "\t\"Microstrain\" TEXT, \n",
      "\t\"Magnetic Moment\" TEXT, \n",
      "\t\"General Formula\" TEXT, \n",
      "\t\"Atomic Coordinates\" TEXT, \n",
      "\t\"General Name\" TEXT, \n",
      "\t\"Minor Warning\" TEXT, \n",
      "\t\"Terbium Manganese Iron Antimony Tellurium\" TEXT, \n",
      "\t\"A Si\" TEXT, \n",
      "\t\"Density Measured\" TEXT, \n",
      "\t\"Significant Warning\" TEXT, \n",
      "\t\"M\" TEXT, \n",
      "\t\"Major Warning\" TEXT, \n",
      "\t\"Part A\" TEXT, \n",
      "\t\"Ho\" TEXT, \n",
      "\t\"Cubic\" TEXT, \n",
      "\t\"Calculated Uik\" TEXT, \n",
      "\t\"Cell\" TEXT, \n",
      "\t\"Type\" TEXT, \n",
      "\t\"I\" TEXT, \n",
      "\t\"Dy\" TEXT, \n",
      "\t\"Tm\" TEXT, \n",
      "\t\"Prototype\" TEXT, \n",
      "\t\"Sample\" TEXT, \n",
      "\t\"Methanol\" TEXT, \n",
      "\t\"Also\" TEXT, \n",
      "\t\"Si\" TEXT, \n",
      "\t\"Effektive Mn Ladung\" TEXT, \n",
      "\t\"Remark\" TEXT, \n",
      "\t\"Nd S\" TEXT, \n",
      "\t\"Ru\" TEXT, \n",
      "\t\"Cl\" TEXT, \n",
      "\t\"Framework\" TEXT, \n",
      "\t\"Colour\" TEXT, \n",
      "\t\"Sistemi\" TEXT, \n",
      "\t\"Eu\" TEXT, \n",
      "\t\"Drei Schichtstrukturen\" TEXT, \n",
      "\t\"Structure\" TEXT, \n",
      "\t\"Struktur\" TEXT, \n",
      "\t\"H\" TEXT, \n",
      "\t\"Energy\" TEXT, \n",
      "\t\"Model I\" TEXT, \n",
      "\t\"Model B\" TEXT, \n",
      "\t\"In\" TEXT, \n",
      "\t\"Nanoparticles\" TEXT, \n",
      "\t\"Fe Ladungsverteilung\" TEXT, \n",
      "\t\"Neutrality\" TEXT, \n",
      "\t\"Charges\" TEXT, \n",
      "\t\"Charge Ti\" TEXT, \n",
      "\t\"Pure Si\" TEXT, \n",
      "\t\"Constraint\" TEXT, \n",
      "\t\"Phase E\" TEXT, \n",
      "\t\"Poster\" TEXT, \n",
      "\t\"Dy N\" TEXT, \n",
      "\t\"Sample Locality\" TEXT, \n",
      "\t\"Pure Pd\" TEXT, \n",
      "\t\"Pure Pt\" TEXT, \n",
      "\t\"Ge Te\" TEXT, \n",
      "\t\"Specimen\" TEXT, \n",
      "\t\"Habitus\" TEXT, \n",
      "\t\"Impurity\" TEXT, \n",
      "\t\"Ratio\" TEXT, \n",
      "\t\"Search Algorithm\" TEXT, \n",
      "\t\"Functional\" TEXT, \n",
      "\t\"Method\" TEXT, \n",
      "\t\"Code\" TEXT, \n",
      "\t\"Mg\" TEXT, \n",
      "\t\"Sintering Time\" TEXT, \n",
      "\t\"Occurence\" TEXT, \n",
      "\t\"Gd\" TEXT, \n",
      "\t\"La\" TEXT, \n",
      "\t\"Pr\" TEXT, \n",
      "\t\"Sm\" TEXT, \n",
      "\t\"Er\" TEXT, \n",
      "\t\"Yb\" TEXT, \n",
      "\t\"Tb\" TEXT, \n",
      "\t\"Formally C\" TEXT, \n",
      "\t\"C\" TEXT, \n",
      "\t\"Polytyp\" TEXT, \n",
      "\t\"Degree\" TEXT, \n",
      "\t\"Eventuell\" TEXT, \n",
      "\t\"R\" TEXT, \n",
      "\t\"The D\" TEXT, \n",
      "\t\"The H\" TEXT, \n",
      "\t\"The Cl\" TEXT, \n",
      "\t\"E\" TEXT, \n",
      "\t\"Azido\" TEXT, \n",
      "\t\"Patent\" TEXT, \n",
      "\t\"Compound Preparation\" TEXT, \n",
      "\t\"Klement\" TEXT, \n",
      "\t\"Bennet\" TEXT, \n",
      "\t\"Antimony Trifluoride\" TEXT, \n",
      "\t\"Laves Phase\" TEXT, \n",
      "\t\"Tungsten Tetrachloride\" TEXT, \n",
      "\t\"Monopotassium Pentachromium Octaselenide\" TEXT, \n",
      "\t\"Compound Formation\" TEXT, \n",
      "\t\"Part B\" TEXT, \n",
      "\t\"D\" TEXT, \n",
      "\t\"F\" TEXT, \n",
      "\t\"Trimetaphosphates\" TEXT, \n",
      "\t\"Powders\" TEXT, \n",
      "\t\"Caution\" TEXT, \n",
      "\t\"Disproportionation\" TEXT, \n",
      "\t\"Petersburg\" TEXT, \n",
      "\t\"Dissociation Pressure Measurements\" TEXT, \n",
      "\t\"China\" TEXT, \n",
      "\t\"X\" TEXT, \n",
      "\t\"Phasons\" TEXT, \n",
      "\t\"Homologous Series\" TEXT, \n",
      "\t\"Calc\" TEXT, \n",
      "\t\"Preparation Reference\" TEXT, \n",
      "\t\"Procedure\" TEXT, \n",
      "\t\"Solution\" TEXT, \n",
      "\t\"Slurry\" TEXT, \n",
      "\t\"Kneading\" TEXT, \n",
      "\t\"Solution B\" TEXT\n",
      ")\n",
      "\n",
      "/*\n",
      "3 rows from comments table:\n",
      "Unnamed: 0\tProductID\tFullComment\tWarning\tUnit Cell Data Source\tGeneral Comments\tReason O Quality Was Assigned\tDeleted Or Rejected By\tColor\tMelting Point\tWater Loss\tStructures\tOptical Data\tAdditional Patterns\tUnit Cell\tSample Preparation\tSublimation Point\tAnalysis\tDeleted\tBoiling Point\tArticle Title\tNote\tAdditional Diffraction Lines\tOpaque Optical Data\tDelete\tReflectance\tVickers Hardness Number\tComposition\tFluorescence\tBioactivity\tChemically Related\tReference\tPhase Transition\tPolymorphism\tLustre\tRef\tBorneo\tUtah\tPowder Data\tMonoclinic\tIn Situ Condition\tResearch Laboratory\tCu\tCa\tReferences\tReported\tTwinned\tFound\tSb\tFor Cu\tPreparation\tCalculated\tGe\tZn\tEditor\tPleochroism\tSynthesis\tSree Harsha\tSee\tPhase Diagram\tTriple Point\tAl\tMaterial\tFormula\tOxford\tTheory\tThermal Patterns\tAuthors Phase Designation\tReaction\tHabit\tTemperature\tScale Factors\tParabromochlorobenzene\tParachloroiodobenzene\tMoreiras\tImpurities\tScheib\tBulk Modulus\tSensitivity\tProcessing Information\tPneumonocosis\tScattering Factors\tWyckoff Sequence\tCalculated Pattern Original Remarks\tAtmosphere\tHypothetical Structure\tOccurrence\tSupercell\tN\tAverage\tRaw Data Comment\tOther Cell\tCompressibilities\tThe Ti\tThe Fe\tRefractive Index\tMetal\tSource\tB\tAbsolute Configuration\tIsomorphism\tAtomic Position\tSame Structure\tPrecursors\tTemperature Factor\tPart I\tData Collection\tFerromagnet\tMw\tMn\tAn Si\tYield\tAverage Mn\tThe Pt\tMicrostrain\tMagnetic Moment\tGeneral Formula\tAtomic Coordinates\tGeneral Name\tMinor Warning\tTerbium Manganese Iron Antimony Tellurium\tA Si\tDensity Measured\tSignificant Warning\tM\tMajor Warning\tPart A\tHo\tCubic\tCalculated Uik\tCell\tType\tI\tDy\tTm\tPrototype\tSample\tMethanol\tAlso\tSi\tEffektive Mn Ladung\tRemark\tNd S\tRu\tCl\tFramework\tColour\tSistemi\tEu\tDrei Schichtstrukturen\tStructure\tStruktur\tH\tEnergy\tModel I\tModel B\tIn\tNanoparticles\tFe Ladungsverteilung\tNeutrality\tCharges\tCharge Ti\tPure Si\tConstraint\tPhase E\tPoster\tDy N\tSample Locality\tPure Pd\tPure Pt\tGe Te\tSpecimen\tHabitus\tImpurity\tRatio\tSearch Algorithm\tFunctional\tMethod\tCode\tMg\tSintering Time\tOccurence\tGd\tLa\tPr\tSm\tEr\tYb\tTb\tFormally C\tC\tPolytyp\tDegree\tEventuell\tR\tThe D\tThe H\tThe Cl\tE\tAzido\tPatent\tCompound Preparation\tKlement\tBennet\tAntimony Trifluoride\tLaves Phase\tTungsten Tetrachloride\tMonopotassium Pentachromium Octaselenide\tCompound Formation\tPart B\tD\tF\tTrimetaphosphates\tPowders\tCaution\tDisproportionation\tPetersburg\tDissociation Pressure Measurements\tChina\tX\tPhasons\tHomologous Series\tCalc\tPreparation Reference\tProcedure\tSolution\tSlurry\tKneading\tSolution B\n",
      "0\t10001\tWarning: Unindexed pattern. Unit Cell Data Source: Powder Diffraction.\tUnindexed pattern\tPowder Diffraction\tNone\tNone\tNone\tNone\tNone\tNone\tNone\tNone\tNone\tNone\tNone\tNone\tNone\tNone\tNone\tNone\tNone\tNone\tNone\tNone\tNone\tNone\tNone\tNone\tNone\tNone\tNone\tNone\tNone\tNone\tNone\tNone\tNone\tNone\tNone\tNone\tNone\tNone\tNone\tNone\tNone\tNone\tNone\tNone\tNone\tNone\tNone\tNone\tNone\tNone\tNone\tNone\tNone\tNone\tNone\tNone\tNone\tNone\tNone\tNone\tNone\tNone\tNone\tNone\tNone\tNone\tNone\tNone\tNone\tNone\tNone\tNone\tNone\tNone\tNone\tNone\tNone\tNone\tNone\tNone\tNone\tNone\tNone\tNone\tNone\tNone\tNone\tNone\tNone\tNone\tNone\tNone\tNone\tNone\tNone\tNone\tNone\tNone\tNone\tNone\tNone\tNone\tNone\tNone\tNone\tNone\tNone\tNone\tNone\tNone\tNone\tNone\tNone\tNone\tNone\tNone\tNone\tNone\tNone\tNone\tNone\tNone\tNone\tNone\tNone\tNone\tNone\tNone\tNone\tNone\tNone\tNone\tNone\tNone\tNone\tNone\tNone\tNone\tNone\tNone\tNone\tNone\tNone\tNone\tNone\tNone\tNone\tNone\tNone\tNone\tNone\tNone\tNone\tNone\tNone\tNone\tNone\tNone\tNone\tNone\tNone\tNone\tNone\tNone\tNone\tNone\tNone\tNone\tNone\tNone\tNone\tNone\tNone\tNone\tNone\tNone\tNone\tNone\tNone\tNone\tNone\tNone\tNone\tNone\tNone\tNone\tNone\tNone\tNone\tNone\tNone\tNone\tNone\tNone\tNone\tNone\tNone\tNone\tNone\tNone\tNone\tNone\tNone\tNone\tNone\tNone\tNone\tNone\tNone\tNone\tNone\tNone\tNone\tNone\tNone\tNone\tNone\tNone\tNone\tNone\tNone\tNone\tNone\tNone\n",
      "1\t10002\tWarning: Unindexed pattern. Unit Cell Data Source: Powder Diffraction.\tUnindexed pattern\tPowder Diffraction\tNone\tNone\tNone\tNone\tNone\tNone\tNone\tNone\tNone\tNone\tNone\tNone\tNone\tNone\tNone\tNone\tNone\tNone\tNone\tNone\tNone\tNone\tNone\tNone\tNone\tNone\tNone\tNone\tNone\tNone\tNone\tNone\tNone\tNone\tNone\tNone\tNone\tNone\tNone\tNone\tNone\tNone\tNone\tNone\tNone\tNone\tNone\tNone\tNone\tNone\tNone\tNone\tNone\tNone\tNone\tNone\tNone\tNone\tNone\tNone\tNone\tNone\tNone\tNone\tNone\tNone\tNone\tNone\tNone\tNone\tNone\tNone\tNone\tNone\tNone\tNone\tNone\tNone\tNone\tNone\tNone\tNone\tNone\tNone\tNone\tNone\tNone\tNone\tNone\tNone\tNone\tNone\tNone\tNone\tNone\tNone\tNone\tNone\tNone\tNone\tNone\tNone\tNone\tNone\tNone\tNone\tNone\tNone\tNone\tNone\tNone\tNone\tNone\tNone\tNone\tNone\tNone\tNone\tNone\tNone\tNone\tNone\tNone\tNone\tNone\tNone\tNone\tNone\tNone\tNone\tNone\tNone\tNone\tNone\tNone\tNone\tNone\tNone\tNone\tNone\tNone\tNone\tNone\tNone\tNone\tNone\tNone\tNone\tNone\tNone\tNone\tNone\tNone\tNone\tNone\tNone\tNone\tNone\tNone\tNone\tNone\tNone\tNone\tNone\tNone\tNone\tNone\tNone\tNone\tNone\tNone\tNone\tNone\tNone\tNone\tNone\tNone\tNone\tNone\tNone\tNone\tNone\tNone\tNone\tNone\tNone\tNone\tNone\tNone\tNone\tNone\tNone\tNone\tNone\tNone\tNone\tNone\tNone\tNone\tNone\tNone\tNone\tNone\tNone\tNone\tNone\tNone\tNone\tNone\tNone\tNone\tNone\tNone\tNone\tNone\tNone\tNone\tNone\tNone\tNone\tNone\tNone\tNone\tNone\n",
      "2\t10003\tWarning: Unindexed pattern. Unit Cell Data Source: Powder Diffraction.\tUnindexed pattern\tPowder Diffraction\tNone\tNone\tNone\tNone\tNone\tNone\tNone\tNone\tNone\tNone\tNone\tNone\tNone\tNone\tNone\tNone\tNone\tNone\tNone\tNone\tNone\tNone\tNone\tNone\tNone\tNone\tNone\tNone\tNone\tNone\tNone\tNone\tNone\tNone\tNone\tNone\tNone\tNone\tNone\tNone\tNone\tNone\tNone\tNone\tNone\tNone\tNone\tNone\tNone\tNone\tNone\tNone\tNone\tNone\tNone\tNone\tNone\tNone\tNone\tNone\tNone\tNone\tNone\tNone\tNone\tNone\tNone\tNone\tNone\tNone\tNone\tNone\tNone\tNone\tNone\tNone\tNone\tNone\tNone\tNone\tNone\tNone\tNone\tNone\tNone\tNone\tNone\tNone\tNone\tNone\tNone\tNone\tNone\tNone\tNone\tNone\tNone\tNone\tNone\tNone\tNone\tNone\tNone\tNone\tNone\tNone\tNone\tNone\tNone\tNone\tNone\tNone\tNone\tNone\tNone\tNone\tNone\tNone\tNone\tNone\tNone\tNone\tNone\tNone\tNone\tNone\tNone\tNone\tNone\tNone\tNone\tNone\tNone\tNone\tNone\tNone\tNone\tNone\tNone\tNone\tNone\tNone\tNone\tNone\tNone\tNone\tNone\tNone\tNone\tNone\tNone\tNone\tNone\tNone\tNone\tNone\tNone\tNone\tNone\tNone\tNone\tNone\tNone\tNone\tNone\tNone\tNone\tNone\tNone\tNone\tNone\tNone\tNone\tNone\tNone\tNone\tNone\tNone\tNone\tNone\tNone\tNone\tNone\tNone\tNone\tNone\tNone\tNone\tNone\tNone\tNone\tNone\tNone\tNone\tNone\tNone\tNone\tNone\tNone\tNone\tNone\tNone\tNone\tNone\tNone\tNone\tNone\tNone\tNone\tNone\tNone\tNone\tNone\tNone\tNone\tNone\tNone\tNone\tNone\tNone\tNone\tNone\tNone\tNone\n",
      "*/\u001b[0m"
     ]
    },
    {
     "ename": "ValueError",
     "evalue": "An output parsing error occurred. In order to pass this error back to the agent and have it try again, pass `handle_parsing_errors=True` to the AgentExecutor. This is the error: Could not parse LLM output: `The`\nFor troubleshooting, visit: https://python.langchain.com/docs/troubleshooting/errors/OUTPUT_PARSING_FAILURE ",
     "output_type": "error",
     "traceback": [
      "\u001b[0;31m---------------------------------------------------------------------------\u001b[0m",
      "\u001b[0;31mOutputParserException\u001b[0m                     Traceback (most recent call last)",
      "File \u001b[0;32m~/.pyenv/versions/3.12.0/lib/python3.12/site-packages/langchain/agents/agent.py:1358\u001b[0m, in \u001b[0;36mAgentExecutor._iter_next_step\u001b[0;34m(self, name_to_tool_map, color_mapping, inputs, intermediate_steps, run_manager)\u001b[0m\n\u001b[1;32m   1357\u001b[0m     \u001b[38;5;66;03m# Call the LLM to see what to do.\u001b[39;00m\n\u001b[0;32m-> 1358\u001b[0m     output \u001b[38;5;241m=\u001b[39m \u001b[38;5;28;43mself\u001b[39;49m\u001b[38;5;241;43m.\u001b[39;49m\u001b[43m_action_agent\u001b[49m\u001b[38;5;241;43m.\u001b[39;49m\u001b[43mplan\u001b[49m\u001b[43m(\u001b[49m\n\u001b[1;32m   1359\u001b[0m \u001b[43m        \u001b[49m\u001b[43mintermediate_steps\u001b[49m\u001b[43m,\u001b[49m\n\u001b[1;32m   1360\u001b[0m \u001b[43m        \u001b[49m\u001b[43mcallbacks\u001b[49m\u001b[38;5;241;43m=\u001b[39;49m\u001b[43mrun_manager\u001b[49m\u001b[38;5;241;43m.\u001b[39;49m\u001b[43mget_child\u001b[49m\u001b[43m(\u001b[49m\u001b[43m)\u001b[49m\u001b[43m \u001b[49m\u001b[38;5;28;43;01mif\u001b[39;49;00m\u001b[43m \u001b[49m\u001b[43mrun_manager\u001b[49m\u001b[43m \u001b[49m\u001b[38;5;28;43;01melse\u001b[39;49;00m\u001b[43m \u001b[49m\u001b[38;5;28;43;01mNone\u001b[39;49;00m\u001b[43m,\u001b[49m\n\u001b[1;32m   1361\u001b[0m \u001b[43m        \u001b[49m\u001b[38;5;241;43m*\u001b[39;49m\u001b[38;5;241;43m*\u001b[39;49m\u001b[43minputs\u001b[49m\u001b[43m,\u001b[49m\n\u001b[1;32m   1362\u001b[0m \u001b[43m    \u001b[49m\u001b[43m)\u001b[49m\n\u001b[1;32m   1363\u001b[0m \u001b[38;5;28;01mexcept\u001b[39;00m OutputParserException \u001b[38;5;28;01mas\u001b[39;00m e:\n",
      "File \u001b[0;32m~/.pyenv/versions/3.12.0/lib/python3.12/site-packages/langchain/agents/agent.py:465\u001b[0m, in \u001b[0;36mRunnableAgent.plan\u001b[0;34m(self, intermediate_steps, callbacks, **kwargs)\u001b[0m\n\u001b[1;32m    458\u001b[0m \u001b[38;5;28;01mif\u001b[39;00m \u001b[38;5;28mself\u001b[39m\u001b[38;5;241m.\u001b[39mstream_runnable:\n\u001b[1;32m    459\u001b[0m     \u001b[38;5;66;03m# Use streaming to make sure that the underlying LLM is invoked in a\u001b[39;00m\n\u001b[1;32m    460\u001b[0m     \u001b[38;5;66;03m# streaming\u001b[39;00m\n\u001b[0;32m   (...)\u001b[0m\n\u001b[1;32m    463\u001b[0m     \u001b[38;5;66;03m# Because the response from the plan is not a generator, we need to\u001b[39;00m\n\u001b[1;32m    464\u001b[0m     \u001b[38;5;66;03m# accumulate the output into final output and return that.\u001b[39;00m\n\u001b[0;32m--> 465\u001b[0m \u001b[43m    \u001b[49m\u001b[38;5;28;43;01mfor\u001b[39;49;00m\u001b[43m \u001b[49m\u001b[43mchunk\u001b[49m\u001b[43m \u001b[49m\u001b[38;5;129;43;01min\u001b[39;49;00m\u001b[43m \u001b[49m\u001b[38;5;28;43mself\u001b[39;49m\u001b[38;5;241;43m.\u001b[39;49m\u001b[43mrunnable\u001b[49m\u001b[38;5;241;43m.\u001b[39;49m\u001b[43mstream\u001b[49m\u001b[43m(\u001b[49m\u001b[43minputs\u001b[49m\u001b[43m,\u001b[49m\u001b[43m \u001b[49m\u001b[43mconfig\u001b[49m\u001b[38;5;241;43m=\u001b[39;49m\u001b[43m{\u001b[49m\u001b[38;5;124;43m\"\u001b[39;49m\u001b[38;5;124;43mcallbacks\u001b[39;49m\u001b[38;5;124;43m\"\u001b[39;49m\u001b[43m:\u001b[49m\u001b[43m \u001b[49m\u001b[43mcallbacks\u001b[49m\u001b[43m}\u001b[49m\u001b[43m)\u001b[49m\u001b[43m:\u001b[49m\n\u001b[1;32m    466\u001b[0m \u001b[43m        \u001b[49m\u001b[38;5;28;43;01mif\u001b[39;49;00m\u001b[43m \u001b[49m\u001b[43mfinal_output\u001b[49m\u001b[43m \u001b[49m\u001b[38;5;129;43;01mis\u001b[39;49;00m\u001b[43m \u001b[49m\u001b[38;5;28;43;01mNone\u001b[39;49;00m\u001b[43m:\u001b[49m\n",
      "File \u001b[0;32m~/.pyenv/versions/3.12.0/lib/python3.12/site-packages/langchain_core/runnables/base.py:3440\u001b[0m, in \u001b[0;36mRunnableSequence.stream\u001b[0;34m(self, input, config, **kwargs)\u001b[0m\n\u001b[1;32m   3433\u001b[0m \u001b[38;5;129m@override\u001b[39m\n\u001b[1;32m   3434\u001b[0m \u001b[38;5;28;01mdef\u001b[39;00m\u001b[38;5;250m \u001b[39m\u001b[38;5;21mstream\u001b[39m(\n\u001b[1;32m   3435\u001b[0m     \u001b[38;5;28mself\u001b[39m,\n\u001b[0;32m   (...)\u001b[0m\n\u001b[1;32m   3438\u001b[0m     \u001b[38;5;241m*\u001b[39m\u001b[38;5;241m*\u001b[39mkwargs: Optional[Any],\n\u001b[1;32m   3439\u001b[0m ) \u001b[38;5;241m-\u001b[39m\u001b[38;5;241m>\u001b[39m Iterator[Output]:\n\u001b[0;32m-> 3440\u001b[0m     \u001b[38;5;28;01myield from\u001b[39;00m \u001b[38;5;28mself\u001b[39m\u001b[38;5;241m.\u001b[39mtransform(\u001b[38;5;28miter\u001b[39m([\u001b[38;5;28minput\u001b[39m]), config, \u001b[38;5;241m*\u001b[39m\u001b[38;5;241m*\u001b[39mkwargs)\n",
      "File \u001b[0;32m~/.pyenv/versions/3.12.0/lib/python3.12/site-packages/langchain_core/runnables/base.py:3426\u001b[0m, in \u001b[0;36mRunnableSequence.transform\u001b[0;34m(self, input, config, **kwargs)\u001b[0m\n\u001b[1;32m   3419\u001b[0m \u001b[38;5;129m@override\u001b[39m\n\u001b[1;32m   3420\u001b[0m \u001b[38;5;28;01mdef\u001b[39;00m\u001b[38;5;250m \u001b[39m\u001b[38;5;21mtransform\u001b[39m(\n\u001b[1;32m   3421\u001b[0m     \u001b[38;5;28mself\u001b[39m,\n\u001b[0;32m   (...)\u001b[0m\n\u001b[1;32m   3424\u001b[0m     \u001b[38;5;241m*\u001b[39m\u001b[38;5;241m*\u001b[39mkwargs: Optional[Any],\n\u001b[1;32m   3425\u001b[0m ) \u001b[38;5;241m-\u001b[39m\u001b[38;5;241m>\u001b[39m Iterator[Output]:\n\u001b[0;32m-> 3426\u001b[0m     \u001b[38;5;28;01myield from\u001b[39;00m \u001b[38;5;28mself\u001b[39m\u001b[38;5;241m.\u001b[39m_transform_stream_with_config(\n\u001b[1;32m   3427\u001b[0m         \u001b[38;5;28minput\u001b[39m,\n\u001b[1;32m   3428\u001b[0m         \u001b[38;5;28mself\u001b[39m\u001b[38;5;241m.\u001b[39m_transform,\n\u001b[1;32m   3429\u001b[0m         patch_config(config, run_name\u001b[38;5;241m=\u001b[39m(config \u001b[38;5;129;01mor\u001b[39;00m {})\u001b[38;5;241m.\u001b[39mget(\u001b[38;5;124m\"\u001b[39m\u001b[38;5;124mrun_name\u001b[39m\u001b[38;5;124m\"\u001b[39m) \u001b[38;5;129;01mor\u001b[39;00m \u001b[38;5;28mself\u001b[39m\u001b[38;5;241m.\u001b[39mname),\n\u001b[1;32m   3430\u001b[0m         \u001b[38;5;241m*\u001b[39m\u001b[38;5;241m*\u001b[39mkwargs,\n\u001b[1;32m   3431\u001b[0m     )\n",
      "File \u001b[0;32m~/.pyenv/versions/3.12.0/lib/python3.12/site-packages/langchain_core/runnables/base.py:2211\u001b[0m, in \u001b[0;36mRunnable._transform_stream_with_config\u001b[0;34m(self, input, transformer, config, run_type, **kwargs)\u001b[0m\n\u001b[1;32m   2210\u001b[0m \u001b[38;5;28;01mwhile\u001b[39;00m \u001b[38;5;28;01mTrue\u001b[39;00m:\n\u001b[0;32m-> 2211\u001b[0m     chunk: Output \u001b[38;5;241m=\u001b[39m \u001b[43mcontext\u001b[49m\u001b[38;5;241;43m.\u001b[39;49m\u001b[43mrun\u001b[49m\u001b[43m(\u001b[49m\u001b[38;5;28;43mnext\u001b[39;49m\u001b[43m,\u001b[49m\u001b[43m \u001b[49m\u001b[43miterator\u001b[49m\u001b[43m)\u001b[49m  \u001b[38;5;66;03m# type: ignore\u001b[39;00m\n\u001b[1;32m   2212\u001b[0m     \u001b[38;5;28;01myield\u001b[39;00m chunk\n",
      "File \u001b[0;32m~/.pyenv/versions/3.12.0/lib/python3.12/site-packages/langchain_core/runnables/base.py:3388\u001b[0m, in \u001b[0;36mRunnableSequence._transform\u001b[0;34m(self, input, run_manager, config, **kwargs)\u001b[0m\n\u001b[1;32m   3386\u001b[0m         final_pipeline \u001b[38;5;241m=\u001b[39m step\u001b[38;5;241m.\u001b[39mtransform(final_pipeline, config)\n\u001b[0;32m-> 3388\u001b[0m \u001b[38;5;28;01myield from\u001b[39;00m final_pipeline\n",
      "File \u001b[0;32m~/.pyenv/versions/3.12.0/lib/python3.12/site-packages/langchain_core/runnables/base.py:1436\u001b[0m, in \u001b[0;36mRunnable.transform\u001b[0;34m(self, input, config, **kwargs)\u001b[0m\n\u001b[1;32m   1435\u001b[0m \u001b[38;5;28;01mif\u001b[39;00m got_first_val:\n\u001b[0;32m-> 1436\u001b[0m     \u001b[38;5;28;01myield from\u001b[39;00m \u001b[38;5;28mself\u001b[39m\u001b[38;5;241m.\u001b[39mstream(final, config, \u001b[38;5;241m*\u001b[39m\u001b[38;5;241m*\u001b[39mkwargs)\n",
      "File \u001b[0;32m~/.pyenv/versions/3.12.0/lib/python3.12/site-packages/langchain_core/runnables/base.py:1003\u001b[0m, in \u001b[0;36mRunnable.stream\u001b[0;34m(self, input, config, **kwargs)\u001b[0m\n\u001b[1;32m    991\u001b[0m \u001b[38;5;250m\u001b[39m\u001b[38;5;124;03m\"\"\"Default implementation of stream, which calls invoke.\u001b[39;00m\n\u001b[1;32m    992\u001b[0m \n\u001b[1;32m    993\u001b[0m \u001b[38;5;124;03mSubclasses should override this method if they support streaming output.\u001b[39;00m\n\u001b[0;32m   (...)\u001b[0m\n\u001b[1;32m   1001\u001b[0m \u001b[38;5;124;03m    The output of the Runnable.\u001b[39;00m\n\u001b[1;32m   1002\u001b[0m \u001b[38;5;124;03m\"\"\"\u001b[39;00m\n\u001b[0;32m-> 1003\u001b[0m \u001b[38;5;28;01myield\u001b[39;00m \u001b[38;5;28;43mself\u001b[39;49m\u001b[38;5;241;43m.\u001b[39;49m\u001b[43minvoke\u001b[49m\u001b[43m(\u001b[49m\u001b[38;5;28;43minput\u001b[39;49m\u001b[43m,\u001b[49m\u001b[43m \u001b[49m\u001b[43mconfig\u001b[49m\u001b[43m,\u001b[49m\u001b[43m \u001b[49m\u001b[38;5;241;43m*\u001b[39;49m\u001b[38;5;241;43m*\u001b[39;49m\u001b[43mkwargs\u001b[49m\u001b[43m)\u001b[49m\n",
      "File \u001b[0;32m~/.pyenv/versions/3.12.0/lib/python3.12/site-packages/langchain_core/output_parsers/base.py:196\u001b[0m, in \u001b[0;36mBaseOutputParser.invoke\u001b[0;34m(self, input, config, **kwargs)\u001b[0m\n\u001b[1;32m    195\u001b[0m \u001b[38;5;28;01mif\u001b[39;00m \u001b[38;5;28misinstance\u001b[39m(\u001b[38;5;28minput\u001b[39m, BaseMessage):\n\u001b[0;32m--> 196\u001b[0m     \u001b[38;5;28;01mreturn\u001b[39;00m \u001b[38;5;28;43mself\u001b[39;49m\u001b[38;5;241;43m.\u001b[39;49m\u001b[43m_call_with_config\u001b[49m\u001b[43m(\u001b[49m\n\u001b[1;32m    197\u001b[0m \u001b[43m        \u001b[49m\u001b[38;5;28;43;01mlambda\u001b[39;49;00m\u001b[43m \u001b[49m\u001b[43minner_input\u001b[49m\u001b[43m:\u001b[49m\u001b[43m \u001b[49m\u001b[38;5;28;43mself\u001b[39;49m\u001b[38;5;241;43m.\u001b[39;49m\u001b[43mparse_result\u001b[49m\u001b[43m(\u001b[49m\n\u001b[1;32m    198\u001b[0m \u001b[43m            \u001b[49m\u001b[43m[\u001b[49m\u001b[43mChatGeneration\u001b[49m\u001b[43m(\u001b[49m\u001b[43mmessage\u001b[49m\u001b[38;5;241;43m=\u001b[39;49m\u001b[43minner_input\u001b[49m\u001b[43m)\u001b[49m\u001b[43m]\u001b[49m\n\u001b[1;32m    199\u001b[0m \u001b[43m        \u001b[49m\u001b[43m)\u001b[49m\u001b[43m,\u001b[49m\n\u001b[1;32m    200\u001b[0m \u001b[43m        \u001b[49m\u001b[38;5;28;43minput\u001b[39;49m\u001b[43m,\u001b[49m\n\u001b[1;32m    201\u001b[0m \u001b[43m        \u001b[49m\u001b[43mconfig\u001b[49m\u001b[43m,\u001b[49m\n\u001b[1;32m    202\u001b[0m \u001b[43m        \u001b[49m\u001b[43mrun_type\u001b[49m\u001b[38;5;241;43m=\u001b[39;49m\u001b[38;5;124;43m\"\u001b[39;49m\u001b[38;5;124;43mparser\u001b[39;49m\u001b[38;5;124;43m\"\u001b[39;49m\u001b[43m,\u001b[49m\n\u001b[1;32m    203\u001b[0m \u001b[43m    \u001b[49m\u001b[43m)\u001b[49m\n\u001b[1;32m    204\u001b[0m \u001b[38;5;28;01mreturn\u001b[39;00m \u001b[38;5;28mself\u001b[39m\u001b[38;5;241m.\u001b[39m_call_with_config(\n\u001b[1;32m    205\u001b[0m     \u001b[38;5;28;01mlambda\u001b[39;00m inner_input: \u001b[38;5;28mself\u001b[39m\u001b[38;5;241m.\u001b[39mparse_result([Generation(text\u001b[38;5;241m=\u001b[39minner_input)]),\n\u001b[1;32m    206\u001b[0m     \u001b[38;5;28minput\u001b[39m,\n\u001b[1;32m    207\u001b[0m     config,\n\u001b[1;32m    208\u001b[0m     run_type\u001b[38;5;241m=\u001b[39m\u001b[38;5;124m\"\u001b[39m\u001b[38;5;124mparser\u001b[39m\u001b[38;5;124m\"\u001b[39m,\n\u001b[1;32m    209\u001b[0m )\n",
      "File \u001b[0;32m~/.pyenv/versions/3.12.0/lib/python3.12/site-packages/langchain_core/runnables/base.py:1933\u001b[0m, in \u001b[0;36mRunnable._call_with_config\u001b[0;34m(self, func, input, config, run_type, serialized, **kwargs)\u001b[0m\n\u001b[1;32m   1930\u001b[0m     \u001b[38;5;28;01mwith\u001b[39;00m set_config_context(child_config) \u001b[38;5;28;01mas\u001b[39;00m context:\n\u001b[1;32m   1931\u001b[0m         output \u001b[38;5;241m=\u001b[39m cast(\n\u001b[1;32m   1932\u001b[0m             \u001b[38;5;124m\"\u001b[39m\u001b[38;5;124mOutput\u001b[39m\u001b[38;5;124m\"\u001b[39m,\n\u001b[0;32m-> 1933\u001b[0m             \u001b[43mcontext\u001b[49m\u001b[38;5;241;43m.\u001b[39;49m\u001b[43mrun\u001b[49m\u001b[43m(\u001b[49m\n\u001b[1;32m   1934\u001b[0m \u001b[43m                \u001b[49m\u001b[43mcall_func_with_variable_args\u001b[49m\u001b[43m,\u001b[49m\u001b[43m  \u001b[49m\u001b[38;5;66;43;03m# type: ignore[arg-type]\u001b[39;49;00m\n\u001b[1;32m   1935\u001b[0m \u001b[43m                \u001b[49m\u001b[43mfunc\u001b[49m\u001b[43m,\u001b[49m\u001b[43m  \u001b[49m\u001b[38;5;66;43;03m# type: ignore[arg-type]\u001b[39;49;00m\n\u001b[1;32m   1936\u001b[0m \u001b[43m                \u001b[49m\u001b[38;5;28;43minput\u001b[39;49m\u001b[43m,\u001b[49m\u001b[43m  \u001b[49m\u001b[38;5;66;43;03m# type: ignore[arg-type]\u001b[39;49;00m\n\u001b[1;32m   1937\u001b[0m \u001b[43m                \u001b[49m\u001b[43mconfig\u001b[49m\u001b[43m,\u001b[49m\n\u001b[1;32m   1938\u001b[0m \u001b[43m                \u001b[49m\u001b[43mrun_manager\u001b[49m\u001b[43m,\u001b[49m\n\u001b[1;32m   1939\u001b[0m \u001b[43m                \u001b[49m\u001b[38;5;241;43m*\u001b[39;49m\u001b[38;5;241;43m*\u001b[39;49m\u001b[43mkwargs\u001b[49m\u001b[43m,\u001b[49m\n\u001b[1;32m   1940\u001b[0m \u001b[43m            \u001b[49m\u001b[43m)\u001b[49m,\n\u001b[1;32m   1941\u001b[0m         )\n\u001b[1;32m   1942\u001b[0m \u001b[38;5;28;01mexcept\u001b[39;00m \u001b[38;5;167;01mBaseException\u001b[39;00m \u001b[38;5;28;01mas\u001b[39;00m e:\n",
      "File \u001b[0;32m~/.pyenv/versions/3.12.0/lib/python3.12/site-packages/langchain_core/runnables/config.py:428\u001b[0m, in \u001b[0;36mcall_func_with_variable_args\u001b[0;34m(func, input, config, run_manager, **kwargs)\u001b[0m\n\u001b[1;32m    427\u001b[0m     kwargs[\u001b[38;5;124m\"\u001b[39m\u001b[38;5;124mrun_manager\u001b[39m\u001b[38;5;124m\"\u001b[39m] \u001b[38;5;241m=\u001b[39m run_manager\n\u001b[0;32m--> 428\u001b[0m \u001b[38;5;28;01mreturn\u001b[39;00m \u001b[43mfunc\u001b[49m\u001b[43m(\u001b[49m\u001b[38;5;28;43minput\u001b[39;49m\u001b[43m,\u001b[49m\u001b[43m \u001b[49m\u001b[38;5;241;43m*\u001b[39;49m\u001b[38;5;241;43m*\u001b[39;49m\u001b[43mkwargs\u001b[49m\u001b[43m)\u001b[49m\n",
      "File \u001b[0;32m~/.pyenv/versions/3.12.0/lib/python3.12/site-packages/langchain_core/output_parsers/base.py:197\u001b[0m, in \u001b[0;36mBaseOutputParser.invoke.<locals>.<lambda>\u001b[0;34m(inner_input)\u001b[0m\n\u001b[1;32m    195\u001b[0m \u001b[38;5;28;01mif\u001b[39;00m \u001b[38;5;28misinstance\u001b[39m(\u001b[38;5;28minput\u001b[39m, BaseMessage):\n\u001b[1;32m    196\u001b[0m     \u001b[38;5;28;01mreturn\u001b[39;00m \u001b[38;5;28mself\u001b[39m\u001b[38;5;241m.\u001b[39m_call_with_config(\n\u001b[0;32m--> 197\u001b[0m         \u001b[38;5;28;01mlambda\u001b[39;00m inner_input: \u001b[38;5;28;43mself\u001b[39;49m\u001b[38;5;241;43m.\u001b[39;49m\u001b[43mparse_result\u001b[49m\u001b[43m(\u001b[49m\n\u001b[1;32m    198\u001b[0m \u001b[43m            \u001b[49m\u001b[43m[\u001b[49m\u001b[43mChatGeneration\u001b[49m\u001b[43m(\u001b[49m\u001b[43mmessage\u001b[49m\u001b[38;5;241;43m=\u001b[39;49m\u001b[43minner_input\u001b[49m\u001b[43m)\u001b[49m\u001b[43m]\u001b[49m\n\u001b[1;32m    199\u001b[0m \u001b[43m        \u001b[49m\u001b[43m)\u001b[49m,\n\u001b[1;32m    200\u001b[0m         \u001b[38;5;28minput\u001b[39m,\n\u001b[1;32m    201\u001b[0m         config,\n\u001b[1;32m    202\u001b[0m         run_type\u001b[38;5;241m=\u001b[39m\u001b[38;5;124m\"\u001b[39m\u001b[38;5;124mparser\u001b[39m\u001b[38;5;124m\"\u001b[39m,\n\u001b[1;32m    203\u001b[0m     )\n\u001b[1;32m    204\u001b[0m \u001b[38;5;28;01mreturn\u001b[39;00m \u001b[38;5;28mself\u001b[39m\u001b[38;5;241m.\u001b[39m_call_with_config(\n\u001b[1;32m    205\u001b[0m     \u001b[38;5;28;01mlambda\u001b[39;00m inner_input: \u001b[38;5;28mself\u001b[39m\u001b[38;5;241m.\u001b[39mparse_result([Generation(text\u001b[38;5;241m=\u001b[39minner_input)]),\n\u001b[1;32m    206\u001b[0m     \u001b[38;5;28minput\u001b[39m,\n\u001b[1;32m    207\u001b[0m     config,\n\u001b[1;32m    208\u001b[0m     run_type\u001b[38;5;241m=\u001b[39m\u001b[38;5;124m\"\u001b[39m\u001b[38;5;124mparser\u001b[39m\u001b[38;5;124m\"\u001b[39m,\n\u001b[1;32m    209\u001b[0m )\n",
      "File \u001b[0;32m~/.pyenv/versions/3.12.0/lib/python3.12/site-packages/langchain_core/output_parsers/base.py:249\u001b[0m, in \u001b[0;36mBaseOutputParser.parse_result\u001b[0;34m(self, result, partial)\u001b[0m\n\u001b[1;32m    235\u001b[0m \u001b[38;5;250m\u001b[39m\u001b[38;5;124;03m\"\"\"Parse a list of candidate model Generations into a specific format.\u001b[39;00m\n\u001b[1;32m    236\u001b[0m \n\u001b[1;32m    237\u001b[0m \u001b[38;5;124;03mThe return value is parsed from only the first Generation in the result, which\u001b[39;00m\n\u001b[0;32m   (...)\u001b[0m\n\u001b[1;32m    247\u001b[0m \u001b[38;5;124;03m    Structured output.\u001b[39;00m\n\u001b[1;32m    248\u001b[0m \u001b[38;5;124;03m\"\"\"\u001b[39;00m\n\u001b[0;32m--> 249\u001b[0m \u001b[38;5;28;01mreturn\u001b[39;00m \u001b[38;5;28;43mself\u001b[39;49m\u001b[38;5;241;43m.\u001b[39;49m\u001b[43mparse\u001b[49m\u001b[43m(\u001b[49m\u001b[43mresult\u001b[49m\u001b[43m[\u001b[49m\u001b[38;5;241;43m0\u001b[39;49m\u001b[43m]\u001b[49m\u001b[38;5;241;43m.\u001b[39;49m\u001b[43mtext\u001b[49m\u001b[43m)\u001b[49m\n",
      "File \u001b[0;32m~/.pyenv/versions/3.12.0/lib/python3.12/site-packages/langchain/agents/output_parsers/react_single_input.py:75\u001b[0m, in \u001b[0;36mReActSingleInputOutputParser.parse\u001b[0;34m(self, text)\u001b[0m\n\u001b[1;32m     74\u001b[0m \u001b[38;5;28;01mif\u001b[39;00m \u001b[38;5;129;01mnot\u001b[39;00m re\u001b[38;5;241m.\u001b[39msearch(\u001b[38;5;124mr\u001b[39m\u001b[38;5;124m\"\u001b[39m\u001b[38;5;124mAction\u001b[39m\u001b[38;5;124m\\\u001b[39m\u001b[38;5;124ms*\u001b[39m\u001b[38;5;124m\\\u001b[39m\u001b[38;5;124md*\u001b[39m\u001b[38;5;124m\\\u001b[39m\u001b[38;5;124ms*:[\u001b[39m\u001b[38;5;124m\\\u001b[39m\u001b[38;5;124ms]*(.*?)\u001b[39m\u001b[38;5;124m\"\u001b[39m, text, re\u001b[38;5;241m.\u001b[39mDOTALL):\n\u001b[0;32m---> 75\u001b[0m     \u001b[38;5;28;01mraise\u001b[39;00m OutputParserException(\n\u001b[1;32m     76\u001b[0m         \u001b[38;5;124mf\u001b[39m\u001b[38;5;124m\"\u001b[39m\u001b[38;5;124mCould not parse LLM output: `\u001b[39m\u001b[38;5;132;01m{\u001b[39;00mtext\u001b[38;5;132;01m}\u001b[39;00m\u001b[38;5;124m`\u001b[39m\u001b[38;5;124m\"\u001b[39m,\n\u001b[1;32m     77\u001b[0m         observation\u001b[38;5;241m=\u001b[39mMISSING_ACTION_AFTER_THOUGHT_ERROR_MESSAGE,\n\u001b[1;32m     78\u001b[0m         llm_output\u001b[38;5;241m=\u001b[39mtext,\n\u001b[1;32m     79\u001b[0m         send_to_llm\u001b[38;5;241m=\u001b[39m\u001b[38;5;28;01mTrue\u001b[39;00m,\n\u001b[1;32m     80\u001b[0m     )\n\u001b[1;32m     81\u001b[0m \u001b[38;5;28;01melif\u001b[39;00m \u001b[38;5;129;01mnot\u001b[39;00m re\u001b[38;5;241m.\u001b[39msearch(\n\u001b[1;32m     82\u001b[0m     \u001b[38;5;124mr\u001b[39m\u001b[38;5;124m\"\u001b[39m\u001b[38;5;124m[\u001b[39m\u001b[38;5;124m\\\u001b[39m\u001b[38;5;124ms]*Action\u001b[39m\u001b[38;5;124m\\\u001b[39m\u001b[38;5;124ms*\u001b[39m\u001b[38;5;124m\\\u001b[39m\u001b[38;5;124md*\u001b[39m\u001b[38;5;124m\\\u001b[39m\u001b[38;5;124ms*Input\u001b[39m\u001b[38;5;124m\\\u001b[39m\u001b[38;5;124ms*\u001b[39m\u001b[38;5;124m\\\u001b[39m\u001b[38;5;124md*\u001b[39m\u001b[38;5;124m\\\u001b[39m\u001b[38;5;124ms*:[\u001b[39m\u001b[38;5;124m\\\u001b[39m\u001b[38;5;124ms]*(.*)\u001b[39m\u001b[38;5;124m\"\u001b[39m, text, re\u001b[38;5;241m.\u001b[39mDOTALL\n\u001b[1;32m     83\u001b[0m ):\n",
      "\u001b[0;31mOutputParserException\u001b[0m: Could not parse LLM output: `The`\nFor troubleshooting, visit: https://python.langchain.com/docs/troubleshooting/errors/OUTPUT_PARSING_FAILURE ",
      "\nDuring handling of the above exception, another exception occurred:\n",
      "\u001b[0;31mValueError\u001b[0m                                Traceback (most recent call last)",
      "Cell \u001b[0;32mIn[68], line 15\u001b[0m\n\u001b[1;32m     12\u001b[0m agent \u001b[38;5;241m=\u001b[39m create_sql_agent(llm\u001b[38;5;241m=\u001b[39mllm, toolkit\u001b[38;5;241m=\u001b[39mtoolkit, verbose\u001b[38;5;241m=\u001b[39m\u001b[38;5;28;01mTrue\u001b[39;00m, handle_parsing_errors\u001b[38;5;241m=\u001b[39m\u001b[38;5;28;01mTrue\u001b[39;00m)\n\u001b[1;32m     14\u001b[0m \u001b[38;5;66;03m# Step 3: Ask a question\u001b[39;00m\n\u001b[0;32m---> 15\u001b[0m response \u001b[38;5;241m=\u001b[39m \u001b[43magent\u001b[49m\u001b[38;5;241;43m.\u001b[39;49m\u001b[43minvoke\u001b[49m\u001b[43m(\u001b[49m\u001b[43m{\u001b[49m\u001b[38;5;124;43m\"\u001b[39;49m\u001b[38;5;124;43minput\u001b[39;49m\u001b[38;5;124;43m\"\u001b[39;49m\u001b[43m:\u001b[49m\u001b[43m \u001b[49m\u001b[38;5;124;43m\"\u001b[39;49m\u001b[38;5;124;43mHow many entries have melting points in the comments table?\u001b[39;49m\u001b[38;5;124;43m\"\u001b[39;49m\u001b[43m}\u001b[49m\u001b[43m)\u001b[49m\n\u001b[1;32m     16\u001b[0m \u001b[38;5;28mprint\u001b[39m(response)\n",
      "File \u001b[0;32m~/.pyenv/versions/3.12.0/lib/python3.12/site-packages/langchain/chains/base.py:170\u001b[0m, in \u001b[0;36mChain.invoke\u001b[0;34m(self, input, config, **kwargs)\u001b[0m\n\u001b[1;32m    168\u001b[0m \u001b[38;5;28;01mexcept\u001b[39;00m \u001b[38;5;167;01mBaseException\u001b[39;00m \u001b[38;5;28;01mas\u001b[39;00m e:\n\u001b[1;32m    169\u001b[0m     run_manager\u001b[38;5;241m.\u001b[39mon_chain_error(e)\n\u001b[0;32m--> 170\u001b[0m     \u001b[38;5;28;01mraise\u001b[39;00m e\n\u001b[1;32m    171\u001b[0m run_manager\u001b[38;5;241m.\u001b[39mon_chain_end(outputs)\n\u001b[1;32m    173\u001b[0m \u001b[38;5;28;01mif\u001b[39;00m include_run_info:\n",
      "File \u001b[0;32m~/.pyenv/versions/3.12.0/lib/python3.12/site-packages/langchain/chains/base.py:160\u001b[0m, in \u001b[0;36mChain.invoke\u001b[0;34m(self, input, config, **kwargs)\u001b[0m\n\u001b[1;32m    157\u001b[0m \u001b[38;5;28;01mtry\u001b[39;00m:\n\u001b[1;32m    158\u001b[0m     \u001b[38;5;28mself\u001b[39m\u001b[38;5;241m.\u001b[39m_validate_inputs(inputs)\n\u001b[1;32m    159\u001b[0m     outputs \u001b[38;5;241m=\u001b[39m (\n\u001b[0;32m--> 160\u001b[0m         \u001b[38;5;28;43mself\u001b[39;49m\u001b[38;5;241;43m.\u001b[39;49m\u001b[43m_call\u001b[49m\u001b[43m(\u001b[49m\u001b[43minputs\u001b[49m\u001b[43m,\u001b[49m\u001b[43m \u001b[49m\u001b[43mrun_manager\u001b[49m\u001b[38;5;241;43m=\u001b[39;49m\u001b[43mrun_manager\u001b[49m\u001b[43m)\u001b[49m\n\u001b[1;32m    161\u001b[0m         \u001b[38;5;28;01mif\u001b[39;00m new_arg_supported\n\u001b[1;32m    162\u001b[0m         \u001b[38;5;28;01melse\u001b[39;00m \u001b[38;5;28mself\u001b[39m\u001b[38;5;241m.\u001b[39m_call(inputs)\n\u001b[1;32m    163\u001b[0m     )\n\u001b[1;32m    165\u001b[0m     final_outputs: Dict[\u001b[38;5;28mstr\u001b[39m, Any] \u001b[38;5;241m=\u001b[39m \u001b[38;5;28mself\u001b[39m\u001b[38;5;241m.\u001b[39mprep_outputs(\n\u001b[1;32m    166\u001b[0m         inputs, outputs, return_only_outputs\n\u001b[1;32m    167\u001b[0m     )\n\u001b[1;32m    168\u001b[0m \u001b[38;5;28;01mexcept\u001b[39;00m \u001b[38;5;167;01mBaseException\u001b[39;00m \u001b[38;5;28;01mas\u001b[39;00m e:\n",
      "File \u001b[0;32m~/.pyenv/versions/3.12.0/lib/python3.12/site-packages/langchain/agents/agent.py:1624\u001b[0m, in \u001b[0;36mAgentExecutor._call\u001b[0;34m(self, inputs, run_manager)\u001b[0m\n\u001b[1;32m   1622\u001b[0m \u001b[38;5;66;03m# We now enter the agent loop (until it returns something).\u001b[39;00m\n\u001b[1;32m   1623\u001b[0m \u001b[38;5;28;01mwhile\u001b[39;00m \u001b[38;5;28mself\u001b[39m\u001b[38;5;241m.\u001b[39m_should_continue(iterations, time_elapsed):\n\u001b[0;32m-> 1624\u001b[0m     next_step_output \u001b[38;5;241m=\u001b[39m \u001b[38;5;28;43mself\u001b[39;49m\u001b[38;5;241;43m.\u001b[39;49m\u001b[43m_take_next_step\u001b[49m\u001b[43m(\u001b[49m\n\u001b[1;32m   1625\u001b[0m \u001b[43m        \u001b[49m\u001b[43mname_to_tool_map\u001b[49m\u001b[43m,\u001b[49m\n\u001b[1;32m   1626\u001b[0m \u001b[43m        \u001b[49m\u001b[43mcolor_mapping\u001b[49m\u001b[43m,\u001b[49m\n\u001b[1;32m   1627\u001b[0m \u001b[43m        \u001b[49m\u001b[43minputs\u001b[49m\u001b[43m,\u001b[49m\n\u001b[1;32m   1628\u001b[0m \u001b[43m        \u001b[49m\u001b[43mintermediate_steps\u001b[49m\u001b[43m,\u001b[49m\n\u001b[1;32m   1629\u001b[0m \u001b[43m        \u001b[49m\u001b[43mrun_manager\u001b[49m\u001b[38;5;241;43m=\u001b[39;49m\u001b[43mrun_manager\u001b[49m\u001b[43m,\u001b[49m\n\u001b[1;32m   1630\u001b[0m \u001b[43m    \u001b[49m\u001b[43m)\u001b[49m\n\u001b[1;32m   1631\u001b[0m     \u001b[38;5;28;01mif\u001b[39;00m \u001b[38;5;28misinstance\u001b[39m(next_step_output, AgentFinish):\n\u001b[1;32m   1632\u001b[0m         \u001b[38;5;28;01mreturn\u001b[39;00m \u001b[38;5;28mself\u001b[39m\u001b[38;5;241m.\u001b[39m_return(\n\u001b[1;32m   1633\u001b[0m             next_step_output, intermediate_steps, run_manager\u001b[38;5;241m=\u001b[39mrun_manager\n\u001b[1;32m   1634\u001b[0m         )\n",
      "File \u001b[0;32m~/.pyenv/versions/3.12.0/lib/python3.12/site-packages/langchain/agents/agent.py:1330\u001b[0m, in \u001b[0;36mAgentExecutor._take_next_step\u001b[0;34m(self, name_to_tool_map, color_mapping, inputs, intermediate_steps, run_manager)\u001b[0m\n\u001b[1;32m   1321\u001b[0m \u001b[38;5;28;01mdef\u001b[39;00m\u001b[38;5;250m \u001b[39m\u001b[38;5;21m_take_next_step\u001b[39m(\n\u001b[1;32m   1322\u001b[0m     \u001b[38;5;28mself\u001b[39m,\n\u001b[1;32m   1323\u001b[0m     name_to_tool_map: Dict[\u001b[38;5;28mstr\u001b[39m, BaseTool],\n\u001b[0;32m   (...)\u001b[0m\n\u001b[1;32m   1327\u001b[0m     run_manager: Optional[CallbackManagerForChainRun] \u001b[38;5;241m=\u001b[39m \u001b[38;5;28;01mNone\u001b[39;00m,\n\u001b[1;32m   1328\u001b[0m ) \u001b[38;5;241m-\u001b[39m\u001b[38;5;241m>\u001b[39m Union[AgentFinish, List[Tuple[AgentAction, \u001b[38;5;28mstr\u001b[39m]]]:\n\u001b[1;32m   1329\u001b[0m     \u001b[38;5;28;01mreturn\u001b[39;00m \u001b[38;5;28mself\u001b[39m\u001b[38;5;241m.\u001b[39m_consume_next_step(\n\u001b[0;32m-> 1330\u001b[0m         \u001b[43m[\u001b[49m\n\u001b[1;32m   1331\u001b[0m \u001b[43m            \u001b[49m\u001b[43ma\u001b[49m\n\u001b[1;32m   1332\u001b[0m \u001b[43m            \u001b[49m\u001b[38;5;28;43;01mfor\u001b[39;49;00m\u001b[43m \u001b[49m\u001b[43ma\u001b[49m\u001b[43m \u001b[49m\u001b[38;5;129;43;01min\u001b[39;49;00m\u001b[43m \u001b[49m\u001b[38;5;28;43mself\u001b[39;49m\u001b[38;5;241;43m.\u001b[39;49m\u001b[43m_iter_next_step\u001b[49m\u001b[43m(\u001b[49m\n\u001b[1;32m   1333\u001b[0m \u001b[43m                \u001b[49m\u001b[43mname_to_tool_map\u001b[49m\u001b[43m,\u001b[49m\n\u001b[1;32m   1334\u001b[0m \u001b[43m                \u001b[49m\u001b[43mcolor_mapping\u001b[49m\u001b[43m,\u001b[49m\n\u001b[1;32m   1335\u001b[0m \u001b[43m                \u001b[49m\u001b[43minputs\u001b[49m\u001b[43m,\u001b[49m\n\u001b[1;32m   1336\u001b[0m \u001b[43m                \u001b[49m\u001b[43mintermediate_steps\u001b[49m\u001b[43m,\u001b[49m\n\u001b[1;32m   1337\u001b[0m \u001b[43m                \u001b[49m\u001b[43mrun_manager\u001b[49m\u001b[43m,\u001b[49m\n\u001b[1;32m   1338\u001b[0m \u001b[43m            \u001b[49m\u001b[43m)\u001b[49m\n\u001b[1;32m   1339\u001b[0m \u001b[43m        \u001b[49m\u001b[43m]\u001b[49m\n\u001b[1;32m   1340\u001b[0m     )\n",
      "File \u001b[0;32m~/.pyenv/versions/3.12.0/lib/python3.12/site-packages/langchain/agents/agent.py:1369\u001b[0m, in \u001b[0;36mAgentExecutor._iter_next_step\u001b[0;34m(self, name_to_tool_map, color_mapping, inputs, intermediate_steps, run_manager)\u001b[0m\n\u001b[1;32m   1367\u001b[0m     raise_error \u001b[38;5;241m=\u001b[39m \u001b[38;5;28;01mFalse\u001b[39;00m\n\u001b[1;32m   1368\u001b[0m \u001b[38;5;28;01mif\u001b[39;00m raise_error:\n\u001b[0;32m-> 1369\u001b[0m     \u001b[38;5;28;01mraise\u001b[39;00m \u001b[38;5;167;01mValueError\u001b[39;00m(\n\u001b[1;32m   1370\u001b[0m         \u001b[38;5;124m\"\u001b[39m\u001b[38;5;124mAn output parsing error occurred. \u001b[39m\u001b[38;5;124m\"\u001b[39m\n\u001b[1;32m   1371\u001b[0m         \u001b[38;5;124m\"\u001b[39m\u001b[38;5;124mIn order to pass this error back to the agent and have it try \u001b[39m\u001b[38;5;124m\"\u001b[39m\n\u001b[1;32m   1372\u001b[0m         \u001b[38;5;124m\"\u001b[39m\u001b[38;5;124magain, pass `handle_parsing_errors=True` to the AgentExecutor. \u001b[39m\u001b[38;5;124m\"\u001b[39m\n\u001b[1;32m   1373\u001b[0m         \u001b[38;5;124mf\u001b[39m\u001b[38;5;124m\"\u001b[39m\u001b[38;5;124mThis is the error: \u001b[39m\u001b[38;5;132;01m{\u001b[39;00m\u001b[38;5;28mstr\u001b[39m(e)\u001b[38;5;132;01m}\u001b[39;00m\u001b[38;5;124m\"\u001b[39m\n\u001b[1;32m   1374\u001b[0m     )\n\u001b[1;32m   1375\u001b[0m text \u001b[38;5;241m=\u001b[39m \u001b[38;5;28mstr\u001b[39m(e)\n\u001b[1;32m   1376\u001b[0m \u001b[38;5;28;01mif\u001b[39;00m \u001b[38;5;28misinstance\u001b[39m(\u001b[38;5;28mself\u001b[39m\u001b[38;5;241m.\u001b[39mhandle_parsing_errors, \u001b[38;5;28mbool\u001b[39m):\n",
      "\u001b[0;31mValueError\u001b[0m: An output parsing error occurred. In order to pass this error back to the agent and have it try again, pass `handle_parsing_errors=True` to the AgentExecutor. This is the error: Could not parse LLM output: `The`\nFor troubleshooting, visit: https://python.langchain.com/docs/troubleshooting/errors/OUTPUT_PARSING_FAILURE "
     ]
    }
   ],
   "source": [
    "from langchain.chat_models import ChatOpenAI\n",
    "from langchain.agents import create_sql_agent\n",
    "from langchain.agents.agent_toolkits import SQLDatabaseToolkit\n",
    "from langchain_community.utilities import SQLDatabase  # this might vary depending on your LangChain version\n",
    "\n",
    "# Step 1: Initialize your LLM\n",
    "llm = ChatOpenAI(temperature=0, model=model_name)  # or \"gpt-4\"\n",
    "\n",
    "\n",
    "# Step 2: Create the SQL agent\n",
    "toolkit = SQLDatabaseToolkit(db=db, llm=llm)\n",
    "agent = create_sql_agent(llm=llm, toolkit=toolkit, verbose=True, handle_parsing_errors=True)\n",
    "\n",
    "# Step 3: Ask a question\n",
    "response = agent.invoke({\"input\": \"How many entries have melting points in the comments table?\"})\n",
    "print(response)\n"
   ]
  },
  {
   "cell_type": "markdown",
   "metadata": {},
   "source": [
    "### Switch to GPT-4"
   ]
  },
  {
   "cell_type": "code",
   "execution_count": 71,
   "metadata": {},
   "outputs": [
    {
     "name": "stdout",
     "output_type": "stream",
     "text": [
      "\n",
      "\n",
      "\u001b[1m> Entering new SQL Agent Executor chain...\u001b[0m\n",
      "\u001b[32;1m\u001b[1;3mAction: sql_db_list_tables\n",
      "Action Input: \"\"\u001b[0m\u001b[38;5;200m\u001b[1;3mcomments\u001b[0m\u001b[32;1m\u001b[1;3mThe comments table exists in the database. Now I need to construct a query to count the number of entries in the comments table.\n",
      "Action: sql_db_query_checker\n",
      "Action Input: \"SELECT COUNT(*) FROM comments\"\u001b[0m\u001b[36;1m\u001b[1;3mSELECT COUNT(*) FROM comments\u001b[0m\u001b[32;1m\u001b[1;3mThe query is correct. Now I can execute it to get the number of entries in the comments table.\n",
      "Action: sql_db_query\n",
      "Action Input: \"SELECT COUNT(*) FROM comments\"\u001b[0m\u001b[36;1m\u001b[1;3m[(1104137,)]\u001b[0m\u001b[32;1m\u001b[1;3mI now know the final answer\n",
      "Final Answer: There are 1,104,137 entries in the comments table.\u001b[0m\n",
      "\n",
      "\u001b[1m> Finished chain.\u001b[0m\n",
      "{'input': 'How many entries are there in the comments table?', 'output': 'There are 1,104,137 entries in the comments table.'}\n"
     ]
    }
   ],
   "source": [
    "from langchain.chat_models import ChatOpenAI\n",
    "from langchain.agents import create_sql_agent\n",
    "from langchain.agents.agent_toolkits import SQLDatabaseToolkit\n",
    "from langchain_community.utilities import SQLDatabase  # this might vary depending on your LangChain version\n",
    "\n",
    "# Step 1: Initialize your LLM\n",
    "llm = ChatOpenAI(temperature=0, model=\"gpt-4\")  # or \"gpt-4\"\n",
    "\n",
    "\n",
    "# Step 2: Create the SQL agent\n",
    "toolkit = SQLDatabaseToolkit(db=db, llm=llm)\n",
    "agent = create_sql_agent(llm=llm, toolkit=toolkit, verbose=True, handle_parsing_errors=True)\n",
    "\n",
    "# Step 3: Ask a question\n",
    "response = agent.invoke({\"input\": \"How many entries are there in the comments table?\"})\n",
    "print(response)\n"
   ]
  },
  {
   "cell_type": "code",
   "execution_count": 72,
   "metadata": {},
   "outputs": [
    {
     "name": "stdout",
     "output_type": "stream",
     "text": [
      "\n",
      "\n",
      "\u001b[1m> Entering new SQL Agent Executor chain...\u001b[0m\n",
      "\u001b[32;1m\u001b[1;3mAction: sql_db_list_tables\n",
      "Action Input: \"\"\u001b[0m\u001b[38;5;200m\u001b[1;3mcomments\u001b[0m\u001b[32;1m\u001b[1;3mThe only table in the database is 'comments'. I should check the schema of this table to see if there is a column related to melting points.\n",
      "Action: sql_db_schema\n",
      "Action Input: comments\u001b[0m\u001b[33;1m\u001b[1;3m\n",
      "CREATE TABLE comments (\n",
      "\t\"Unnamed: 0\" BIGINT, \n",
      "\t\"ProductID\" BIGINT, \n",
      "\t\"FullComment\" TEXT, \n",
      "\t\"Warning\" TEXT, \n",
      "\t\"Unit Cell Data Source\" TEXT, \n",
      "\t\"General Comments\" TEXT, \n",
      "\t\"Reason O Quality Was Assigned\" TEXT, \n",
      "\t\"Deleted Or Rejected By\" TEXT, \n",
      "\t\"Color\" TEXT, \n",
      "\t\"Melting Point\" TEXT, \n",
      "\t\"Water Loss\" TEXT, \n",
      "\t\"Structures\" TEXT, \n",
      "\t\"Optical Data\" TEXT, \n",
      "\t\"Additional Patterns\" TEXT, \n",
      "\t\"Unit Cell\" TEXT, \n",
      "\t\"Sample Preparation\" TEXT, \n",
      "\t\"Sublimation Point\" TEXT, \n",
      "\t\"Analysis\" TEXT, \n",
      "\t\"Deleted\" TEXT, \n",
      "\t\"Boiling Point\" TEXT, \n",
      "\t\"Article Title\" TEXT, \n",
      "\t\"Note\" TEXT, \n",
      "\t\"Additional Diffraction Lines\" TEXT, \n",
      "\t\"Opaque Optical Data\" TEXT, \n",
      "\t\"Delete\" TEXT, \n",
      "\t\"Reflectance\" TEXT, \n",
      "\t\"Vickers Hardness Number\" TEXT, \n",
      "\t\"Composition\" TEXT, \n",
      "\t\"Fluorescence\" TEXT, \n",
      "\t\"Bioactivity\" TEXT, \n",
      "\t\"Chemically Related\" TEXT, \n",
      "\t\"Reference\" TEXT, \n",
      "\t\"Phase Transition\" TEXT, \n",
      "\t\"Polymorphism\" TEXT, \n",
      "\t\"Lustre\" TEXT, \n",
      "\t\"Ref\" TEXT, \n",
      "\t\"Borneo\" TEXT, \n",
      "\t\"Utah\" TEXT, \n",
      "\t\"Powder Data\" TEXT, \n",
      "\t\"Monoclinic\" TEXT, \n",
      "\t\"In Situ Condition\" TEXT, \n",
      "\t\"Research Laboratory\" TEXT, \n",
      "\t\"Cu\" TEXT, \n",
      "\t\"Ca\" TEXT, \n",
      "\t\"References\" TEXT, \n",
      "\t\"Reported\" TEXT, \n",
      "\t\"Twinned\" TEXT, \n",
      "\t\"Found\" TEXT, \n",
      "\t\"Sb\" TEXT, \n",
      "\t\"For Cu\" TEXT, \n",
      "\t\"Preparation\" TEXT, \n",
      "\t\"Calculated\" TEXT, \n",
      "\t\"Ge\" TEXT, \n",
      "\t\"Zn\" TEXT, \n",
      "\t\"Editor\" TEXT, \n",
      "\t\"Pleochroism\" TEXT, \n",
      "\t\"Synthesis\" TEXT, \n",
      "\t\"Sree Harsha\" TEXT, \n",
      "\t\"See\" TEXT, \n",
      "\t\"Phase Diagram\" TEXT, \n",
      "\t\"Triple Point\" TEXT, \n",
      "\t\"Al\" TEXT, \n",
      "\t\"Material\" TEXT, \n",
      "\t\"Formula\" TEXT, \n",
      "\t\"Oxford\" TEXT, \n",
      "\t\"Theory\" TEXT, \n",
      "\t\"Thermal Patterns\" TEXT, \n",
      "\t\"Authors Phase Designation\" TEXT, \n",
      "\t\"Reaction\" TEXT, \n",
      "\t\"Habit\" TEXT, \n",
      "\t\"Temperature\" TEXT, \n",
      "\t\"Scale Factors\" TEXT, \n",
      "\t\"Parabromochlorobenzene\" TEXT, \n",
      "\t\"Parachloroiodobenzene\" TEXT, \n",
      "\t\"Moreiras\" TEXT, \n",
      "\t\"Impurities\" TEXT, \n",
      "\t\"Scheib\" TEXT, \n",
      "\t\"Bulk Modulus\" TEXT, \n",
      "\t\"Sensitivity\" TEXT, \n",
      "\t\"Processing Information\" TEXT, \n",
      "\t\"Pneumonocosis\" TEXT, \n",
      "\t\"Scattering Factors\" TEXT, \n",
      "\t\"Wyckoff Sequence\" TEXT, \n",
      "\t\"Calculated Pattern Original Remarks\" TEXT, \n",
      "\t\"Atmosphere\" TEXT, \n",
      "\t\"Hypothetical Structure\" TEXT, \n",
      "\t\"Occurrence\" TEXT, \n",
      "\t\"Supercell\" TEXT, \n",
      "\t\"N\" TEXT, \n",
      "\t\"Average\" TEXT, \n",
      "\t\"Raw Data Comment\" TEXT, \n",
      "\t\"Other Cell\" TEXT, \n",
      "\t\"Compressibilities\" TEXT, \n",
      "\t\"The Ti\" TEXT, \n",
      "\t\"The Fe\" TEXT, \n",
      "\t\"Refractive Index\" TEXT, \n",
      "\t\"Metal\" TEXT, \n",
      "\t\"Source\" TEXT, \n",
      "\t\"B\" TEXT, \n",
      "\t\"Absolute Configuration\" TEXT, \n",
      "\t\"Isomorphism\" TEXT, \n",
      "\t\"Atomic Position\" TEXT, \n",
      "\t\"Same Structure\" TEXT, \n",
      "\t\"Precursors\" TEXT, \n",
      "\t\"Temperature Factor\" TEXT, \n",
      "\t\"Part I\" TEXT, \n",
      "\t\"Data Collection\" TEXT, \n",
      "\t\"Ferromagnet\" TEXT, \n",
      "\t\"Mw\" TEXT, \n",
      "\t\"Mn\" TEXT, \n",
      "\t\"An Si\" TEXT, \n",
      "\t\"Yield\" TEXT, \n",
      "\t\"Average Mn\" TEXT, \n",
      "\t\"The Pt\" TEXT, \n",
      "\t\"Microstrain\" TEXT, \n",
      "\t\"Magnetic Moment\" TEXT, \n",
      "\t\"General Formula\" TEXT, \n",
      "\t\"Atomic Coordinates\" TEXT, \n",
      "\t\"General Name\" TEXT, \n",
      "\t\"Minor Warning\" TEXT, \n",
      "\t\"Terbium Manganese Iron Antimony Tellurium\" TEXT, \n",
      "\t\"A Si\" TEXT, \n",
      "\t\"Density Measured\" TEXT, \n",
      "\t\"Significant Warning\" TEXT, \n",
      "\t\"M\" TEXT, \n",
      "\t\"Major Warning\" TEXT, \n",
      "\t\"Part A\" TEXT, \n",
      "\t\"Ho\" TEXT, \n",
      "\t\"Cubic\" TEXT, \n",
      "\t\"Calculated Uik\" TEXT, \n",
      "\t\"Cell\" TEXT, \n",
      "\t\"Type\" TEXT, \n",
      "\t\"I\" TEXT, \n",
      "\t\"Dy\" TEXT, \n",
      "\t\"Tm\" TEXT, \n",
      "\t\"Prototype\" TEXT, \n",
      "\t\"Sample\" TEXT, \n",
      "\t\"Methanol\" TEXT, \n",
      "\t\"Also\" TEXT, \n",
      "\t\"Si\" TEXT, \n",
      "\t\"Effektive Mn Ladung\" TEXT, \n",
      "\t\"Remark\" TEXT, \n",
      "\t\"Nd S\" TEXT, \n",
      "\t\"Ru\" TEXT, \n",
      "\t\"Cl\" TEXT, \n",
      "\t\"Framework\" TEXT, \n",
      "\t\"Colour\" TEXT, \n",
      "\t\"Sistemi\" TEXT, \n",
      "\t\"Eu\" TEXT, \n",
      "\t\"Drei Schichtstrukturen\" TEXT, \n",
      "\t\"Structure\" TEXT, \n",
      "\t\"Struktur\" TEXT, \n",
      "\t\"H\" TEXT, \n",
      "\t\"Energy\" TEXT, \n",
      "\t\"Model I\" TEXT, \n",
      "\t\"Model B\" TEXT, \n",
      "\t\"In\" TEXT, \n",
      "\t\"Nanoparticles\" TEXT, \n",
      "\t\"Fe Ladungsverteilung\" TEXT, \n",
      "\t\"Neutrality\" TEXT, \n",
      "\t\"Charges\" TEXT, \n",
      "\t\"Charge Ti\" TEXT, \n",
      "\t\"Pure Si\" TEXT, \n",
      "\t\"Constraint\" TEXT, \n",
      "\t\"Phase E\" TEXT, \n",
      "\t\"Poster\" TEXT, \n",
      "\t\"Dy N\" TEXT, \n",
      "\t\"Sample Locality\" TEXT, \n",
      "\t\"Pure Pd\" TEXT, \n",
      "\t\"Pure Pt\" TEXT, \n",
      "\t\"Ge Te\" TEXT, \n",
      "\t\"Specimen\" TEXT, \n",
      "\t\"Habitus\" TEXT, \n",
      "\t\"Impurity\" TEXT, \n",
      "\t\"Ratio\" TEXT, \n",
      "\t\"Search Algorithm\" TEXT, \n",
      "\t\"Functional\" TEXT, \n",
      "\t\"Method\" TEXT, \n",
      "\t\"Code\" TEXT, \n",
      "\t\"Mg\" TEXT, \n",
      "\t\"Sintering Time\" TEXT, \n",
      "\t\"Occurence\" TEXT, \n",
      "\t\"Gd\" TEXT, \n",
      "\t\"La\" TEXT, \n",
      "\t\"Pr\" TEXT, \n",
      "\t\"Sm\" TEXT, \n",
      "\t\"Er\" TEXT, \n",
      "\t\"Yb\" TEXT, \n",
      "\t\"Tb\" TEXT, \n",
      "\t\"Formally C\" TEXT, \n",
      "\t\"C\" TEXT, \n",
      "\t\"Polytyp\" TEXT, \n",
      "\t\"Degree\" TEXT, \n",
      "\t\"Eventuell\" TEXT, \n",
      "\t\"R\" TEXT, \n",
      "\t\"The D\" TEXT, \n",
      "\t\"The H\" TEXT, \n",
      "\t\"The Cl\" TEXT, \n",
      "\t\"E\" TEXT, \n",
      "\t\"Azido\" TEXT, \n",
      "\t\"Patent\" TEXT, \n",
      "\t\"Compound Preparation\" TEXT, \n",
      "\t\"Klement\" TEXT, \n",
      "\t\"Bennet\" TEXT, \n",
      "\t\"Antimony Trifluoride\" TEXT, \n",
      "\t\"Laves Phase\" TEXT, \n",
      "\t\"Tungsten Tetrachloride\" TEXT, \n",
      "\t\"Monopotassium Pentachromium Octaselenide\" TEXT, \n",
      "\t\"Compound Formation\" TEXT, \n",
      "\t\"Part B\" TEXT, \n",
      "\t\"D\" TEXT, \n",
      "\t\"F\" TEXT, \n",
      "\t\"Trimetaphosphates\" TEXT, \n",
      "\t\"Powders\" TEXT, \n",
      "\t\"Caution\" TEXT, \n",
      "\t\"Disproportionation\" TEXT, \n",
      "\t\"Petersburg\" TEXT, \n",
      "\t\"Dissociation Pressure Measurements\" TEXT, \n",
      "\t\"China\" TEXT, \n",
      "\t\"X\" TEXT, \n",
      "\t\"Phasons\" TEXT, \n",
      "\t\"Homologous Series\" TEXT, \n",
      "\t\"Calc\" TEXT, \n",
      "\t\"Preparation Reference\" TEXT, \n",
      "\t\"Procedure\" TEXT, \n",
      "\t\"Solution\" TEXT, \n",
      "\t\"Slurry\" TEXT, \n",
      "\t\"Kneading\" TEXT, \n",
      "\t\"Solution B\" TEXT\n",
      ")\n",
      "\n",
      "/*\n",
      "3 rows from comments table:\n",
      "Unnamed: 0\tProductID\tFullComment\tWarning\tUnit Cell Data Source\tGeneral Comments\tReason O Quality Was Assigned\tDeleted Or Rejected By\tColor\tMelting Point\tWater Loss\tStructures\tOptical Data\tAdditional Patterns\tUnit Cell\tSample Preparation\tSublimation Point\tAnalysis\tDeleted\tBoiling Point\tArticle Title\tNote\tAdditional Diffraction Lines\tOpaque Optical Data\tDelete\tReflectance\tVickers Hardness Number\tComposition\tFluorescence\tBioactivity\tChemically Related\tReference\tPhase Transition\tPolymorphism\tLustre\tRef\tBorneo\tUtah\tPowder Data\tMonoclinic\tIn Situ Condition\tResearch Laboratory\tCu\tCa\tReferences\tReported\tTwinned\tFound\tSb\tFor Cu\tPreparation\tCalculated\tGe\tZn\tEditor\tPleochroism\tSynthesis\tSree Harsha\tSee\tPhase Diagram\tTriple Point\tAl\tMaterial\tFormula\tOxford\tTheory\tThermal Patterns\tAuthors Phase Designation\tReaction\tHabit\tTemperature\tScale Factors\tParabromochlorobenzene\tParachloroiodobenzene\tMoreiras\tImpurities\tScheib\tBulk Modulus\tSensitivity\tProcessing Information\tPneumonocosis\tScattering Factors\tWyckoff Sequence\tCalculated Pattern Original Remarks\tAtmosphere\tHypothetical Structure\tOccurrence\tSupercell\tN\tAverage\tRaw Data Comment\tOther Cell\tCompressibilities\tThe Ti\tThe Fe\tRefractive Index\tMetal\tSource\tB\tAbsolute Configuration\tIsomorphism\tAtomic Position\tSame Structure\tPrecursors\tTemperature Factor\tPart I\tData Collection\tFerromagnet\tMw\tMn\tAn Si\tYield\tAverage Mn\tThe Pt\tMicrostrain\tMagnetic Moment\tGeneral Formula\tAtomic Coordinates\tGeneral Name\tMinor Warning\tTerbium Manganese Iron Antimony Tellurium\tA Si\tDensity Measured\tSignificant Warning\tM\tMajor Warning\tPart A\tHo\tCubic\tCalculated Uik\tCell\tType\tI\tDy\tTm\tPrototype\tSample\tMethanol\tAlso\tSi\tEffektive Mn Ladung\tRemark\tNd S\tRu\tCl\tFramework\tColour\tSistemi\tEu\tDrei Schichtstrukturen\tStructure\tStruktur\tH\tEnergy\tModel I\tModel B\tIn\tNanoparticles\tFe Ladungsverteilung\tNeutrality\tCharges\tCharge Ti\tPure Si\tConstraint\tPhase E\tPoster\tDy N\tSample Locality\tPure Pd\tPure Pt\tGe Te\tSpecimen\tHabitus\tImpurity\tRatio\tSearch Algorithm\tFunctional\tMethod\tCode\tMg\tSintering Time\tOccurence\tGd\tLa\tPr\tSm\tEr\tYb\tTb\tFormally C\tC\tPolytyp\tDegree\tEventuell\tR\tThe D\tThe H\tThe Cl\tE\tAzido\tPatent\tCompound Preparation\tKlement\tBennet\tAntimony Trifluoride\tLaves Phase\tTungsten Tetrachloride\tMonopotassium Pentachromium Octaselenide\tCompound Formation\tPart B\tD\tF\tTrimetaphosphates\tPowders\tCaution\tDisproportionation\tPetersburg\tDissociation Pressure Measurements\tChina\tX\tPhasons\tHomologous Series\tCalc\tPreparation Reference\tProcedure\tSolution\tSlurry\tKneading\tSolution B\n",
      "0\t10001\tWarning: Unindexed pattern. Unit Cell Data Source: Powder Diffraction.\tUnindexed pattern\tPowder Diffraction\tNone\tNone\tNone\tNone\tNone\tNone\tNone\tNone\tNone\tNone\tNone\tNone\tNone\tNone\tNone\tNone\tNone\tNone\tNone\tNone\tNone\tNone\tNone\tNone\tNone\tNone\tNone\tNone\tNone\tNone\tNone\tNone\tNone\tNone\tNone\tNone\tNone\tNone\tNone\tNone\tNone\tNone\tNone\tNone\tNone\tNone\tNone\tNone\tNone\tNone\tNone\tNone\tNone\tNone\tNone\tNone\tNone\tNone\tNone\tNone\tNone\tNone\tNone\tNone\tNone\tNone\tNone\tNone\tNone\tNone\tNone\tNone\tNone\tNone\tNone\tNone\tNone\tNone\tNone\tNone\tNone\tNone\tNone\tNone\tNone\tNone\tNone\tNone\tNone\tNone\tNone\tNone\tNone\tNone\tNone\tNone\tNone\tNone\tNone\tNone\tNone\tNone\tNone\tNone\tNone\tNone\tNone\tNone\tNone\tNone\tNone\tNone\tNone\tNone\tNone\tNone\tNone\tNone\tNone\tNone\tNone\tNone\tNone\tNone\tNone\tNone\tNone\tNone\tNone\tNone\tNone\tNone\tNone\tNone\tNone\tNone\tNone\tNone\tNone\tNone\tNone\tNone\tNone\tNone\tNone\tNone\tNone\tNone\tNone\tNone\tNone\tNone\tNone\tNone\tNone\tNone\tNone\tNone\tNone\tNone\tNone\tNone\tNone\tNone\tNone\tNone\tNone\tNone\tNone\tNone\tNone\tNone\tNone\tNone\tNone\tNone\tNone\tNone\tNone\tNone\tNone\tNone\tNone\tNone\tNone\tNone\tNone\tNone\tNone\tNone\tNone\tNone\tNone\tNone\tNone\tNone\tNone\tNone\tNone\tNone\tNone\tNone\tNone\tNone\tNone\tNone\tNone\tNone\tNone\tNone\tNone\tNone\tNone\tNone\tNone\tNone\tNone\tNone\tNone\tNone\tNone\tNone\tNone\tNone\n",
      "1\t10002\tWarning: Unindexed pattern. Unit Cell Data Source: Powder Diffraction.\tUnindexed pattern\tPowder Diffraction\tNone\tNone\tNone\tNone\tNone\tNone\tNone\tNone\tNone\tNone\tNone\tNone\tNone\tNone\tNone\tNone\tNone\tNone\tNone\tNone\tNone\tNone\tNone\tNone\tNone\tNone\tNone\tNone\tNone\tNone\tNone\tNone\tNone\tNone\tNone\tNone\tNone\tNone\tNone\tNone\tNone\tNone\tNone\tNone\tNone\tNone\tNone\tNone\tNone\tNone\tNone\tNone\tNone\tNone\tNone\tNone\tNone\tNone\tNone\tNone\tNone\tNone\tNone\tNone\tNone\tNone\tNone\tNone\tNone\tNone\tNone\tNone\tNone\tNone\tNone\tNone\tNone\tNone\tNone\tNone\tNone\tNone\tNone\tNone\tNone\tNone\tNone\tNone\tNone\tNone\tNone\tNone\tNone\tNone\tNone\tNone\tNone\tNone\tNone\tNone\tNone\tNone\tNone\tNone\tNone\tNone\tNone\tNone\tNone\tNone\tNone\tNone\tNone\tNone\tNone\tNone\tNone\tNone\tNone\tNone\tNone\tNone\tNone\tNone\tNone\tNone\tNone\tNone\tNone\tNone\tNone\tNone\tNone\tNone\tNone\tNone\tNone\tNone\tNone\tNone\tNone\tNone\tNone\tNone\tNone\tNone\tNone\tNone\tNone\tNone\tNone\tNone\tNone\tNone\tNone\tNone\tNone\tNone\tNone\tNone\tNone\tNone\tNone\tNone\tNone\tNone\tNone\tNone\tNone\tNone\tNone\tNone\tNone\tNone\tNone\tNone\tNone\tNone\tNone\tNone\tNone\tNone\tNone\tNone\tNone\tNone\tNone\tNone\tNone\tNone\tNone\tNone\tNone\tNone\tNone\tNone\tNone\tNone\tNone\tNone\tNone\tNone\tNone\tNone\tNone\tNone\tNone\tNone\tNone\tNone\tNone\tNone\tNone\tNone\tNone\tNone\tNone\tNone\tNone\tNone\tNone\tNone\tNone\tNone\n",
      "2\t10003\tWarning: Unindexed pattern. Unit Cell Data Source: Powder Diffraction.\tUnindexed pattern\tPowder Diffraction\tNone\tNone\tNone\tNone\tNone\tNone\tNone\tNone\tNone\tNone\tNone\tNone\tNone\tNone\tNone\tNone\tNone\tNone\tNone\tNone\tNone\tNone\tNone\tNone\tNone\tNone\tNone\tNone\tNone\tNone\tNone\tNone\tNone\tNone\tNone\tNone\tNone\tNone\tNone\tNone\tNone\tNone\tNone\tNone\tNone\tNone\tNone\tNone\tNone\tNone\tNone\tNone\tNone\tNone\tNone\tNone\tNone\tNone\tNone\tNone\tNone\tNone\tNone\tNone\tNone\tNone\tNone\tNone\tNone\tNone\tNone\tNone\tNone\tNone\tNone\tNone\tNone\tNone\tNone\tNone\tNone\tNone\tNone\tNone\tNone\tNone\tNone\tNone\tNone\tNone\tNone\tNone\tNone\tNone\tNone\tNone\tNone\tNone\tNone\tNone\tNone\tNone\tNone\tNone\tNone\tNone\tNone\tNone\tNone\tNone\tNone\tNone\tNone\tNone\tNone\tNone\tNone\tNone\tNone\tNone\tNone\tNone\tNone\tNone\tNone\tNone\tNone\tNone\tNone\tNone\tNone\tNone\tNone\tNone\tNone\tNone\tNone\tNone\tNone\tNone\tNone\tNone\tNone\tNone\tNone\tNone\tNone\tNone\tNone\tNone\tNone\tNone\tNone\tNone\tNone\tNone\tNone\tNone\tNone\tNone\tNone\tNone\tNone\tNone\tNone\tNone\tNone\tNone\tNone\tNone\tNone\tNone\tNone\tNone\tNone\tNone\tNone\tNone\tNone\tNone\tNone\tNone\tNone\tNone\tNone\tNone\tNone\tNone\tNone\tNone\tNone\tNone\tNone\tNone\tNone\tNone\tNone\tNone\tNone\tNone\tNone\tNone\tNone\tNone\tNone\tNone\tNone\tNone\tNone\tNone\tNone\tNone\tNone\tNone\tNone\tNone\tNone\tNone\tNone\tNone\tNone\tNone\tNone\tNone\n",
      "*/\u001b[0m\u001b[32;1m\u001b[1;3mThe 'comments' table has a column named 'Melting Point'. I should write a query to count the number of entries in this column that are not null.\n",
      "Action: sql_db_query_checker\n",
      "Action Input: SELECT COUNT(*) FROM comments WHERE \"Melting Point\" IS NOT NULL\u001b[0m\u001b[36;1m\u001b[1;3mSELECT COUNT(*) FROM comments WHERE \"Melting Point\" IS NOT NULL\u001b[0m\u001b[32;1m\u001b[1;3mThe query syntax is correct. Now I will execute the query to get the count of entries with melting points in the comments table.\n",
      "Action: sql_db_query\n",
      "Action Input: SELECT COUNT(*) FROM comments WHERE \"Melting Point\" IS NOT NULL\u001b[0m\u001b[36;1m\u001b[1;3m[(158076,)]\u001b[0m\u001b[32;1m\u001b[1;3mI now know the final answer\n",
      "Final Answer: There are 158076 entries with melting points in the comments table.\u001b[0m\n",
      "\n",
      "\u001b[1m> Finished chain.\u001b[0m\n",
      "{'input': 'How many entries have melting points in the comments table?', 'output': 'There are 158076 entries with melting points in the comments table.'}\n"
     ]
    }
   ],
   "source": [
    "response = agent.invoke({\"input\": \"How many entries have melting points in the comments table?\"})\n",
    "print(response)"
   ]
  },
  {
   "cell_type": "code",
   "execution_count": null,
   "metadata": {},
   "outputs": [],
   "source": []
  }
 ],
 "metadata": {
  "kernelspec": {
   "display_name": "LLM-for-mater",
   "language": "python",
   "name": "venv"
  },
  "language_info": {
   "codemirror_mode": {
    "name": "ipython",
    "version": 3
   },
   "file_extension": ".py",
   "mimetype": "text/x-python",
   "name": "python",
   "nbconvert_exporter": "python",
   "pygments_lexer": "ipython3",
   "version": "3.12.0"
  }
 },
 "nbformat": 4,
 "nbformat_minor": 2
}
