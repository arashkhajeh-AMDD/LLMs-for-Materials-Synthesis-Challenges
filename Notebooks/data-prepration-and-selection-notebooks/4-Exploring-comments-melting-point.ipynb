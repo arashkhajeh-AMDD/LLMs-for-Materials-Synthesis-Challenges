{
 "cells": [
  {
   "cell_type": "code",
   "execution_count": 1,
   "metadata": {},
   "outputs": [
    {
     "data": {
      "text/html": [
       "<div>\n",
       "<style scoped>\n",
       "    .dataframe tbody tr th:only-of-type {\n",
       "        vertical-align: middle;\n",
       "    }\n",
       "\n",
       "    .dataframe tbody tr th {\n",
       "        vertical-align: top;\n",
       "    }\n",
       "\n",
       "    .dataframe thead th {\n",
       "        text-align: right;\n",
       "    }\n",
       "</style>\n",
       "<table border=\"1\" class=\"dataframe\">\n",
       "  <thead>\n",
       "    <tr style=\"text-align: right;\">\n",
       "      <th></th>\n",
       "      <th>0</th>\n",
       "      <th>1</th>\n",
       "      <th>2</th>\n",
       "      <th>3</th>\n",
       "    </tr>\n",
       "  </thead>\n",
       "  <tbody>\n",
       "    <tr>\n",
       "      <th>0</th>\n",
       "      <td>000010011</td>\n",
       "      <td>438 K.</td>\n",
       "      <td>164.85</td>\n",
       "      <td>164.85</td>\n",
       "    </tr>\n",
       "    <tr>\n",
       "      <th>1</th>\n",
       "      <td>000010028</td>\n",
       "      <td>348 K.</td>\n",
       "      <td>74.85</td>\n",
       "      <td>74.85</td>\n",
       "    </tr>\n",
       "    <tr>\n",
       "      <th>2</th>\n",
       "      <td>000010039</td>\n",
       "      <td>565 K.</td>\n",
       "      <td>291.85</td>\n",
       "      <td>291.85</td>\n",
       "    </tr>\n",
       "    <tr>\n",
       "      <th>3</th>\n",
       "      <td>000010050</td>\n",
       "      <td>597 K.</td>\n",
       "      <td>323.85</td>\n",
       "      <td>323.85</td>\n",
       "    </tr>\n",
       "    <tr>\n",
       "      <th>4</th>\n",
       "      <td>000010069</td>\n",
       "      <td>557 K.</td>\n",
       "      <td>283.85</td>\n",
       "      <td>283.85</td>\n",
       "    </tr>\n",
       "  </tbody>\n",
       "</table>\n",
       "</div>"
      ],
      "text/plain": [
       "           0       1       2       3\n",
       "0  000010011  438 K.  164.85  164.85\n",
       "1  000010028  348 K.   74.85   74.85\n",
       "2  000010039  565 K.  291.85  291.85\n",
       "3  000010050  597 K.  323.85  323.85\n",
       "4  000010069  557 K.  283.85  283.85"
      ]
     },
     "execution_count": 1,
     "metadata": {},
     "output_type": "execute_result"
    }
   ],
   "source": [
    "import pickle\n",
    "import pandas as pd\n",
    "from pathlib import Path\n",
    "\n",
    "table_name = \"comments_melting_point.pickle\"\n",
    "data_dir = Path(\"../Data\")\n",
    "file_path = data_dir / table_name\n",
    "\n",
    "with open(file_path, \"rb\") as f:\n",
    "    data = pickle.load(f)\n",
    "\n",
    "df = pd.DataFrame(data)\n",
    "\n",
    "df.head()"
   ]
  },
  {
   "cell_type": "code",
   "execution_count": 2,
   "metadata": {},
   "outputs": [
    {
     "data": {
      "text/html": [
       "<div>\n",
       "<style scoped>\n",
       "    .dataframe tbody tr th:only-of-type {\n",
       "        vertical-align: middle;\n",
       "    }\n",
       "\n",
       "    .dataframe tbody tr th {\n",
       "        vertical-align: top;\n",
       "    }\n",
       "\n",
       "    .dataframe thead th {\n",
       "        text-align: right;\n",
       "    }\n",
       "</style>\n",
       "<table border=\"1\" class=\"dataframe\">\n",
       "  <thead>\n",
       "    <tr style=\"text-align: right;\">\n",
       "      <th></th>\n",
       "      <th>0</th>\n",
       "      <th>1</th>\n",
       "      <th>2</th>\n",
       "      <th>3</th>\n",
       "    </tr>\n",
       "  </thead>\n",
       "  <tbody>\n",
       "    <tr>\n",
       "      <th>158071</th>\n",
       "      <td>050105287</td>\n",
       "      <td>556 K</td>\n",
       "      <td>282.85</td>\n",
       "      <td>282.85</td>\n",
       "    </tr>\n",
       "    <tr>\n",
       "      <th>158072</th>\n",
       "      <td>050105333</td>\n",
       "      <td>369 K</td>\n",
       "      <td>95.85</td>\n",
       "      <td>95.85</td>\n",
       "    </tr>\n",
       "    <tr>\n",
       "      <th>158073</th>\n",
       "      <td>050105335</td>\n",
       "      <td>433 K</td>\n",
       "      <td>159.85</td>\n",
       "      <td>159.85</td>\n",
       "    </tr>\n",
       "    <tr>\n",
       "      <th>158074</th>\n",
       "      <td>050105336</td>\n",
       "      <td>433 K</td>\n",
       "      <td>159.85</td>\n",
       "      <td>159.85</td>\n",
       "    </tr>\n",
       "    <tr>\n",
       "      <th>158075</th>\n",
       "      <td>050105350</td>\n",
       "      <td>166 K</td>\n",
       "      <td>-107.15</td>\n",
       "      <td>-107.15</td>\n",
       "    </tr>\n",
       "  </tbody>\n",
       "</table>\n",
       "</div>"
      ],
      "text/plain": [
       "                0      1       2       3\n",
       "158071  050105287  556 K  282.85  282.85\n",
       "158072  050105333  369 K   95.85   95.85\n",
       "158073  050105335  433 K  159.85  159.85\n",
       "158074  050105336  433 K  159.85  159.85\n",
       "158075  050105350  166 K -107.15 -107.15"
      ]
     },
     "execution_count": 2,
     "metadata": {},
     "output_type": "execute_result"
    }
   ],
   "source": [
    "df.tail()"
   ]
  },
  {
   "cell_type": "code",
   "execution_count": 3,
   "metadata": {},
   "outputs": [
    {
     "data": {
      "text/plain": [
       "-107"
      ]
     },
     "execution_count": 3,
     "metadata": {},
     "output_type": "execute_result"
    }
   ],
   "source": [
    "166 - 273 #--> it seems the lower and higher limits are just melting point in degree Celcius "
   ]
  },
  {
   "cell_type": "code",
   "execution_count": null,
   "metadata": {},
   "outputs": [],
   "source": []
  },
  {
   "cell_type": "code",
   "execution_count": 4,
   "metadata": {},
   "outputs": [],
   "source": [
    "new_colomn_names = [\"ProductID\", \"Melting Points\", \"Lower Limit\", \"Higher Limit\"]\n",
    "\n",
    "column_maps = {i:n for i, n in enumerate(new_colomn_names)}\n",
    "\n",
    "df_renamed = df.rename(column_maps, axis=1)"
   ]
  },
  {
   "cell_type": "code",
   "execution_count": 5,
   "metadata": {},
   "outputs": [
    {
     "data": {
      "text/html": [
       "<div>\n",
       "<style scoped>\n",
       "    .dataframe tbody tr th:only-of-type {\n",
       "        vertical-align: middle;\n",
       "    }\n",
       "\n",
       "    .dataframe tbody tr th {\n",
       "        vertical-align: top;\n",
       "    }\n",
       "\n",
       "    .dataframe thead th {\n",
       "        text-align: right;\n",
       "    }\n",
       "</style>\n",
       "<table border=\"1\" class=\"dataframe\">\n",
       "  <thead>\n",
       "    <tr style=\"text-align: right;\">\n",
       "      <th></th>\n",
       "      <th>ProductID</th>\n",
       "      <th>Melting Points</th>\n",
       "      <th>Lower Limit</th>\n",
       "      <th>Higher Limit</th>\n",
       "    </tr>\n",
       "  </thead>\n",
       "  <tbody>\n",
       "    <tr>\n",
       "      <th>0</th>\n",
       "      <td>000010011</td>\n",
       "      <td>438 K.</td>\n",
       "      <td>164.85</td>\n",
       "      <td>164.85</td>\n",
       "    </tr>\n",
       "    <tr>\n",
       "      <th>1</th>\n",
       "      <td>000010028</td>\n",
       "      <td>348 K.</td>\n",
       "      <td>74.85</td>\n",
       "      <td>74.85</td>\n",
       "    </tr>\n",
       "    <tr>\n",
       "      <th>2</th>\n",
       "      <td>000010039</td>\n",
       "      <td>565 K.</td>\n",
       "      <td>291.85</td>\n",
       "      <td>291.85</td>\n",
       "    </tr>\n",
       "    <tr>\n",
       "      <th>3</th>\n",
       "      <td>000010050</td>\n",
       "      <td>597 K.</td>\n",
       "      <td>323.85</td>\n",
       "      <td>323.85</td>\n",
       "    </tr>\n",
       "    <tr>\n",
       "      <th>4</th>\n",
       "      <td>000010069</td>\n",
       "      <td>557 K.</td>\n",
       "      <td>283.85</td>\n",
       "      <td>283.85</td>\n",
       "    </tr>\n",
       "    <tr>\n",
       "      <th>...</th>\n",
       "      <td>...</td>\n",
       "      <td>...</td>\n",
       "      <td>...</td>\n",
       "      <td>...</td>\n",
       "    </tr>\n",
       "    <tr>\n",
       "      <th>158071</th>\n",
       "      <td>050105287</td>\n",
       "      <td>556 K</td>\n",
       "      <td>282.85</td>\n",
       "      <td>282.85</td>\n",
       "    </tr>\n",
       "    <tr>\n",
       "      <th>158072</th>\n",
       "      <td>050105333</td>\n",
       "      <td>369 K</td>\n",
       "      <td>95.85</td>\n",
       "      <td>95.85</td>\n",
       "    </tr>\n",
       "    <tr>\n",
       "      <th>158073</th>\n",
       "      <td>050105335</td>\n",
       "      <td>433 K</td>\n",
       "      <td>159.85</td>\n",
       "      <td>159.85</td>\n",
       "    </tr>\n",
       "    <tr>\n",
       "      <th>158074</th>\n",
       "      <td>050105336</td>\n",
       "      <td>433 K</td>\n",
       "      <td>159.85</td>\n",
       "      <td>159.85</td>\n",
       "    </tr>\n",
       "    <tr>\n",
       "      <th>158075</th>\n",
       "      <td>050105350</td>\n",
       "      <td>166 K</td>\n",
       "      <td>-107.15</td>\n",
       "      <td>-107.15</td>\n",
       "    </tr>\n",
       "  </tbody>\n",
       "</table>\n",
       "<p>158076 rows × 4 columns</p>\n",
       "</div>"
      ],
      "text/plain": [
       "        ProductID Melting Points  Lower Limit  Higher Limit\n",
       "0       000010011         438 K.       164.85        164.85\n",
       "1       000010028         348 K.        74.85         74.85\n",
       "2       000010039         565 K.       291.85        291.85\n",
       "3       000010050         597 K.       323.85        323.85\n",
       "4       000010069         557 K.       283.85        283.85\n",
       "...           ...            ...          ...           ...\n",
       "158071  050105287          556 K       282.85        282.85\n",
       "158072  050105333          369 K        95.85         95.85\n",
       "158073  050105335          433 K       159.85        159.85\n",
       "158074  050105336          433 K       159.85        159.85\n",
       "158075  050105350          166 K      -107.15       -107.15\n",
       "\n",
       "[158076 rows x 4 columns]"
      ]
     },
     "execution_count": 5,
     "metadata": {},
     "output_type": "execute_result"
    }
   ],
   "source": [
    "df_renamed"
   ]
  },
  {
   "cell_type": "code",
   "execution_count": 6,
   "metadata": {},
   "outputs": [],
   "source": [
    "df_renamed = df_renamed[[\"ProductID\", \"Melting Points\"]]"
   ]
  },
  {
   "cell_type": "code",
   "execution_count": 7,
   "metadata": {},
   "outputs": [
    {
     "data": {
      "text/html": [
       "<div>\n",
       "<style scoped>\n",
       "    .dataframe tbody tr th:only-of-type {\n",
       "        vertical-align: middle;\n",
       "    }\n",
       "\n",
       "    .dataframe tbody tr th {\n",
       "        vertical-align: top;\n",
       "    }\n",
       "\n",
       "    .dataframe thead th {\n",
       "        text-align: right;\n",
       "    }\n",
       "</style>\n",
       "<table border=\"1\" class=\"dataframe\">\n",
       "  <thead>\n",
       "    <tr style=\"text-align: right;\">\n",
       "      <th></th>\n",
       "      <th>ProductID</th>\n",
       "      <th>Melting Points</th>\n",
       "    </tr>\n",
       "  </thead>\n",
       "  <tbody>\n",
       "    <tr>\n",
       "      <th>0</th>\n",
       "      <td>000010011</td>\n",
       "      <td>438 K.</td>\n",
       "    </tr>\n",
       "    <tr>\n",
       "      <th>1</th>\n",
       "      <td>000010028</td>\n",
       "      <td>348 K.</td>\n",
       "    </tr>\n",
       "    <tr>\n",
       "      <th>2</th>\n",
       "      <td>000010039</td>\n",
       "      <td>565 K.</td>\n",
       "    </tr>\n",
       "    <tr>\n",
       "      <th>3</th>\n",
       "      <td>000010050</td>\n",
       "      <td>597 K.</td>\n",
       "    </tr>\n",
       "    <tr>\n",
       "      <th>4</th>\n",
       "      <td>000010069</td>\n",
       "      <td>557 K.</td>\n",
       "    </tr>\n",
       "  </tbody>\n",
       "</table>\n",
       "</div>"
      ],
      "text/plain": [
       "   ProductID Melting Points\n",
       "0  000010011         438 K.\n",
       "1  000010028         348 K.\n",
       "2  000010039         565 K.\n",
       "3  000010050         597 K.\n",
       "4  000010069         557 K."
      ]
     },
     "execution_count": 7,
     "metadata": {},
     "output_type": "execute_result"
    }
   ],
   "source": [
    "df_renamed.head()"
   ]
  },
  {
   "cell_type": "code",
   "execution_count": 8,
   "metadata": {},
   "outputs": [
    {
     "data": {
      "text/plain": [
       "158076"
      ]
     },
     "execution_count": 8,
     "metadata": {},
     "output_type": "execute_result"
    }
   ],
   "source": [
    "# check if all melting points are in K\n",
    "df_renamed[\"Melting Points\"].str.contains(\"K\").count()"
   ]
  },
  {
   "cell_type": "code",
   "execution_count": 9,
   "metadata": {},
   "outputs": [],
   "source": [
    "# # 1. Remove \" K.\", \"K\", etc.\n",
    "# df_clean = df_renamed[\"Melting Points\"].str.replace(r\"\\s*K\\.?|K\", \"\", regex=True)\n",
    "\n",
    "# # 2. Remove extra characters if needed (e.g., °, °C, comments, etc.)\n",
    "# df_clean = df_clean.str.extract(r\"(\\d+)\", expand=False)  # extract the first number only\n",
    "\n",
    "# # 3. Convert to integers (or float if decimals exist)\n",
    "# df_clean = pd.to_numeric(df_clean, errors='coerce').astype('float')  # nullable integer type\n"
   ]
  },
  {
   "cell_type": "code",
   "execution_count": 10,
   "metadata": {},
   "outputs": [
    {
     "name": "stderr",
     "output_type": "stream",
     "text": [
      "/var/folders/p1/_xzph12174z0rlnng642dchm0000gq/T/ipykernel_15086/2584377211.py:1: SettingWithCopyWarning: \n",
      "A value is trying to be set on a copy of a slice from a DataFrame.\n",
      "Try using .loc[row_indexer,col_indexer] = value instead\n",
      "\n",
      "See the caveats in the documentation: https://pandas.pydata.org/pandas-docs/stable/user_guide/indexing.html#returning-a-view-versus-a-copy\n",
      "  df_renamed[\"Melting Points\"] = df_renamed[\"Melting Points\"].str.replace(r\"\\s*K\\.?|K\", \"\", regex=True).str.extract(r\"(\\d+)\", expand=False).astype('float')\n"
     ]
    }
   ],
   "source": [
    "df_renamed[\"Melting Points\"] = df_renamed[\"Melting Points\"].str.replace(r\"\\s*K\\.?|K\", \"\", regex=True).str.extract(r\"(\\d+)\", expand=False).astype('float')"
   ]
  },
  {
   "cell_type": "markdown",
   "metadata": {},
   "source": []
  },
  {
   "cell_type": "code",
   "execution_count": 11,
   "metadata": {},
   "outputs": [
    {
     "data": {
      "text/html": [
       "<div>\n",
       "<style scoped>\n",
       "    .dataframe tbody tr th:only-of-type {\n",
       "        vertical-align: middle;\n",
       "    }\n",
       "\n",
       "    .dataframe tbody tr th {\n",
       "        vertical-align: top;\n",
       "    }\n",
       "\n",
       "    .dataframe thead th {\n",
       "        text-align: right;\n",
       "    }\n",
       "</style>\n",
       "<table border=\"1\" class=\"dataframe\">\n",
       "  <thead>\n",
       "    <tr style=\"text-align: right;\">\n",
       "      <th></th>\n",
       "      <th>ProductID</th>\n",
       "      <th>Melting Points</th>\n",
       "    </tr>\n",
       "  </thead>\n",
       "  <tbody>\n",
       "    <tr>\n",
       "      <th>0</th>\n",
       "      <td>000010011</td>\n",
       "      <td>438.0</td>\n",
       "    </tr>\n",
       "    <tr>\n",
       "      <th>1</th>\n",
       "      <td>000010028</td>\n",
       "      <td>348.0</td>\n",
       "    </tr>\n",
       "    <tr>\n",
       "      <th>2</th>\n",
       "      <td>000010039</td>\n",
       "      <td>565.0</td>\n",
       "    </tr>\n",
       "    <tr>\n",
       "      <th>3</th>\n",
       "      <td>000010050</td>\n",
       "      <td>597.0</td>\n",
       "    </tr>\n",
       "    <tr>\n",
       "      <th>4</th>\n",
       "      <td>000010069</td>\n",
       "      <td>557.0</td>\n",
       "    </tr>\n",
       "    <tr>\n",
       "      <th>...</th>\n",
       "      <td>...</td>\n",
       "      <td>...</td>\n",
       "    </tr>\n",
       "    <tr>\n",
       "      <th>158071</th>\n",
       "      <td>050105287</td>\n",
       "      <td>556.0</td>\n",
       "    </tr>\n",
       "    <tr>\n",
       "      <th>158072</th>\n",
       "      <td>050105333</td>\n",
       "      <td>369.0</td>\n",
       "    </tr>\n",
       "    <tr>\n",
       "      <th>158073</th>\n",
       "      <td>050105335</td>\n",
       "      <td>433.0</td>\n",
       "    </tr>\n",
       "    <tr>\n",
       "      <th>158074</th>\n",
       "      <td>050105336</td>\n",
       "      <td>433.0</td>\n",
       "    </tr>\n",
       "    <tr>\n",
       "      <th>158075</th>\n",
       "      <td>050105350</td>\n",
       "      <td>166.0</td>\n",
       "    </tr>\n",
       "  </tbody>\n",
       "</table>\n",
       "<p>158076 rows × 2 columns</p>\n",
       "</div>"
      ],
      "text/plain": [
       "        ProductID  Melting Points\n",
       "0       000010011           438.0\n",
       "1       000010028           348.0\n",
       "2       000010039           565.0\n",
       "3       000010050           597.0\n",
       "4       000010069           557.0\n",
       "...           ...             ...\n",
       "158071  050105287           556.0\n",
       "158072  050105333           369.0\n",
       "158073  050105335           433.0\n",
       "158074  050105336           433.0\n",
       "158075  050105350           166.0\n",
       "\n",
       "[158076 rows x 2 columns]"
      ]
     },
     "execution_count": 11,
     "metadata": {},
     "output_type": "execute_result"
    }
   ],
   "source": [
    "df_renamed"
   ]
  },
  {
   "cell_type": "code",
   "execution_count": 12,
   "metadata": {},
   "outputs": [],
   "source": [
    "file_name = \"melting-points.csv\"\n",
    "\n",
    "file_path = data_dir / file_name\n",
    "\n",
    "df_renamed.to_csv(file_path, index=False)\n"
   ]
  },
  {
   "cell_type": "markdown",
   "metadata": {},
   "source": [
    "### Screening based on application"
   ]
  },
  {
   "cell_type": "code",
   "execution_count": 24,
   "metadata": {},
   "outputs": [
    {
     "data": {
      "text/html": [
       "<div>\n",
       "<style scoped>\n",
       "    .dataframe tbody tr th:only-of-type {\n",
       "        vertical-align: middle;\n",
       "    }\n",
       "\n",
       "    .dataframe tbody tr th {\n",
       "        vertical-align: top;\n",
       "    }\n",
       "\n",
       "    .dataframe thead th {\n",
       "        text-align: right;\n",
       "    }\n",
       "</style>\n",
       "<table border=\"1\" class=\"dataframe\">\n",
       "  <thead>\n",
       "    <tr style=\"text-align: right;\">\n",
       "      <th></th>\n",
       "      <th>ProductID</th>\n",
       "      <th>Description</th>\n",
       "    </tr>\n",
       "  </thead>\n",
       "  <tbody>\n",
       "    <tr>\n",
       "      <th>0</th>\n",
       "      <td>000010359</td>\n",
       "      <td>Battery Material</td>\n",
       "    </tr>\n",
       "    <tr>\n",
       "      <th>1</th>\n",
       "      <td>000010359</td>\n",
       "      <td>Intercalate</td>\n",
       "    </tr>\n",
       "    <tr>\n",
       "      <th>2</th>\n",
       "      <td>000010503</td>\n",
       "      <td>Ionic Conductor</td>\n",
       "    </tr>\n",
       "    <tr>\n",
       "      <th>3</th>\n",
       "      <td>000010579</td>\n",
       "      <td>Superconducting Material</td>\n",
       "    </tr>\n",
       "    <tr>\n",
       "      <th>4</th>\n",
       "      <td>000010579</td>\n",
       "      <td>Battery Material</td>\n",
       "    </tr>\n",
       "  </tbody>\n",
       "</table>\n",
       "</div>"
      ],
      "text/plain": [
       "   ProductID               Description\n",
       "0  000010359          Battery Material\n",
       "1  000010359               Intercalate\n",
       "2  000010503           Ionic Conductor\n",
       "3  000010579  Superconducting Material\n",
       "4  000010579          Battery Material"
      ]
     },
     "execution_count": 24,
     "metadata": {},
     "output_type": "execute_result"
    }
   ],
   "source": [
    "# read application file\n",
    "\n",
    "application_df = pd.read_csv(data_dir / \"applications.csv\", dtype={'ProductID': str})\n",
    "application_df.head()"
   ]
  },
  {
   "cell_type": "code",
   "execution_count": 28,
   "metadata": {},
   "outputs": [
    {
     "name": "stdout",
     "output_type": "stream",
     "text": [
      "        ProductID  Melting Points\n",
      "45      000010359          1073.0\n",
      "111     000010579           585.0\n",
      "139     000010646          3800.0\n",
      "150     000010677          1918.0\n",
      "166     000010706          1068.0\n",
      "...           ...             ...\n",
      "149159  040289696          1046.0\n",
      "149160  040289750           997.0\n",
      "149191  050050013           520.0\n",
      "149421  050050785           407.0\n",
      "151025  050057108           482.0\n",
      "\n",
      "[525 rows x 2 columns]\n"
     ]
    }
   ],
   "source": [
    "product_ids = application_df[\"ProductID\"].to_list()\n",
    "\n",
    "print(df_renamed[df_renamed.ProductID.isin(product_ids)])\n",
    "\n"
   ]
  },
  {
   "cell_type": "code",
   "execution_count": 29,
   "metadata": {},
   "outputs": [],
   "source": [
    "df_renamed_selected = df_renamed[df_renamed.ProductID.isin(product_ids)]"
   ]
  },
  {
   "cell_type": "code",
   "execution_count": 31,
   "metadata": {},
   "outputs": [],
   "source": [
    "file_name = \"melting-points-energy.csv\"\n",
    "\n",
    "file_path = data_dir / file_name\n",
    "\n",
    "df_renamed_selected.to_csv(file_path, index=False)"
   ]
  },
  {
   "cell_type": "code",
   "execution_count": null,
   "metadata": {},
   "outputs": [],
   "source": []
  }
 ],
 "metadata": {
  "kernelspec": {
   "display_name": "LLM-for-mater",
   "language": "python",
   "name": "venv"
  },
  "language_info": {
   "codemirror_mode": {
    "name": "ipython",
    "version": 3
   },
   "file_extension": ".py",
   "mimetype": "text/x-python",
   "name": "python",
   "nbconvert_exporter": "python",
   "pygments_lexer": "ipython3",
   "version": "3.12.0"
  }
 },
 "nbformat": 4,
 "nbformat_minor": 2
}
