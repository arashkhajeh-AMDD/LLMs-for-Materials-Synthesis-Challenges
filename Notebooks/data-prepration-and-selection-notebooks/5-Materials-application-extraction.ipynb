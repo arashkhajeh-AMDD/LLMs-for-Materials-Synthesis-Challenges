{
 "cells": [
  {
   "cell_type": "code",
   "execution_count": 1,
   "metadata": {},
   "outputs": [
    {
     "name": "stdout",
     "output_type": "stream",
     "text": [
      "Error processing all_subfile.pickle:name 'pickle' is not defined\n"
     ]
    }
   ],
   "source": [
    "import boto3\n",
    "from pathlib import Path\n",
    "from io import BytesIO\n",
    "\n",
    "s3 = boto3.client(\"s3\")\n",
    "bucket_name = \"icdd-extacted-info\"\n",
    "\n",
    "tables = [\"all_subfile.pickle\"]\n",
    "\n",
    "# Create the Data directory if it doesn't exist\n",
    "data_dir = Path('../Data')\n",
    "data_dir.mkdir(parents=True, exist_ok=True)\n",
    "\n",
    "for key in tables:\n",
    "    try:\n",
    "        response = s3.get_object(Bucket='icdd-extacted-info', Key=key)\n",
    "        data = pickle.load(BytesIO(response['Body'].read()))\n",
    "\n",
    "        # Save the pickle file locally\n",
    "        file_path = data_dir / key\n",
    "        with open(file_path, \"wb\") as f:\n",
    "            pickle.dump(data, f)\n",
    "        print(f\"Saved {key}\")\n",
    "    except Exception as e:\n",
    "        print(f\"Error processing {key}:{e}\")"
   ]
  },
  {
   "cell_type": "code",
   "execution_count": 2,
   "metadata": {},
   "outputs": [
    {
     "data": {
      "text/html": [
       "<div>\n",
       "<style scoped>\n",
       "    .dataframe tbody tr th:only-of-type {\n",
       "        vertical-align: middle;\n",
       "    }\n",
       "\n",
       "    .dataframe tbody tr th {\n",
       "        vertical-align: top;\n",
       "    }\n",
       "\n",
       "    .dataframe thead th {\n",
       "        text-align: right;\n",
       "    }\n",
       "</style>\n",
       "<table border=\"1\" class=\"dataframe\">\n",
       "  <thead>\n",
       "    <tr style=\"text-align: right;\">\n",
       "      <th></th>\n",
       "      <th>0</th>\n",
       "      <th>1</th>\n",
       "    </tr>\n",
       "  </thead>\n",
       "  <tbody>\n",
       "    <tr>\n",
       "      <th>0</th>\n",
       "      <td>000010001</td>\n",
       "      <td>Organic</td>\n",
       "    </tr>\n",
       "    <tr>\n",
       "      <th>1</th>\n",
       "      <td>000010001</td>\n",
       "      <td>Metal-Organic Phase</td>\n",
       "    </tr>\n",
       "    <tr>\n",
       "      <th>2</th>\n",
       "      <td>000010002</td>\n",
       "      <td>Metal-Organic Phase</td>\n",
       "    </tr>\n",
       "    <tr>\n",
       "      <th>3</th>\n",
       "      <td>000010002</td>\n",
       "      <td>Organic</td>\n",
       "    </tr>\n",
       "    <tr>\n",
       "      <th>4</th>\n",
       "      <td>000010003</td>\n",
       "      <td>Metal-Organic Phase</td>\n",
       "    </tr>\n",
       "  </tbody>\n",
       "</table>\n",
       "</div>"
      ],
      "text/plain": [
       "           0                    1\n",
       "0  000010001              Organic\n",
       "1  000010001  Metal-Organic Phase\n",
       "2  000010002  Metal-Organic Phase\n",
       "3  000010002              Organic\n",
       "4  000010003  Metal-Organic Phase"
      ]
     },
     "execution_count": 2,
     "metadata": {},
     "output_type": "execute_result"
    }
   ],
   "source": [
    "import pickle\n",
    "import pandas as pd\n",
    "from pathlib import Path\n",
    "\n",
    "table_name = \"all_subfile.pickle\"\n",
    "data_dir = Path(\"../Data\")\n",
    "file_path = data_dir / table_name\n",
    "\n",
    "with open(file_path, \"rb\") as f:\n",
    "    data = pickle.load(f)\n",
    "\n",
    "df = pd.DataFrame(data)\n",
    "\n",
    "df.head()"
   ]
  },
  {
   "cell_type": "code",
   "execution_count": 3,
   "metadata": {},
   "outputs": [],
   "source": [
    "column_names = [\"ProductID\", \"Description\"]\n",
    "\n",
    "column_names_map = {i:n for i, n in enumerate(column_names)}\n",
    "\n",
    "df.rename(column_names_map, axis=1, inplace=True)"
   ]
  },
  {
   "cell_type": "code",
   "execution_count": 4,
   "metadata": {},
   "outputs": [
    {
     "data": {
      "text/plain": [
       "(array(['Organic', 'Metal-Organic Phase', 'Pharmaceutical', 'Common Phase',\n",
       "        'Inorganic', 'Forensic', 'Pharmaceutical (Excipient)',\n",
       "        'Pigment/Dye', 'Educational Pattern',\n",
       "        'Mineral Related (Mineral, Natural)', 'Metal & Alloy',\n",
       "        'Mineral Related (Mineral, Synthetic)', 'Carbohydrate', 'Ceramic',\n",
       "        'Cement and Hydration Product', 'Nucleoside & Nucleotide',\n",
       "        'Explosive', 'Battery Material', 'Intercalate',\n",
       "        'Ceramic (Ferroelectric)', 'Ceramic (Bioceramic)',\n",
       "        'Amino Acid, Peptide & Complex', 'Ceramic (Semiconductor)',\n",
       "        'Ionic Conductor', 'Mineral Related (Clay, Mineral, Natural)',\n",
       "        'Superconducting Material', 'Thermoelectric Material',\n",
       "        'Hydrogen Storage Material', 'Micro & Mesoporous',\n",
       "        'Ceramic (Perovskite)', 'Ceramic (Ferroelectric, Semiconductor)',\n",
       "        'Ceramic (Microwave)', 'Ceramic (Microwave, Semiconductor)',\n",
       "        'Mineral Related (Gem, Mineral, Natural)', 'Mineral Related',\n",
       "        'Micro & Mesoporous (Zeolite)', 'Porphyrin, Corrin & Complex',\n",
       "        'Ceramic (Bioceramic, Semiconductor)',\n",
       "        'Ceramic (Microwave, Perovskite)',\n",
       "        'Superconducting Material (Superconductor Reaction Product)',\n",
       "        'Superconducting Material (Conventional Superconductor)',\n",
       "        'Mineral Related (Clay, Mineral, Synthetic)', 'Alkaloid',\n",
       "        'Polymer', 'Terpene',\n",
       "        'Superconducting Material (Superconductor Related Material)',\n",
       "        'Bioactive (Psychotropic)', 'Bioactive (Stimulant)', 'NBS Pattern',\n",
       "        'Bioactive (Depressant , Psychotropic)', 'Bioactive',\n",
       "        'Bioactive (Depressant , Narcotic)', 'Steroid',\n",
       "        'Bioactive (Narcotic)',\n",
       "        'Ceramic (Bioceramic, Ferroelectric, Perovskite, Semiconductor)',\n",
       "        'Ceramic (Perovskite, Semiconductor)',\n",
       "        'Bioactive (Narcotic , Stimulant)',\n",
       "        'Ceramic (Ferroelectric, Microwave)',\n",
       "        'Micro & Mesoporous (Clathrate)',\n",
       "        'Ceramic (Ferroelectric, Perovskite)',\n",
       "        'Ceramic (Ferroelectric, Microwave, Perovskite, Semiconductor)',\n",
       "        'Ceramic (Ferroelectric, Perovskite, Semiconductor)',\n",
       "        'Ceramic (Bioceramic, Microwave)', 'Thermal Expansion Material',\n",
       "        'Superconducting Material (Superconductor Reaction Product, Superconductor Related Material)',\n",
       "        'Ceramic (Ferroelectric, Microwave, Perovskite)',\n",
       "        'Bioactive (Pesticide & Antimicrobial)',\n",
       "        'Mineral Related (Gem, Mineral, Synthetic)',\n",
       "        'Bioactive (Psychotropic , Stimulant)', 'Bioactive (Depressant)',\n",
       "        'Superconducting Material (High Tc Superconductor)',\n",
       "        'Superconducting Material (Superconductor Related Material, High Tc Superconductor)',\n",
       "        'Modulated Structure',\n",
       "        'Ceramic (Bioceramic, Ferroelectric, Microwave, Perovskite)',\n",
       "        'Micro & Mesoporous (Metal Organic Framework)',\n",
       "        'Ceramic (Bioceramic, Microwave, Perovskite)',\n",
       "        'Superconducting Material (Conventional Superconductor, High Tc Superconductor)',\n",
       "        'Superconducting Material (Conventional Superconductor, Superconductor Related Material)',\n",
       "        'Giant Magneto Resistance',\n",
       "        'Ceramic (Bioceramic, Ferroelectric, Perovskite)',\n",
       "        'Solar Material', 'Mineral Related (Mineral)',\n",
       "        'Mineral Related (Clay)', 'Mineral Related (Synthetic)',\n",
       "        'Micro & Mesoporous (Metal Organic Framework , Zeolite)',\n",
       "        'Mineral Related (Gem)', 'Mineral Related (Natural)',\n",
       "        'Ceramic (Bioceramic, Ferroelectric, Semiconductor)',\n",
       "        'Ceramic (Bioceramic, Ferroelectric, Microwave)', 'Merck',\n",
       "        'Micro & Mesoporous (Clathrate , Zeolite)',\n",
       "        'Bioactive (Depressant , Pesticide & Antimicrobial)',\n",
       "        'Bioactive (Depressant , Narcotic , Psychotropic)',\n",
       "        'Bioactive (Depressant , Stimulant)',\n",
       "        'Bioactive (Pesticide & Antimicrobial , Psychotropic)',\n",
       "        'Bioactive (Depressant , Narcotic , Pesticide & Antimicrobial)',\n",
       "        'Bioactive (Pesticide & Antimicrobial , Stimulant)',\n",
       "        'Micro & Mesoporous (Clathrate , Metal Organic Framework)',\n",
       "        'Ceramic (Bioceramic, Perovskite)',\n",
       "        'Mineral Related (Clay, Mineral)',\n",
       "        'Mineral Related (Mineral, Natural, Synthetic)',\n",
       "        'Ceramic (Bioceramic, Ferroelectric)'], dtype=object),\n",
       " 102)"
      ]
     },
     "execution_count": 4,
     "metadata": {},
     "output_type": "execute_result"
    }
   ],
   "source": [
    "df[\"Description\"].unique(), len(df[\"Description\"].unique())"
   ]
  },
  {
   "cell_type": "code",
   "execution_count": 5,
   "metadata": {},
   "outputs": [
    {
     "data": {
      "text/plain": [
       "102"
      ]
     },
     "execution_count": 5,
     "metadata": {},
     "output_type": "execute_result"
    }
   ],
   "source": [
    "all_fields = df[\"Description\"].unique()\n",
    "len(all_fields)"
   ]
  },
  {
   "cell_type": "code",
   "execution_count": 6,
   "metadata": {},
   "outputs": [
    {
     "name": "stdout",
     "output_type": "stream",
     "text": [
      "['Organic' 'Metal-Organic Phase' 'Pharmaceutical' 'Common Phase'\n",
      " 'Inorganic' 'Forensic' 'Pharmaceutical (Excipient)' 'Pigment/Dye'\n",
      " 'Educational Pattern' 'Mineral Related (Mineral, Natural)'\n",
      " 'Metal & Alloy' 'Mineral Related (Mineral, Synthetic)' 'Carbohydrate'\n",
      " 'Ceramic' 'Cement and Hydration Product' 'Nucleoside & Nucleotide'\n",
      " 'Explosive' 'Battery Material' 'Intercalate' 'Ceramic (Ferroelectric)'\n",
      " 'Ceramic (Bioceramic)' 'Amino Acid, Peptide & Complex'\n",
      " 'Ceramic (Semiconductor)' 'Ionic Conductor'\n",
      " 'Mineral Related (Clay, Mineral, Natural)' 'Superconducting Material'\n",
      " 'Thermoelectric Material' 'Hydrogen Storage Material'\n",
      " 'Micro & Mesoporous' 'Ceramic (Perovskite)'\n",
      " 'Ceramic (Ferroelectric, Semiconductor)' 'Ceramic (Microwave)'\n",
      " 'Ceramic (Microwave, Semiconductor)'\n",
      " 'Mineral Related (Gem, Mineral, Natural)' 'Mineral Related'\n",
      " 'Micro & Mesoporous (Zeolite)' 'Porphyrin, Corrin & Complex'\n",
      " 'Ceramic (Bioceramic, Semiconductor)' 'Ceramic (Microwave, Perovskite)'\n",
      " 'Superconducting Material (Superconductor Reaction Product)'\n",
      " 'Superconducting Material (Conventional Superconductor)'\n",
      " 'Mineral Related (Clay, Mineral, Synthetic)' 'Alkaloid' 'Polymer'\n",
      " 'Terpene' 'Superconducting Material (Superconductor Related Material)'\n",
      " 'Bioactive (Psychotropic)' 'Bioactive (Stimulant)' 'NBS Pattern'\n",
      " 'Bioactive (Depressant , Psychotropic)']\n"
     ]
    }
   ],
   "source": [
    "print(all_fields[:50])"
   ]
  },
  {
   "cell_type": "code",
   "execution_count": 7,
   "metadata": {},
   "outputs": [
    {
     "name": "stdout",
     "output_type": "stream",
     "text": [
      "['Bioactive' 'Bioactive (Depressant , Narcotic)' 'Steroid'\n",
      " 'Bioactive (Narcotic)'\n",
      " 'Ceramic (Bioceramic, Ferroelectric, Perovskite, Semiconductor)'\n",
      " 'Ceramic (Perovskite, Semiconductor)' 'Bioactive (Narcotic , Stimulant)'\n",
      " 'Ceramic (Ferroelectric, Microwave)' 'Micro & Mesoporous (Clathrate)'\n",
      " 'Ceramic (Ferroelectric, Perovskite)'\n",
      " 'Ceramic (Ferroelectric, Microwave, Perovskite, Semiconductor)'\n",
      " 'Ceramic (Ferroelectric, Perovskite, Semiconductor)'\n",
      " 'Ceramic (Bioceramic, Microwave)' 'Thermal Expansion Material'\n",
      " 'Superconducting Material (Superconductor Reaction Product, Superconductor Related Material)'\n",
      " 'Ceramic (Ferroelectric, Microwave, Perovskite)'\n",
      " 'Bioactive (Pesticide & Antimicrobial)'\n",
      " 'Mineral Related (Gem, Mineral, Synthetic)'\n",
      " 'Bioactive (Psychotropic , Stimulant)' 'Bioactive (Depressant)'\n",
      " 'Superconducting Material (High Tc Superconductor)'\n",
      " 'Superconducting Material (Superconductor Related Material, High Tc Superconductor)'\n",
      " 'Modulated Structure'\n",
      " 'Ceramic (Bioceramic, Ferroelectric, Microwave, Perovskite)'\n",
      " 'Micro & Mesoporous (Metal Organic Framework)'\n",
      " 'Ceramic (Bioceramic, Microwave, Perovskite)'\n",
      " 'Superconducting Material (Conventional Superconductor, High Tc Superconductor)'\n",
      " 'Superconducting Material (Conventional Superconductor, Superconductor Related Material)'\n",
      " 'Giant Magneto Resistance'\n",
      " 'Ceramic (Bioceramic, Ferroelectric, Perovskite)']\n"
     ]
    }
   ],
   "source": [
    "print(all_fields[50:80])"
   ]
  },
  {
   "cell_type": "code",
   "execution_count": 8,
   "metadata": {},
   "outputs": [
    {
     "name": "stdout",
     "output_type": "stream",
     "text": [
      "['Solar Material' 'Mineral Related (Mineral)' 'Mineral Related (Clay)'\n",
      " 'Mineral Related (Synthetic)'\n",
      " 'Micro & Mesoporous (Metal Organic Framework , Zeolite)'\n",
      " 'Mineral Related (Gem)' 'Mineral Related (Natural)'\n",
      " 'Ceramic (Bioceramic, Ferroelectric, Semiconductor)'\n",
      " 'Ceramic (Bioceramic, Ferroelectric, Microwave)' 'Merck'\n",
      " 'Micro & Mesoporous (Clathrate , Zeolite)'\n",
      " 'Bioactive (Depressant , Pesticide & Antimicrobial)'\n",
      " 'Bioactive (Depressant , Narcotic , Psychotropic)'\n",
      " 'Bioactive (Depressant , Stimulant)'\n",
      " 'Bioactive (Pesticide & Antimicrobial , Psychotropic)'\n",
      " 'Bioactive (Depressant , Narcotic , Pesticide & Antimicrobial)'\n",
      " 'Bioactive (Pesticide & Antimicrobial , Stimulant)'\n",
      " 'Micro & Mesoporous (Clathrate , Metal Organic Framework)'\n",
      " 'Ceramic (Bioceramic, Perovskite)' 'Mineral Related (Clay, Mineral)'\n",
      " 'Mineral Related (Mineral, Natural, Synthetic)'\n",
      " 'Ceramic (Bioceramic, Ferroelectric)']\n"
     ]
    }
   ],
   "source": [
    "print(all_fields[80:])"
   ]
  },
  {
   "cell_type": "markdown",
   "metadata": {},
   "source": [
    "### Exploring interesting fileds"
   ]
  },
  {
   "cell_type": "code",
   "execution_count": 9,
   "metadata": {},
   "outputs": [
    {
     "data": {
      "text/html": [
       "<div>\n",
       "<style scoped>\n",
       "    .dataframe tbody tr th:only-of-type {\n",
       "        vertical-align: middle;\n",
       "    }\n",
       "\n",
       "    .dataframe tbody tr th {\n",
       "        vertical-align: top;\n",
       "    }\n",
       "\n",
       "    .dataframe thead th {\n",
       "        text-align: right;\n",
       "    }\n",
       "</style>\n",
       "<table border=\"1\" class=\"dataframe\">\n",
       "  <thead>\n",
       "    <tr style=\"text-align: right;\">\n",
       "      <th></th>\n",
       "      <th>ProductID</th>\n",
       "      <th>Description</th>\n",
       "    </tr>\n",
       "  </thead>\n",
       "  <tbody>\n",
       "    <tr>\n",
       "      <th>668</th>\n",
       "      <td>000010359</td>\n",
       "      <td>Battery Material</td>\n",
       "    </tr>\n",
       "    <tr>\n",
       "      <th>1112</th>\n",
       "      <td>000010579</td>\n",
       "      <td>Battery Material</td>\n",
       "    </tr>\n",
       "    <tr>\n",
       "      <th>1251</th>\n",
       "      <td>000010646</td>\n",
       "      <td>Battery Material</td>\n",
       "    </tr>\n",
       "    <tr>\n",
       "      <th>1326</th>\n",
       "      <td>000010677</td>\n",
       "      <td>Battery Material</td>\n",
       "    </tr>\n",
       "    <tr>\n",
       "      <th>1393</th>\n",
       "      <td>000010706</td>\n",
       "      <td>Battery Material</td>\n",
       "    </tr>\n",
       "    <tr>\n",
       "      <th>...</th>\n",
       "      <td>...</td>\n",
       "      <td>...</td>\n",
       "    </tr>\n",
       "    <tr>\n",
       "      <th>1949659</th>\n",
       "      <td>050091280</td>\n",
       "      <td>Battery Material</td>\n",
       "    </tr>\n",
       "    <tr>\n",
       "      <th>1964571</th>\n",
       "      <td>050102233</td>\n",
       "      <td>Battery Material</td>\n",
       "    </tr>\n",
       "    <tr>\n",
       "      <th>1964574</th>\n",
       "      <td>050102234</td>\n",
       "      <td>Battery Material</td>\n",
       "    </tr>\n",
       "    <tr>\n",
       "      <th>1964575</th>\n",
       "      <td>050102235</td>\n",
       "      <td>Battery Material</td>\n",
       "    </tr>\n",
       "    <tr>\n",
       "      <th>1971481</th>\n",
       "      <td>050104686</td>\n",
       "      <td>Battery Material</td>\n",
       "    </tr>\n",
       "  </tbody>\n",
       "</table>\n",
       "<p>6525 rows × 2 columns</p>\n",
       "</div>"
      ],
      "text/plain": [
       "         ProductID       Description\n",
       "668      000010359  Battery Material\n",
       "1112     000010579  Battery Material\n",
       "1251     000010646  Battery Material\n",
       "1326     000010677  Battery Material\n",
       "1393     000010706  Battery Material\n",
       "...            ...               ...\n",
       "1949659  050091280  Battery Material\n",
       "1964571  050102233  Battery Material\n",
       "1964574  050102234  Battery Material\n",
       "1964575  050102235  Battery Material\n",
       "1971481  050104686  Battery Material\n",
       "\n",
       "[6525 rows x 2 columns]"
      ]
     },
     "execution_count": 9,
     "metadata": {},
     "output_type": "execute_result"
    }
   ],
   "source": [
    "df[df.Description.str.find(\"Battery\") >=0]"
   ]
  },
  {
   "cell_type": "code",
   "execution_count": 17,
   "metadata": {},
   "outputs": [
    {
     "data": {
      "text/plain": [
       "array(['Battery Material'], dtype=object)"
      ]
     },
     "execution_count": 17,
     "metadata": {},
     "output_type": "execute_result"
    }
   ],
   "source": [
    "df[df.Description.str.find(\"Battery\") >=0].Description.unique()"
   ]
  },
  {
   "cell_type": "code",
   "execution_count": 10,
   "metadata": {},
   "outputs": [
    {
     "data": {
      "text/html": [
       "<div>\n",
       "<style scoped>\n",
       "    .dataframe tbody tr th:only-of-type {\n",
       "        vertical-align: middle;\n",
       "    }\n",
       "\n",
       "    .dataframe tbody tr th {\n",
       "        vertical-align: top;\n",
       "    }\n",
       "\n",
       "    .dataframe thead th {\n",
       "        text-align: right;\n",
       "    }\n",
       "</style>\n",
       "<table border=\"1\" class=\"dataframe\">\n",
       "  <thead>\n",
       "    <tr style=\"text-align: right;\">\n",
       "      <th></th>\n",
       "      <th>ProductID</th>\n",
       "      <th>Description</th>\n",
       "    </tr>\n",
       "  </thead>\n",
       "  <tbody>\n",
       "    <tr>\n",
       "      <th>670</th>\n",
       "      <td>000010359</td>\n",
       "      <td>Intercalate</td>\n",
       "    </tr>\n",
       "    <tr>\n",
       "      <th>7182</th>\n",
       "      <td>000030206</td>\n",
       "      <td>Intercalate</td>\n",
       "    </tr>\n",
       "    <tr>\n",
       "      <th>16891</th>\n",
       "      <td>000090387</td>\n",
       "      <td>Intercalate</td>\n",
       "    </tr>\n",
       "    <tr>\n",
       "      <th>35049</th>\n",
       "      <td>000170108</td>\n",
       "      <td>Intercalate</td>\n",
       "    </tr>\n",
       "    <tr>\n",
       "      <th>62294</th>\n",
       "      <td>000251269</td>\n",
       "      <td>Intercalate</td>\n",
       "    </tr>\n",
       "    <tr>\n",
       "      <th>...</th>\n",
       "      <td>...</td>\n",
       "      <td>...</td>\n",
       "    </tr>\n",
       "    <tr>\n",
       "      <th>1825835</th>\n",
       "      <td>040257177</td>\n",
       "      <td>Intercalate</td>\n",
       "    </tr>\n",
       "    <tr>\n",
       "      <th>1843496</th>\n",
       "      <td>040267420</td>\n",
       "      <td>Intercalate</td>\n",
       "    </tr>\n",
       "    <tr>\n",
       "      <th>1848129</th>\n",
       "      <td>040272330</td>\n",
       "      <td>Intercalate</td>\n",
       "    </tr>\n",
       "    <tr>\n",
       "      <th>1862503</th>\n",
       "      <td>040279857</td>\n",
       "      <td>Intercalate</td>\n",
       "    </tr>\n",
       "    <tr>\n",
       "      <th>1883186</th>\n",
       "      <td>050010328</td>\n",
       "      <td>Intercalate</td>\n",
       "    </tr>\n",
       "  </tbody>\n",
       "</table>\n",
       "<p>600 rows × 2 columns</p>\n",
       "</div>"
      ],
      "text/plain": [
       "         ProductID  Description\n",
       "670      000010359  Intercalate\n",
       "7182     000030206  Intercalate\n",
       "16891    000090387  Intercalate\n",
       "35049    000170108  Intercalate\n",
       "62294    000251269  Intercalate\n",
       "...            ...          ...\n",
       "1825835  040257177  Intercalate\n",
       "1843496  040267420  Intercalate\n",
       "1848129  040272330  Intercalate\n",
       "1862503  040279857  Intercalate\n",
       "1883186  050010328  Intercalate\n",
       "\n",
       "[600 rows x 2 columns]"
      ]
     },
     "execution_count": 10,
     "metadata": {},
     "output_type": "execute_result"
    }
   ],
   "source": [
    "df[df.Description.str.find(\"Intercalate\") >=0]"
   ]
  },
  {
   "cell_type": "code",
   "execution_count": 16,
   "metadata": {},
   "outputs": [
    {
     "data": {
      "text/plain": [
       "array(['Intercalate'], dtype=object)"
      ]
     },
     "execution_count": 16,
     "metadata": {},
     "output_type": "execute_result"
    }
   ],
   "source": [
    "df[df.Description.str.find(\"Intercalate\") >=0].Description.unique()"
   ]
  },
  {
   "cell_type": "code",
   "execution_count": 11,
   "metadata": {},
   "outputs": [
    {
     "data": {
      "text/html": [
       "<div>\n",
       "<style scoped>\n",
       "    .dataframe tbody tr th:only-of-type {\n",
       "        vertical-align: middle;\n",
       "    }\n",
       "\n",
       "    .dataframe tbody tr th {\n",
       "        vertical-align: top;\n",
       "    }\n",
       "\n",
       "    .dataframe thead th {\n",
       "        text-align: right;\n",
       "    }\n",
       "</style>\n",
       "<table border=\"1\" class=\"dataframe\">\n",
       "  <thead>\n",
       "    <tr style=\"text-align: right;\">\n",
       "      <th></th>\n",
       "      <th>ProductID</th>\n",
       "      <th>Description</th>\n",
       "    </tr>\n",
       "  </thead>\n",
       "  <tbody>\n",
       "    <tr>\n",
       "      <th>954</th>\n",
       "      <td>000010503</td>\n",
       "      <td>Ionic Conductor</td>\n",
       "    </tr>\n",
       "    <tr>\n",
       "      <th>1632</th>\n",
       "      <td>000010800</td>\n",
       "      <td>Ionic Conductor</td>\n",
       "    </tr>\n",
       "    <tr>\n",
       "      <th>1984</th>\n",
       "      <td>000010961</td>\n",
       "      <td>Ionic Conductor</td>\n",
       "    </tr>\n",
       "    <tr>\n",
       "      <th>2508</th>\n",
       "      <td>000011151</td>\n",
       "      <td>Ionic Conductor</td>\n",
       "    </tr>\n",
       "    <tr>\n",
       "      <th>3049</th>\n",
       "      <td>000011300</td>\n",
       "      <td>Ionic Conductor</td>\n",
       "    </tr>\n",
       "    <tr>\n",
       "      <th>...</th>\n",
       "      <td>...</td>\n",
       "      <td>...</td>\n",
       "    </tr>\n",
       "    <tr>\n",
       "      <th>1883275</th>\n",
       "      <td>050010355</td>\n",
       "      <td>Ionic Conductor</td>\n",
       "    </tr>\n",
       "    <tr>\n",
       "      <th>1883279</th>\n",
       "      <td>050010356</td>\n",
       "      <td>Ionic Conductor</td>\n",
       "    </tr>\n",
       "    <tr>\n",
       "      <th>1883342</th>\n",
       "      <td>050010375</td>\n",
       "      <td>Ionic Conductor</td>\n",
       "    </tr>\n",
       "    <tr>\n",
       "      <th>1883889</th>\n",
       "      <td>050010575</td>\n",
       "      <td>Ionic Conductor</td>\n",
       "    </tr>\n",
       "    <tr>\n",
       "      <th>1895111</th>\n",
       "      <td>050059459</td>\n",
       "      <td>Ionic Conductor</td>\n",
       "    </tr>\n",
       "  </tbody>\n",
       "</table>\n",
       "<p>3556 rows × 2 columns</p>\n",
       "</div>"
      ],
      "text/plain": [
       "         ProductID      Description\n",
       "954      000010503  Ionic Conductor\n",
       "1632     000010800  Ionic Conductor\n",
       "1984     000010961  Ionic Conductor\n",
       "2508     000011151  Ionic Conductor\n",
       "3049     000011300  Ionic Conductor\n",
       "...            ...              ...\n",
       "1883275  050010355  Ionic Conductor\n",
       "1883279  050010356  Ionic Conductor\n",
       "1883342  050010375  Ionic Conductor\n",
       "1883889  050010575  Ionic Conductor\n",
       "1895111  050059459  Ionic Conductor\n",
       "\n",
       "[3556 rows x 2 columns]"
      ]
     },
     "execution_count": 11,
     "metadata": {},
     "output_type": "execute_result"
    }
   ],
   "source": [
    "df[df.Description.str.find(\"Ionic\") >=0]"
   ]
  },
  {
   "cell_type": "code",
   "execution_count": 14,
   "metadata": {},
   "outputs": [
    {
     "data": {
      "text/plain": [
       "array(['Ionic Conductor'], dtype=object)"
      ]
     },
     "execution_count": 14,
     "metadata": {},
     "output_type": "execute_result"
    }
   ],
   "source": [
    "df[df.Description.str.find(\"Ionic\") >=0][\"Description\"].unique()"
   ]
  },
  {
   "cell_type": "code",
   "execution_count": 12,
   "metadata": {},
   "outputs": [
    {
     "data": {
      "text/html": [
       "<div>\n",
       "<style scoped>\n",
       "    .dataframe tbody tr th:only-of-type {\n",
       "        vertical-align: middle;\n",
       "    }\n",
       "\n",
       "    .dataframe tbody tr th {\n",
       "        vertical-align: top;\n",
       "    }\n",
       "\n",
       "    .dataframe thead th {\n",
       "        text-align: right;\n",
       "    }\n",
       "</style>\n",
       "<table border=\"1\" class=\"dataframe\">\n",
       "  <thead>\n",
       "    <tr style=\"text-align: right;\">\n",
       "      <th></th>\n",
       "      <th>ProductID</th>\n",
       "      <th>Description</th>\n",
       "    </tr>\n",
       "  </thead>\n",
       "  <tbody>\n",
       "    <tr>\n",
       "      <th>1110</th>\n",
       "      <td>000010579</td>\n",
       "      <td>Superconducting Material</td>\n",
       "    </tr>\n",
       "    <tr>\n",
       "      <th>1215</th>\n",
       "      <td>000010628</td>\n",
       "      <td>Superconducting Material</td>\n",
       "    </tr>\n",
       "    <tr>\n",
       "      <th>1498</th>\n",
       "      <td>000010750</td>\n",
       "      <td>Superconducting Material</td>\n",
       "    </tr>\n",
       "    <tr>\n",
       "      <th>1611</th>\n",
       "      <td>000010796</td>\n",
       "      <td>Superconducting Material</td>\n",
       "    </tr>\n",
       "    <tr>\n",
       "      <th>1621</th>\n",
       "      <td>000010797</td>\n",
       "      <td>Superconducting Material</td>\n",
       "    </tr>\n",
       "    <tr>\n",
       "      <th>...</th>\n",
       "      <td>...</td>\n",
       "      <td>...</td>\n",
       "    </tr>\n",
       "    <tr>\n",
       "      <th>1884702</th>\n",
       "      <td>050050013</td>\n",
       "      <td>Superconducting Material (Conventional Superco...</td>\n",
       "    </tr>\n",
       "    <tr>\n",
       "      <th>1885363</th>\n",
       "      <td>050050357</td>\n",
       "      <td>Superconducting Material</td>\n",
       "    </tr>\n",
       "    <tr>\n",
       "      <th>1885380</th>\n",
       "      <td>050050364</td>\n",
       "      <td>Superconducting Material (Conventional Superco...</td>\n",
       "    </tr>\n",
       "    <tr>\n",
       "      <th>1888253</th>\n",
       "      <td>050053387</td>\n",
       "      <td>Superconducting Material</td>\n",
       "    </tr>\n",
       "    <tr>\n",
       "      <th>1965961</th>\n",
       "      <td>050098290</td>\n",
       "      <td>Superconducting Material (Conventional Superco...</td>\n",
       "    </tr>\n",
       "  </tbody>\n",
       "</table>\n",
       "<p>9998 rows × 2 columns</p>\n",
       "</div>"
      ],
      "text/plain": [
       "         ProductID                                        Description\n",
       "1110     000010579                           Superconducting Material\n",
       "1215     000010628                           Superconducting Material\n",
       "1498     000010750                           Superconducting Material\n",
       "1611     000010796                           Superconducting Material\n",
       "1621     000010797                           Superconducting Material\n",
       "...            ...                                                ...\n",
       "1884702  050050013  Superconducting Material (Conventional Superco...\n",
       "1885363  050050357                           Superconducting Material\n",
       "1885380  050050364  Superconducting Material (Conventional Superco...\n",
       "1888253  050053387                           Superconducting Material\n",
       "1965961  050098290  Superconducting Material (Conventional Superco...\n",
       "\n",
       "[9998 rows x 2 columns]"
      ]
     },
     "execution_count": 12,
     "metadata": {},
     "output_type": "execute_result"
    }
   ],
   "source": [
    "df[df.Description.str.find(\"Superconducting\") >=0]"
   ]
  },
  {
   "cell_type": "code",
   "execution_count": 15,
   "metadata": {},
   "outputs": [
    {
     "data": {
      "text/plain": [
       "array(['Superconducting Material',\n",
       "       'Superconducting Material (Superconductor Reaction Product)',\n",
       "       'Superconducting Material (Conventional Superconductor)',\n",
       "       'Superconducting Material (Superconductor Related Material)',\n",
       "       'Superconducting Material (Superconductor Reaction Product, Superconductor Related Material)',\n",
       "       'Superconducting Material (High Tc Superconductor)',\n",
       "       'Superconducting Material (Superconductor Related Material, High Tc Superconductor)',\n",
       "       'Superconducting Material (Conventional Superconductor, High Tc Superconductor)',\n",
       "       'Superconducting Material (Conventional Superconductor, Superconductor Related Material)'],\n",
       "      dtype=object)"
      ]
     },
     "execution_count": 15,
     "metadata": {},
     "output_type": "execute_result"
    }
   ],
   "source": [
    "df[df.Description.str.find(\"Superconducting\") >=0].Description.unique()"
   ]
  },
  {
   "cell_type": "markdown",
   "metadata": {},
   "source": []
  },
  {
   "cell_type": "code",
   "execution_count": 13,
   "metadata": {},
   "outputs": [
    {
     "data": {
      "text/html": [
       "<div>\n",
       "<style scoped>\n",
       "    .dataframe tbody tr th:only-of-type {\n",
       "        vertical-align: middle;\n",
       "    }\n",
       "\n",
       "    .dataframe tbody tr th {\n",
       "        vertical-align: top;\n",
       "    }\n",
       "\n",
       "    .dataframe thead th {\n",
       "        text-align: right;\n",
       "    }\n",
       "</style>\n",
       "<table border=\"1\" class=\"dataframe\">\n",
       "  <thead>\n",
       "    <tr style=\"text-align: right;\">\n",
       "      <th></th>\n",
       "      <th>ProductID</th>\n",
       "      <th>Description</th>\n",
       "    </tr>\n",
       "  </thead>\n",
       "  <tbody>\n",
       "  </tbody>\n",
       "</table>\n",
       "</div>"
      ],
      "text/plain": [
       "Empty DataFrame\n",
       "Columns: [ProductID, Description]\n",
       "Index: []"
      ]
     },
     "execution_count": 13,
     "metadata": {},
     "output_type": "execute_result"
    }
   ],
   "source": [
    "df[df.Description.str.find(\"Corrosion\") >=0]"
   ]
  },
  {
   "cell_type": "code",
   "execution_count": 21,
   "metadata": {},
   "outputs": [],
   "source": [
    "target_fields = [\"Battery\", \"Superconducting\", \"Ionic\", \"Intercalate\"]\n",
    "\n",
    "\n",
    "\n",
    "# for i in range(len(df)):\n",
    "#     for t in target_fields:\n",
    "#         if df.iloc[i][\"Description\"].find(t)>=0:\n",
    "#             print(\"yes\")"
   ]
  },
  {
   "cell_type": "code",
   "execution_count": 20,
   "metadata": {},
   "outputs": [
    {
     "data": {
      "text/html": [
       "<div>\n",
       "<style scoped>\n",
       "    .dataframe tbody tr th:only-of-type {\n",
       "        vertical-align: middle;\n",
       "    }\n",
       "\n",
       "    .dataframe tbody tr th {\n",
       "        vertical-align: top;\n",
       "    }\n",
       "\n",
       "    .dataframe thead th {\n",
       "        text-align: right;\n",
       "    }\n",
       "</style>\n",
       "<table border=\"1\" class=\"dataframe\">\n",
       "  <thead>\n",
       "    <tr style=\"text-align: right;\">\n",
       "      <th></th>\n",
       "      <th>ProductID</th>\n",
       "      <th>Description</th>\n",
       "    </tr>\n",
       "  </thead>\n",
       "  <tbody>\n",
       "    <tr>\n",
       "      <th>668</th>\n",
       "      <td>000010359</td>\n",
       "      <td>Battery Material</td>\n",
       "    </tr>\n",
       "    <tr>\n",
       "      <th>670</th>\n",
       "      <td>000010359</td>\n",
       "      <td>Intercalate</td>\n",
       "    </tr>\n",
       "    <tr>\n",
       "      <th>954</th>\n",
       "      <td>000010503</td>\n",
       "      <td>Ionic Conductor</td>\n",
       "    </tr>\n",
       "    <tr>\n",
       "      <th>1110</th>\n",
       "      <td>000010579</td>\n",
       "      <td>Superconducting Material</td>\n",
       "    </tr>\n",
       "    <tr>\n",
       "      <th>1112</th>\n",
       "      <td>000010579</td>\n",
       "      <td>Battery Material</td>\n",
       "    </tr>\n",
       "    <tr>\n",
       "      <th>...</th>\n",
       "      <td>...</td>\n",
       "      <td>...</td>\n",
       "    </tr>\n",
       "    <tr>\n",
       "      <th>1964571</th>\n",
       "      <td>050102233</td>\n",
       "      <td>Battery Material</td>\n",
       "    </tr>\n",
       "    <tr>\n",
       "      <th>1964574</th>\n",
       "      <td>050102234</td>\n",
       "      <td>Battery Material</td>\n",
       "    </tr>\n",
       "    <tr>\n",
       "      <th>1964575</th>\n",
       "      <td>050102235</td>\n",
       "      <td>Battery Material</td>\n",
       "    </tr>\n",
       "    <tr>\n",
       "      <th>1965961</th>\n",
       "      <td>050098290</td>\n",
       "      <td>Superconducting Material (Conventional Superco...</td>\n",
       "    </tr>\n",
       "    <tr>\n",
       "      <th>1971481</th>\n",
       "      <td>050104686</td>\n",
       "      <td>Battery Material</td>\n",
       "    </tr>\n",
       "  </tbody>\n",
       "</table>\n",
       "<p>20679 rows × 2 columns</p>\n",
       "</div>"
      ],
      "text/plain": [
       "         ProductID                                        Description\n",
       "668      000010359                                   Battery Material\n",
       "670      000010359                                        Intercalate\n",
       "954      000010503                                    Ionic Conductor\n",
       "1110     000010579                           Superconducting Material\n",
       "1112     000010579                                   Battery Material\n",
       "...            ...                                                ...\n",
       "1964571  050102233                                   Battery Material\n",
       "1964574  050102234                                   Battery Material\n",
       "1964575  050102235                                   Battery Material\n",
       "1965961  050098290  Superconducting Material (Conventional Superco...\n",
       "1971481  050104686                                   Battery Material\n",
       "\n",
       "[20679 rows x 2 columns]"
      ]
     },
     "execution_count": 20,
     "metadata": {},
     "output_type": "execute_result"
    }
   ],
   "source": [
    "target_fields = [\"Battery\", \"Superconducting\", \"Ionic\", \"Intercalate\"]\n",
    "\n",
    "# Build a regex pattern like: 'Battery|Superconducting|Ionic|Intercalate'\n",
    "pattern = '|'.join(target_fields)\n",
    "\n",
    "# Filter rows where 'Description' contains any of the target words\n",
    "matched_df = df[df[\"Description\"].str.contains(pattern, case=False, na=False)]\n",
    "\n",
    "# Show result\n",
    "matched_df\n"
   ]
  },
  {
   "cell_type": "code",
   "execution_count": 23,
   "metadata": {},
   "outputs": [],
   "source": [
    "# Save csv file \n",
    "file_name = \"applications-energy.csv\"\n",
    "\n",
    "file_path = data_dir / file_name\n",
    "\n",
    "matched_df.to_csv(file_path, index=False)"
   ]
  },
  {
   "cell_type": "code",
   "execution_count": null,
   "metadata": {},
   "outputs": [],
   "source": []
  }
 ],
 "metadata": {
  "kernelspec": {
   "display_name": "LLM-for-materials-env",
   "language": "python",
   "name": "venv"
  },
  "language_info": {
   "codemirror_mode": {
    "name": "ipython",
    "version": 3
   },
   "file_extension": ".py",
   "mimetype": "text/x-python",
   "name": "python",
   "nbconvert_exporter": "python",
   "pygments_lexer": "ipython3",
   "version": "3.12.0"
  }
 },
 "nbformat": 4,
 "nbformat_minor": 2
}
