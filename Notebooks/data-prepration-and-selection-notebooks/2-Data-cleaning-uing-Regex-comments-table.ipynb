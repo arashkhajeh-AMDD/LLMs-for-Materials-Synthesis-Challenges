{
 "cells": [
  {
   "cell_type": "markdown",
   "metadata": {},
   "source": [
    "# Regex"
   ]
  },
  {
   "cell_type": "code",
   "execution_count": 1,
   "metadata": {},
   "outputs": [
    {
     "data": {
      "text/html": [
       "<div>\n",
       "<style scoped>\n",
       "    .dataframe tbody tr th:only-of-type {\n",
       "        vertical-align: middle;\n",
       "    }\n",
       "\n",
       "    .dataframe tbody tr th {\n",
       "        vertical-align: top;\n",
       "    }\n",
       "\n",
       "    .dataframe thead th {\n",
       "        text-align: right;\n",
       "    }\n",
       "</style>\n",
       "<table border=\"1\" class=\"dataframe\">\n",
       "  <thead>\n",
       "    <tr style=\"text-align: right;\">\n",
       "      <th></th>\n",
       "      <th>ProductID</th>\n",
       "      <th>FullComment</th>\n",
       "    </tr>\n",
       "  </thead>\n",
       "  <tbody>\n",
       "    <tr>\n",
       "      <th>0</th>\n",
       "      <td>000010001</td>\n",
       "      <td>Warning: Unindexed pattern. Unit Cell Data Sou...</td>\n",
       "    </tr>\n",
       "    <tr>\n",
       "      <th>1</th>\n",
       "      <td>000010002</td>\n",
       "      <td>Warning: Unindexed pattern. Unit Cell Data Sou...</td>\n",
       "    </tr>\n",
       "    <tr>\n",
       "      <th>2</th>\n",
       "      <td>000010003</td>\n",
       "      <td>Warning: Unindexed pattern. Unit Cell Data Sou...</td>\n",
       "    </tr>\n",
       "    <tr>\n",
       "      <th>3</th>\n",
       "      <td>000010004</td>\n",
       "      <td>Warning: Unindexed pattern. Unit Cell Data Sou...</td>\n",
       "    </tr>\n",
       "    <tr>\n",
       "      <th>4</th>\n",
       "      <td>000010005</td>\n",
       "      <td>Warning: Unindexed pattern. Unit Cell Data Sou...</td>\n",
       "    </tr>\n",
       "  </tbody>\n",
       "</table>\n",
       "</div>"
      ],
      "text/plain": [
       "   ProductID                                        FullComment\n",
       "0  000010001  Warning: Unindexed pattern. Unit Cell Data Sou...\n",
       "1  000010002  Warning: Unindexed pattern. Unit Cell Data Sou...\n",
       "2  000010003  Warning: Unindexed pattern. Unit Cell Data Sou...\n",
       "3  000010004  Warning: Unindexed pattern. Unit Cell Data Sou...\n",
       "4  000010005  Warning: Unindexed pattern. Unit Cell Data Sou..."
      ]
     },
     "execution_count": 1,
     "metadata": {},
     "output_type": "execute_result"
    }
   ],
   "source": [
    "#load the comments_table.pickle\n",
    "import pickle\n",
    "from pathlib import Path\n",
    "import pandas as pd\n",
    "\n",
    "table_name = \"full_comments_renamed.pickle\"\n",
    "data_dir = Path('../Data')\n",
    "file_path = data_dir / table_name\n",
    "\n",
    "with open(file=file_path, mode=\"rb\") as f:\n",
    "    data = pickle.load(f)\n",
    "\n",
    "df = pd.DataFrame(data)\n",
    "df.head()"
   ]
  },
  {
   "cell_type": "code",
   "execution_count": 2,
   "metadata": {},
   "outputs": [
    {
     "data": {
      "text/plain": [
       "{'ProductID': '050104886',\n",
       " 'FullComment': 'Color: colourless. General Comments: Reported GOF=0.954. Habit: Prismatic. Structures: 10.1107/S2056989019007989. Article Title: Crystal structure and DFT study of benzyl 1-benzyl-2-oxo-1,2-dihydroquinoline-4-carboxylate. Temperature of Data Collection: Pattern taken at 296 K. Unit Cell Data Source: Single Crystal.'}"
      ]
     },
     "execution_count": 2,
     "metadata": {},
     "output_type": "execute_result"
    }
   ],
   "source": [
    "df.iloc[-1].to_dict()"
   ]
  },
  {
   "cell_type": "code",
   "execution_count": 5,
   "metadata": {},
   "outputs": [
    {
     "name": "stdout",
     "output_type": "stream",
     "text": [
      "{'Color': 'colourless', 'General Comments': 'Reported GOF=0.954', 'Habit': 'Prismatic', 'Structures': '10.1107/S2056989019007989', 'Article Title': 'Crystal structure and DFT study of benzyl 1-benzyl-2-oxo-1,2-dihydroquinoline-4-carboxylate', 'Temperature of Data Collection': 'Pattern taken at 296 K', 'Unit Cell Data Source': 'Single Crystal'}\n"
     ]
    }
   ],
   "source": [
    "import re\n",
    "\n",
    "def parse_full_comment(full_comment):\n",
    "    # Matches key: value. where value can contain periods\n",
    "    pattern = r'([A-Za-z\\s]+):\\s*(.*?)(?=\\. (?=[A-Za-z\\s]+:)|\\.$)'\n",
    "    \n",
    "    matches = re.findall(pattern, full_comment)\n",
    "    \n",
    "    return {k.strip(): v.strip().rstrip('.') for k, v in matches}\n",
    "\n",
    "\n",
    "# Example usage:\n",
    "full_comment = \"Color: colourless. General Comments: Reported GOF=0.954. Habit: Prismatic. Structures: 10.1107/S2056989019007989. Article Title: Crystal structure and DFT study of benzyl 1-benzyl-2-oxo-1,2-dihydroquinoline-4-carboxylate. Temperature of Data Collection: Pattern taken at 296 K. Unit Cell Data Source: Single Crystal.\"\n",
    "parsed_data = parse_full_comment(full_comment)\n",
    "print(parsed_data)\n"
   ]
  },
  {
   "cell_type": "code",
   "execution_count": 6,
   "metadata": {},
   "outputs": [],
   "source": [
    "df_test = df.sample(n=10000, random_state=42)\n",
    "\n",
    "# Apply the parser to each row in the FullComment column\n",
    "parsed_df = df_test[\"FullComment\"].apply(parse_full_comment)\n",
    "\n",
    "# Turn the Series of dicts into a DataFrame\n",
    "parsed_df = pd.DataFrame(parsed_df.tolist(), index=df_test.index)\n",
    "\n",
    "# Combine original df with the new parsed columns\n",
    "df_combined = pd.concat([df_test, parsed_df], axis=1)\n"
   ]
  },
  {
   "cell_type": "code",
   "execution_count": 15,
   "metadata": {},
   "outputs": [
    {
     "name": "stdout",
     "output_type": "stream",
     "text": [
      "139\n",
      "This is not a subgroup of the garnet structure\n",
      "In each complex unit the two mixed metal sites are occupied by Pr\n",
      "The solid separated was purified by column chromatography using hexane\n",
      "Same calculation with PBE functional revised for solids\n",
      "Phase III of Ti Ni is made up itself of three phases\n",
      "Contains two phases with identical powder patterns\n"
     ]
    }
   ],
   "source": [
    "print(len(df_combined.columns))\n",
    "for col in df_combined.columns:\n",
    "    if len(col)>40:\n",
    "        print(col)"
   ]
  },
  {
   "cell_type": "code",
   "execution_count": 16,
   "metadata": {},
   "outputs": [],
   "source": [
    "# improve the parsing function\n",
    "\n",
    "import re\n",
    "\n",
    "def parse_full_comment(full_comment):\n",
    "    # Pattern for key-value pairs\n",
    "    pattern = r'([A-Za-z\\s]+):\\s*(.*?)(?=\\. (?=[A-Za-z\\s]+:)|\\.$)'\n",
    "\n",
    "    matches = re.findall(pattern, full_comment)\n",
    "\n",
    "    # Only keep matches where all words in key start with uppercase letters\n",
    "    def is_valid_key(key):\n",
    "        return all(word.istitle() for word in key.split())\n",
    "\n",
    "    parsed = {k.strip(): v.strip().rstrip('.') for k, v in matches if is_valid_key(k.strip())}\n",
    "\n",
    "    return parsed\n"
   ]
  },
  {
   "cell_type": "code",
   "execution_count": 17,
   "metadata": {},
   "outputs": [],
   "source": [
    "df_test = df.sample(n=10000, random_state=42)\n",
    "\n",
    "# Apply the parser to each row in the FullComment column\n",
    "parsed_df = df_test[\"FullComment\"].apply(parse_full_comment)\n",
    "\n",
    "# Turn the Series of dicts into a DataFrame\n",
    "parsed_df = pd.DataFrame(parsed_df.tolist(), index=df_test.index)\n",
    "\n",
    "# Combine original df with the new parsed columns\n",
    "df_combined = pd.concat([df_test, parsed_df], axis=1)"
   ]
  },
  {
   "cell_type": "code",
   "execution_count": 19,
   "metadata": {},
   "outputs": [
    {
     "name": "stdout",
     "output_type": "stream",
     "text": [
      "56\n",
      "Index(['ProductID', 'FullComment', 'Color', 'Unit Cell Data Source',\n",
      "       'General Comments', 'Additional Diffraction Lines', 'Warning', 'Habit',\n",
      "       'Melting Point', 'Structures', 'Note',\n",
      "       'Calculated Pattern Original Remarks', 'Analysis', 'Article Title',\n",
      "       'Wyckoff Sequence', 'Minor Warning', 'Sample Preparation',\n",
      "       'Compound Preparation', 'Hypothetical Structure', 'Unit Cell',\n",
      "       'Significant Warning', 'Polymorphism', 'Reason O Quality Was Assigned',\n",
      "       'Chemically Related', 'Optical Data', 'Bioactivity',\n",
      "       'Additional Patterns', 'Sensitivity', 'Isomorphism',\n",
      "       'Deleted Or Rejected By', 'Major Warning', 'Phase Transition',\n",
      "       'In Situ Condition', 'Vickers Hardness Number',\n",
      "       'Absolute Configuration', 'Processing Information', 'Refractive Index',\n",
      "       'Powder Data', 'Temperature Factor', 'Delete', 'Raw Data Comment',\n",
      "       'Reflectance', 'Data Collection', 'D', 'Other Cell', 'Functional',\n",
      "       'Part I', 'Dy', 'Tm', 'Atomic Position', 'B', 'Water Loss',\n",
      "       'Boiling Point', 'E', 'Atomic Coordinates', 'Search Algorithm'],\n",
      "      dtype='object')\n"
     ]
    }
   ],
   "source": [
    "print(len(df_combined.columns))\n",
    "for col in df_combined.columns:\n",
    "    if len(col)>40:\n",
    "        print(col)\n",
    "print(df_combined.columns)"
   ]
  },
  {
   "cell_type": "code",
   "execution_count": 20,
   "metadata": {},
   "outputs": [],
   "source": [
    "# from tqdm.notebook import tqdm\n",
    "# tqdm.pandas()\n",
    "# import time\n",
    "\n",
    "# # Apply the parser to each row in the FullComment column\n",
    "# parsed_dicts = df[\"FullComment\"].progress_apply(parse_full_comment)\n",
    "# print(f\"Parsing completed!\")\n",
    "\n",
    "# with tqdm(total=2, desc=\"Combining DataFrames\") as pbar:\n",
    "#     parsed_df = pd.DataFrame(parsed_dicts.tolist(), index=df.index)\n",
    "#     pbar.update(1)\n",
    "#     df_combined = pd.concat([df, parsed_df], axis=1)\n",
    "#     pbar.update(1)\n"
   ]
  },
  {
   "cell_type": "code",
   "execution_count": 21,
   "metadata": {},
   "outputs": [
    {
     "data": {
      "application/vnd.jupyter.widget-view+json": {
       "model_id": "acb0fccbedf94ae69217862ebaedde89",
       "version_major": 2,
       "version_minor": 0
      },
      "text/plain": [
       "Parsing:   0%|          | 0/10000 [00:00<?, ?it/s]"
      ]
     },
     "metadata": {},
     "output_type": "display_data"
    },
    {
     "name": "stdout",
     "output_type": "stream",
     "text": [
      "✅ Parsing completed in 0.15 seconds\n",
      "✅ Dict-to-DataFrame took 0.02 seconds\n",
      "✅ Concatenation took 0.01 seconds\n"
     ]
    }
   ],
   "source": [
    "from tqdm.notebook import tqdm\n",
    "import time\n",
    "\n",
    "tqdm.pandas(desc=\"Parsing\")\n",
    "\n",
    "start = time.time()\n",
    "parsed_dicts = df_test[\"FullComment\"].progress_apply(parse_full_comment)\n",
    "parsed_dicts = parsed_dicts.copy()  # Force materialization\n",
    "print(f\"✅ Parsing completed in {time.time() - start:.2f} seconds\")\n",
    "\n",
    "start = time.time()\n",
    "parsed_df = pd.DataFrame(parsed_dicts.tolist(), index=df_test.index)\n",
    "print(f\"✅ Dict-to-DataFrame took {time.time() - start:.2f} seconds\")\n",
    "\n",
    "start = time.time()\n",
    "df_combined = pd.concat([df_test, parsed_df], axis=1)\n",
    "print(f\"✅ Concatenation took {time.time() - start:.2f} seconds\")\n"
   ]
  },
  {
   "cell_type": "code",
   "execution_count": 7,
   "metadata": {},
   "outputs": [
    {
     "data": {
      "text/plain": [
       "6.134094444444445"
      ]
     },
     "execution_count": 7,
     "metadata": {},
     "output_type": "execute_result"
    }
   ],
   "source": [
    "len(df)*0.02/3600"
   ]
  },
  {
   "cell_type": "code",
   "execution_count": null,
   "metadata": {},
   "outputs": [],
   "source": []
  },
  {
   "cell_type": "markdown",
   "metadata": {},
   "source": [
    "## Parallelized version"
   ]
  },
  {
   "cell_type": "code",
   "execution_count": 22,
   "metadata": {},
   "outputs": [
    {
     "data": {
      "application/vnd.jupyter.widget-view+json": {
       "model_id": "3d83f5ee28b142ea8879dcb1567549c4",
       "version_major": 2,
       "version_minor": 0
      },
      "text/plain": [
       "Threaded parsing:   0%|          | 0/10000 [00:00<?, ?it/s]"
      ]
     },
     "metadata": {},
     "output_type": "display_data"
    },
    {
     "name": "stdout",
     "output_type": "stream",
     "text": [
      "Processing time: 0.24 sec / 6.687084833780925e-05\n"
     ]
    }
   ],
   "source": [
    "from concurrent.futures import ThreadPoolExecutor\n",
    "from tqdm.notebook import tqdm\n",
    "import time\n",
    "\n",
    "start = time.time()\n",
    "# Clean input\n",
    "comments = df_test[\"FullComment\"].tolist()\n",
    "\n",
    "# Optional: redefine safe parser (just in case)\n",
    "def parse_full_comment_safe(comment):\n",
    "    try:\n",
    "        return parse_full_comment(comment)\n",
    "    except Exception:\n",
    "        return {}\n",
    "\n",
    "# Run in parallel using threads\n",
    "n_workers = 8  # adjust based on your CPU\n",
    "\n",
    "with ThreadPoolExecutor(max_workers=n_workers) as executor:\n",
    "    parsed_rows = list(tqdm(executor.map(parse_full_comment_safe, comments), total=len(comments), desc=\"Threaded parsing\"))\n",
    "\n",
    "# Convert to DataFrame\n",
    "parsed_df = pd.DataFrame(parsed_rows, index=df_test.index)\n",
    "\n",
    "# Combine with original\n",
    "df_combined = pd.concat([df_test, parsed_df], axis=1)\n",
    "\n",
    "end = time.time()\n",
    "print(f\"Processing time: {end - start:.2f} sec / {(end - start)/3600}\")\n",
    "\n"
   ]
  },
  {
   "cell_type": "code",
   "execution_count": 23,
   "metadata": {},
   "outputs": [
    {
     "name": "stdout",
     "output_type": "stream",
     "text": [
      "Estimated processing time: 26.58044803361893 sec\n"
     ]
    }
   ],
   "source": [
    "estimated_time = len(df)/len(df_test)*(end - start)\n",
    "print(f\"Estimated processing time: {estimated_time} sec\")"
   ]
  },
  {
   "cell_type": "code",
   "execution_count": 24,
   "metadata": {},
   "outputs": [
    {
     "data": {
      "application/vnd.jupyter.widget-view+json": {
       "model_id": "198a69a938e648e184e964269b94ab4e",
       "version_major": 2,
       "version_minor": 0
      },
      "text/plain": [
       "Threaded parsing:   0%|          | 0/1104137 [00:00<?, ?it/s]"
      ]
     },
     "metadata": {},
     "output_type": "display_data"
    },
    {
     "name": "stdout",
     "output_type": "stream",
     "text": [
      "Processing time: 31.78 sec / 0.008828652501106262\n"
     ]
    }
   ],
   "source": [
    "from concurrent.futures import ThreadPoolExecutor\n",
    "from tqdm.notebook import tqdm\n",
    "import time\n",
    "\n",
    "start = time.time()\n",
    "# Clean input\n",
    "comments = df[\"FullComment\"].tolist()\n",
    "\n",
    "# Optional: redefine safe parser (just in case)\n",
    "def parse_full_comment_safe(comment):\n",
    "    try:\n",
    "        return parse_full_comment(comment)\n",
    "    except Exception:\n",
    "        return {}\n",
    "\n",
    "# Run in parallel using threads\n",
    "n_workers = 16  # adjust based on your CPU\n",
    "\n",
    "with ThreadPoolExecutor(max_workers=n_workers) as executor:\n",
    "    parsed_rows = list(tqdm(executor.map(parse_full_comment_safe, comments), total=len(comments), desc=\"Threaded parsing\"))\n",
    "\n",
    "# Convert to DataFrame\n",
    "parsed_df = pd.DataFrame(parsed_rows, index=df.index)\n",
    "\n",
    "# Combine with original\n",
    "df_combined = pd.concat([df, parsed_df], axis=1)\n",
    "\n",
    "end = time.time()\n",
    "print(f\"Processing time: {end - start:.2f} sec / {(end - start)/3600}\")"
   ]
  },
  {
   "cell_type": "code",
   "execution_count": 26,
   "metadata": {},
   "outputs": [
    {
     "data": {
      "text/plain": [
       "(Index(['ProductID', 'FullComment', 'Warning', 'Unit Cell Data Source',\n",
       "        'General Comments', 'Reason O Quality Was Assigned',\n",
       "        'Deleted Or Rejected By', 'Color', 'Melting Point', 'Water Loss',\n",
       "        ...\n",
       "        'X', 'Phasons', 'Homologous Series', 'Calc', 'Preparation Reference',\n",
       "        'Procedure', 'Solution', 'Slurry', 'Kneading', 'Solution B'],\n",
       "       dtype='object', length=228),\n",
       " 228)"
      ]
     },
     "execution_count": 26,
     "metadata": {},
     "output_type": "execute_result"
    }
   ],
   "source": [
    "df_combined.columns, len(df_combined.columns)"
   ]
  },
  {
   "cell_type": "code",
   "execution_count": 29,
   "metadata": {},
   "outputs": [
    {
     "name": "stdout",
     "output_type": "stream",
     "text": [
      "228\n",
      "Unit Cell Data Source\n",
      "Reason O Quality Was Assigned\n",
      "Deleted Or Rejected By\n",
      "Additional Diffraction Lines\n",
      "Vickers Hardness Number\n",
      "Authors Phase Designation\n",
      "Parabromochlorobenzene\n",
      "Parachloroiodobenzene\n",
      "Processing Information\n",
      "Calculated Pattern Original Remarks\n",
      "Hypothetical Structure\n",
      "Absolute Configuration\n",
      "Terbium Manganese Iron Antimony Tellurium\n",
      "Drei Schichtstrukturen\n",
      "Tungsten Tetrachloride\n",
      "Monopotassium Pentachromium Octaselenide\n",
      "Dissociation Pressure Measurements\n",
      "Preparation Reference\n",
      "Index(['ProductID', 'FullComment', 'Warning', 'Unit Cell Data Source',\n",
      "       'General Comments', 'Reason O Quality Was Assigned',\n",
      "       'Deleted Or Rejected By', 'Color', 'Melting Point', 'Water Loss',\n",
      "       ...\n",
      "       'X', 'Phasons', 'Homologous Series', 'Calc', 'Preparation Reference',\n",
      "       'Procedure', 'Solution', 'Slurry', 'Kneading', 'Solution B'],\n",
      "      dtype='object', length=228)\n"
     ]
    }
   ],
   "source": [
    "print(len(df_combined.columns))\n",
    "for col in df_combined.columns:\n",
    "    if len(col)>20:\n",
    "        print(col)\n",
    "print(df_combined.columns)"
   ]
  },
  {
   "cell_type": "code",
   "execution_count": 33,
   "metadata": {},
   "outputs": [
    {
     "data": {
      "text/plain": [
       "{'ProductID': {850469: '040093825'},\n",
       " 'FullComment': {850469: 'ANX: AB5X8. LPF Collection Code: 1402048. Article Title: Superstructure with Pseudo Translation. II. Monopotassium Pentachromium Octaselenide: a Tunnel Structure. Temperature of Data Collection: 297 K. Minor Warning: Reported displacement parameters on non H atoms are outside the range 0.001<U<0.1. Ueq=0.012 used in the calculation. LPF Editor Comment:short interatomic distances for partly occupied sites. Significant Warning: Significant warning from the LPF Editor exist. Wyckoff Sequence: i6 h a. Unit Cell Data Source: Single Crystal.'}}"
      ]
     },
     "execution_count": 33,
     "metadata": {},
     "output_type": "execute_result"
    }
   ],
   "source": [
    "df[df[\"FullComment\"].str.contains(\"Monopotassium Pentachromium Octaselenide\", na=False)].to_dict()\n"
   ]
  },
  {
   "cell_type": "code",
   "execution_count": 34,
   "metadata": {},
   "outputs": [
    {
     "data": {
      "text/plain": [
       "{'ProductID': {124949: '000730928'},\n",
       " 'FullComment': {124949: 'Analysis: An INCA-Energy-350 X-ray EDS spectrometer (Oxford Instruments) on the Jeol JSM-6480LV scanning electron microscope (20 kV accelerating voltage, 0.7 nA beam current and 0.050 mm beam diameter) was employed for the quantitative microprobe analyses. Signals averaged over four points per phase had estimated standard deviations of 0.5 at.% for Tb (measured by L-series lines), 0.8 at.% for Mn and Fe and 0.6% for Sb and Te (measured by K-series lines). Tb 66.9, Mn 2.2, Fe 8.3, Sb 12.1, Te 10.1. Color: Metallic whitish gray. General Comments: Tb6FeTe2- and Tb6FeSb2-based solid solution. Terbium Manganese Iron Antimony Tellurium: Fe2P-type (K2UF6-type) Tb6Mn0.25Fe0.75SbTe rare earth intermetallic compound (space group P-62m, N 189, hP9) (Tb6FeSb2- and Tb6FeTe2-based solid solution). Processing Information: Rietveld refinement. Physical property: The alloy is brittle. The visible oxidation of surface was observed for a few weeks in air at room temperature. Pressure of Data Collection: 101 kPa. Sample Source or Locality: Arc-furnace melting in 1 Atm argon with Zr-getter (Electric arc 90V, 150A) of Tbpurity 99.9%), Mn and Fe (99.95%), Sb (99.99%) and Te (99,8%). Annealing at 1070K for a 320 h in argon. Quenchnig in ice-cold water. Sample provided by A.V.Morozkin,A.V.Knotko, A.V.Garshev and V.O.Yapaskurt (Moscow State Univ, Russia). Same Structure: K2UF6-type, hP9. Article Title: Magnetic properties of Fe2P-type Tb6FeTe2, Tb6CoTe2, Tb6NiTe2 and Er6FeTe2 compo unds. Wyckoff Sequence: Standard type g f d a. Unit Cell Data Source: Powder Diffraction.'}}"
      ]
     },
     "execution_count": 34,
     "metadata": {},
     "output_type": "execute_result"
    }
   ],
   "source": [
    "df[df[\"FullComment\"].str.contains(\"Terbium Manganese Iron Antimony Tellurium\", na=False)].to_dict()"
   ]
  },
  {
   "cell_type": "code",
   "execution_count": 35,
   "metadata": {},
   "outputs": [
    {
     "name": "stdout",
     "output_type": "stream",
     "text": [
      "Pickle file saved in ../Data/full_comments_parsed.pickle\n"
     ]
    }
   ],
   "source": [
    "from pathlib import Path\n",
    "\n",
    "output_path = Path(\"../Data/full_comments_parsed.pickle\")\n",
    "\n",
    "# save using pickle\n",
    "\n",
    "with open(output_path, 'wb') as f:\n",
    "    pickle.dump(df_combined, f)\n",
    "\n",
    "print(f\"Pickle file saved in {output_path}\")\n",
    "    "
   ]
  },
  {
   "cell_type": "code",
   "execution_count": 42,
   "metadata": {},
   "outputs": [],
   "source": [
    "# test loading\n",
    "\n",
    "with open(output_path, 'rb') as f:\n",
    "    data = pickle.load(f)\n",
    "\n",
    "df_parsed = pd.DataFrame(data)\n",
    "\n",
    "df_sampled = df_parsed.sample(n=10, random_state=42)"
   ]
  },
  {
   "cell_type": "code",
   "execution_count": 43,
   "metadata": {},
   "outputs": [
    {
     "data": {
      "text/plain": [
       "{'ProductID': '020708054',\n",
       " 'FullComment': 'CSD-refcode: NUTPEX. Formula from original source: C18 H15 N1 O4. Color: colorless. Habit: block. Melting Point: 458K. Note: Atomic coordinates were obtained by IUCr CIF collection. Calculated Pattern Original Remarks: SOURCE-CHEM: acetone/petroleum ether. Temperature of Data Collection: at 180 K. Unit Cell Data Source: Single Crystal.',\n",
       " 'Unit Cell Data Source': 'Single Crystal',\n",
       " 'Color': 'colorless',\n",
       " 'Melting Point': '458K',\n",
       " 'Note': 'Atomic coordinates were obtained by IUCr CIF collection',\n",
       " 'Habit': 'block',\n",
       " 'Calculated Pattern Original Remarks': 'SOURCE-CHEM: acetone/petroleum ether'}"
      ]
     },
     "execution_count": 43,
     "metadata": {},
     "output_type": "execute_result"
    }
   ],
   "source": [
    "df_sampled.iloc[4].dropna().to_dict()"
   ]
  },
  {
   "cell_type": "markdown",
   "metadata": {},
   "source": [
    "# Convert to SQlite database"
   ]
  },
  {
   "cell_type": "code",
   "execution_count": 47,
   "metadata": {},
   "outputs": [],
   "source": [
    "import sqlite3\n",
    "from pathlib import Path\n",
    "\n",
    "database_name = \"comments.db\"\n",
    "data_dir = Path(\"../Data\")\n",
    "\n",
    "database_path = data_dir / database_name\n",
    "\n",
    "# connect to database\n",
    "conn=sqlite3.connect(database_path)\n",
    "\n",
    "# Write the DataFrame to a table named \"my_table\"\n",
    "df_combined.to_sql(\"comments\", conn, if_exists=\"replace\", index=False)\n",
    "\n",
    "# Close connection\n",
    "conn.close()\n"
   ]
  },
  {
   "cell_type": "code",
   "execution_count": 50,
   "metadata": {},
   "outputs": [
    {
     "name": "stdout",
     "output_type": "stream",
     "text": [
      "         ProductID                                        FullComment  \\\n",
      "0        000010001  Warning: Unindexed pattern. Unit Cell Data Sou...   \n",
      "1        000010002  Warning: Unindexed pattern. Unit Cell Data Sou...   \n",
      "2        000010003  Warning: Unindexed pattern. Unit Cell Data Sou...   \n",
      "3        000010004  Warning: Unindexed pattern. Unit Cell Data Sou...   \n",
      "4        000010005  Warning: Unindexed pattern. Unit Cell Data Sou...   \n",
      "...            ...                                                ...   \n",
      "1104132  050104882  Color: colourless. General Comments: Reported ...   \n",
      "1104133  050104883  Color: yellow. General Comments: Reported GOF=...   \n",
      "1104134  050104884  Color: brown. General Comments: Reported GOF=1...   \n",
      "1104135  050104885  Color: dark blue. General Comments: Reported G...   \n",
      "1104136  050104886  Color: colourless. General Comments: Reported ...   \n",
      "\n",
      "                   Warning Unit Cell Data Source    General Comments  \\\n",
      "0        Unindexed pattern    Powder Diffraction                None   \n",
      "1        Unindexed pattern    Powder Diffraction                None   \n",
      "2        Unindexed pattern    Powder Diffraction                None   \n",
      "3        Unindexed pattern    Powder Diffraction                None   \n",
      "4        Unindexed pattern    Powder Diffraction                None   \n",
      "...                    ...                   ...                 ...   \n",
      "1104132               None        Single Crystal  Reported GOF=1.029   \n",
      "1104133               None        Single Crystal  Reported GOF=1.047   \n",
      "1104134               None        Single Crystal  Reported GOF=1.035   \n",
      "1104135               None        Single Crystal  Reported GOF=1.036   \n",
      "1104136               None        Single Crystal  Reported GOF=0.954   \n",
      "\n",
      "        Reason O Quality Was Assigned Deleted Or Rejected By       Color  \\\n",
      "0                                None                   None        None   \n",
      "1                                None                   None        None   \n",
      "2                                None                   None        None   \n",
      "3                                None                   None        None   \n",
      "4                                None                   None        None   \n",
      "...                               ...                    ...         ...   \n",
      "1104132                          None                   None  colourless   \n",
      "1104133                          None                   None      yellow   \n",
      "1104134                          None                   None       brown   \n",
      "1104135                          None                   None   dark blue   \n",
      "1104136                          None                   None  colourless   \n",
      "\n",
      "        Melting Point Water Loss  ...     X Phasons Homologous Series  Calc  \\\n",
      "0                None       None  ...  None    None              None  None   \n",
      "1                None       None  ...  None    None              None  None   \n",
      "2                None       None  ...  None    None              None  None   \n",
      "3                None       None  ...  None    None              None  None   \n",
      "4                None       None  ...  None    None              None  None   \n",
      "...               ...        ...  ...   ...     ...               ...   ...   \n",
      "1104132          None       None  ...  None    None              None  None   \n",
      "1104133          None       None  ...  None    None              None  None   \n",
      "1104134          None       None  ...  None    None              None  None   \n",
      "1104135          None       None  ...  None    None              None  None   \n",
      "1104136          None       None  ...  None    None              None  None   \n",
      "\n",
      "        Preparation Reference Procedure Solution Slurry Kneading Solution B  \n",
      "0                        None      None     None   None     None       None  \n",
      "1                        None      None     None   None     None       None  \n",
      "2                        None      None     None   None     None       None  \n",
      "3                        None      None     None   None     None       None  \n",
      "4                        None      None     None   None     None       None  \n",
      "...                       ...       ...      ...    ...      ...        ...  \n",
      "1104132                  None      None     None   None     None       None  \n",
      "1104133                  None      None     None   None     None       None  \n",
      "1104134                  None      None     None   None     None       None  \n",
      "1104135                  None      None     None   None     None       None  \n",
      "1104136                  None      None     None   None     None       None  \n",
      "\n",
      "[1104137 rows x 228 columns]\n"
     ]
    }
   ],
   "source": [
    "# Read the database for test\n",
    "conn = sqlite3.connect(database_path)\n",
    "df_loaded = pd.read_sql(\"SELECT * FROM comments\", conn)\n",
    "conn.close()\n",
    "\n",
    "print(df_loaded)\n"
   ]
  },
  {
   "cell_type": "code",
   "execution_count": 52,
   "metadata": {},
   "outputs": [
    {
     "data": {
      "text/plain": [
       "1104137"
      ]
     },
     "execution_count": 52,
     "metadata": {},
     "output_type": "execute_result"
    }
   ],
   "source": [
    "# 2nd method\n",
    "from pyprojroot import here\n",
    "from langchain_community.utilities import SQLDatabase\n",
    "from sqlalchemy import create_engine\n",
    "db_path = str(here(\"Data\")) + \"/comments_2.db\"\n",
    "db_path = f\"sqlite:///{db_path}\"\n",
    "\n",
    "engine = create_engine(db_path)\n",
    "df_combined.to_sql(\"comments_2\", engine, index=False)\n",
    "\n"
   ]
  },
  {
   "cell_type": "code",
   "execution_count": 54,
   "metadata": {},
   "outputs": [],
   "source": [
    "df_combined.to_csv(\"../Data/comments.csv\")"
   ]
  },
  {
   "cell_type": "code",
   "execution_count": 57,
   "metadata": {},
   "outputs": [
    {
     "data": {
      "text/html": [
       "<div>\n",
       "<style scoped>\n",
       "    .dataframe tbody tr th:only-of-type {\n",
       "        vertical-align: middle;\n",
       "    }\n",
       "\n",
       "    .dataframe tbody tr th {\n",
       "        vertical-align: top;\n",
       "    }\n",
       "\n",
       "    .dataframe thead th {\n",
       "        text-align: right;\n",
       "    }\n",
       "</style>\n",
       "<table border=\"1\" class=\"dataframe\">\n",
       "  <thead>\n",
       "    <tr style=\"text-align: right;\">\n",
       "      <th></th>\n",
       "      <th>ProductID</th>\n",
       "      <th>FullComment</th>\n",
       "      <th>Warning</th>\n",
       "      <th>Unit Cell Data Source</th>\n",
       "      <th>General Comments</th>\n",
       "      <th>Reason O Quality Was Assigned</th>\n",
       "      <th>Deleted Or Rejected By</th>\n",
       "      <th>Color</th>\n",
       "      <th>Melting Point</th>\n",
       "      <th>Water Loss</th>\n",
       "      <th>...</th>\n",
       "      <th>X</th>\n",
       "      <th>Phasons</th>\n",
       "      <th>Homologous Series</th>\n",
       "      <th>Calc</th>\n",
       "      <th>Preparation Reference</th>\n",
       "      <th>Procedure</th>\n",
       "      <th>Solution</th>\n",
       "      <th>Slurry</th>\n",
       "      <th>Kneading</th>\n",
       "      <th>Solution B</th>\n",
       "    </tr>\n",
       "  </thead>\n",
       "  <tbody>\n",
       "    <tr>\n",
       "      <th>5</th>\n",
       "      <td>000010006</td>\n",
       "      <td>General Comments: A mixture. Reason O Quality ...</td>\n",
       "      <td>NaN</td>\n",
       "      <td>Powder Diffraction</td>\n",
       "      <td>A mixture</td>\n",
       "      <td>O assigned because unindexed</td>\n",
       "      <td>NaN</td>\n",
       "      <td>NaN</td>\n",
       "      <td>NaN</td>\n",
       "      <td>NaN</td>\n",
       "      <td>...</td>\n",
       "      <td>NaN</td>\n",
       "      <td>NaN</td>\n",
       "      <td>NaN</td>\n",
       "      <td>NaN</td>\n",
       "      <td>NaN</td>\n",
       "      <td>NaN</td>\n",
       "      <td>NaN</td>\n",
       "      <td>NaN</td>\n",
       "      <td>NaN</td>\n",
       "      <td>NaN</td>\n",
       "    </tr>\n",
       "    <tr>\n",
       "      <th>11</th>\n",
       "      <td>000010012</td>\n",
       "      <td>Color: White. General Comments: Decomposes at ...</td>\n",
       "      <td>Unindexed pattern</td>\n",
       "      <td>Powder Diffraction</td>\n",
       "      <td>Decomposes at 200°</td>\n",
       "      <td>NaN</td>\n",
       "      <td>NaN</td>\n",
       "      <td>White</td>\n",
       "      <td>NaN</td>\n",
       "      <td>Loses 3 H2 O at 383 K</td>\n",
       "      <td>...</td>\n",
       "      <td>NaN</td>\n",
       "      <td>NaN</td>\n",
       "      <td>NaN</td>\n",
       "      <td>NaN</td>\n",
       "      <td>NaN</td>\n",
       "      <td>NaN</td>\n",
       "      <td>NaN</td>\n",
       "      <td>NaN</td>\n",
       "      <td>NaN</td>\n",
       "      <td>NaN</td>\n",
       "    </tr>\n",
       "    <tr>\n",
       "      <th>32</th>\n",
       "      <td>000010033</td>\n",
       "      <td>General Comments: A mixture. Warning: Unindexe...</td>\n",
       "      <td>Unindexed pattern</td>\n",
       "      <td>Powder Diffraction</td>\n",
       "      <td>A mixture</td>\n",
       "      <td>NaN</td>\n",
       "      <td>NaN</td>\n",
       "      <td>NaN</td>\n",
       "      <td>NaN</td>\n",
       "      <td>NaN</td>\n",
       "      <td>...</td>\n",
       "      <td>NaN</td>\n",
       "      <td>NaN</td>\n",
       "      <td>NaN</td>\n",
       "      <td>NaN</td>\n",
       "      <td>NaN</td>\n",
       "      <td>NaN</td>\n",
       "      <td>NaN</td>\n",
       "      <td>NaN</td>\n",
       "      <td>NaN</td>\n",
       "      <td>NaN</td>\n",
       "    </tr>\n",
       "    <tr>\n",
       "      <th>56</th>\n",
       "      <td>000010057</td>\n",
       "      <td>Additional Patterns: See PDF 00-059-1260. Colo...</td>\n",
       "      <td>Lines with abs(delta 2Theta)&gt;0.06 DEG</td>\n",
       "      <td>Powder Diffraction</td>\n",
       "      <td>Decomposes</td>\n",
       "      <td>NaN</td>\n",
       "      <td>NaN</td>\n",
       "      <td>Colorless</td>\n",
       "      <td>NaN</td>\n",
       "      <td>NaN</td>\n",
       "      <td>...</td>\n",
       "      <td>NaN</td>\n",
       "      <td>NaN</td>\n",
       "      <td>NaN</td>\n",
       "      <td>NaN</td>\n",
       "      <td>NaN</td>\n",
       "      <td>NaN</td>\n",
       "      <td>NaN</td>\n",
       "      <td>NaN</td>\n",
       "      <td>NaN</td>\n",
       "      <td>NaN</td>\n",
       "    </tr>\n",
       "    <tr>\n",
       "      <th>70</th>\n",
       "      <td>000010071</td>\n",
       "      <td>General Comments: A mixture. Warning: Unindexe...</td>\n",
       "      <td>Unindexed pattern</td>\n",
       "      <td>Powder Diffraction</td>\n",
       "      <td>A mixture</td>\n",
       "      <td>NaN</td>\n",
       "      <td>NaN</td>\n",
       "      <td>NaN</td>\n",
       "      <td>NaN</td>\n",
       "      <td>NaN</td>\n",
       "      <td>...</td>\n",
       "      <td>NaN</td>\n",
       "      <td>NaN</td>\n",
       "      <td>NaN</td>\n",
       "      <td>NaN</td>\n",
       "      <td>NaN</td>\n",
       "      <td>NaN</td>\n",
       "      <td>NaN</td>\n",
       "      <td>NaN</td>\n",
       "      <td>NaN</td>\n",
       "      <td>NaN</td>\n",
       "    </tr>\n",
       "    <tr>\n",
       "      <th>...</th>\n",
       "      <td>...</td>\n",
       "      <td>...</td>\n",
       "      <td>...</td>\n",
       "      <td>...</td>\n",
       "      <td>...</td>\n",
       "      <td>...</td>\n",
       "      <td>...</td>\n",
       "      <td>...</td>\n",
       "      <td>...</td>\n",
       "      <td>...</td>\n",
       "      <td>...</td>\n",
       "      <td>...</td>\n",
       "      <td>...</td>\n",
       "      <td>...</td>\n",
       "      <td>...</td>\n",
       "      <td>...</td>\n",
       "      <td>...</td>\n",
       "      <td>...</td>\n",
       "      <td>...</td>\n",
       "      <td>...</td>\n",
       "      <td>...</td>\n",
       "    </tr>\n",
       "    <tr>\n",
       "      <th>1104132</th>\n",
       "      <td>050104882</td>\n",
       "      <td>Color: colourless. General Comments: Reported ...</td>\n",
       "      <td>NaN</td>\n",
       "      <td>Single Crystal</td>\n",
       "      <td>Reported GOF=1.029</td>\n",
       "      <td>NaN</td>\n",
       "      <td>NaN</td>\n",
       "      <td>colourless</td>\n",
       "      <td>NaN</td>\n",
       "      <td>NaN</td>\n",
       "      <td>...</td>\n",
       "      <td>NaN</td>\n",
       "      <td>NaN</td>\n",
       "      <td>NaN</td>\n",
       "      <td>NaN</td>\n",
       "      <td>NaN</td>\n",
       "      <td>NaN</td>\n",
       "      <td>NaN</td>\n",
       "      <td>NaN</td>\n",
       "      <td>NaN</td>\n",
       "      <td>NaN</td>\n",
       "    </tr>\n",
       "    <tr>\n",
       "      <th>1104133</th>\n",
       "      <td>050104883</td>\n",
       "      <td>Color: yellow. General Comments: Reported GOF=...</td>\n",
       "      <td>NaN</td>\n",
       "      <td>Single Crystal</td>\n",
       "      <td>Reported GOF=1.047</td>\n",
       "      <td>NaN</td>\n",
       "      <td>NaN</td>\n",
       "      <td>yellow</td>\n",
       "      <td>NaN</td>\n",
       "      <td>NaN</td>\n",
       "      <td>...</td>\n",
       "      <td>NaN</td>\n",
       "      <td>NaN</td>\n",
       "      <td>NaN</td>\n",
       "      <td>NaN</td>\n",
       "      <td>NaN</td>\n",
       "      <td>NaN</td>\n",
       "      <td>NaN</td>\n",
       "      <td>NaN</td>\n",
       "      <td>NaN</td>\n",
       "      <td>NaN</td>\n",
       "    </tr>\n",
       "    <tr>\n",
       "      <th>1104134</th>\n",
       "      <td>050104884</td>\n",
       "      <td>Color: brown. General Comments: Reported GOF=1...</td>\n",
       "      <td>NaN</td>\n",
       "      <td>Single Crystal</td>\n",
       "      <td>Reported GOF=1.035</td>\n",
       "      <td>NaN</td>\n",
       "      <td>NaN</td>\n",
       "      <td>brown</td>\n",
       "      <td>NaN</td>\n",
       "      <td>NaN</td>\n",
       "      <td>...</td>\n",
       "      <td>NaN</td>\n",
       "      <td>NaN</td>\n",
       "      <td>NaN</td>\n",
       "      <td>NaN</td>\n",
       "      <td>NaN</td>\n",
       "      <td>NaN</td>\n",
       "      <td>NaN</td>\n",
       "      <td>NaN</td>\n",
       "      <td>NaN</td>\n",
       "      <td>NaN</td>\n",
       "    </tr>\n",
       "    <tr>\n",
       "      <th>1104135</th>\n",
       "      <td>050104885</td>\n",
       "      <td>Color: dark blue. General Comments: Reported G...</td>\n",
       "      <td>NaN</td>\n",
       "      <td>Single Crystal</td>\n",
       "      <td>Reported GOF=1.036</td>\n",
       "      <td>NaN</td>\n",
       "      <td>NaN</td>\n",
       "      <td>dark blue</td>\n",
       "      <td>NaN</td>\n",
       "      <td>NaN</td>\n",
       "      <td>...</td>\n",
       "      <td>NaN</td>\n",
       "      <td>NaN</td>\n",
       "      <td>NaN</td>\n",
       "      <td>NaN</td>\n",
       "      <td>NaN</td>\n",
       "      <td>NaN</td>\n",
       "      <td>NaN</td>\n",
       "      <td>NaN</td>\n",
       "      <td>NaN</td>\n",
       "      <td>NaN</td>\n",
       "    </tr>\n",
       "    <tr>\n",
       "      <th>1104136</th>\n",
       "      <td>050104886</td>\n",
       "      <td>Color: colourless. General Comments: Reported ...</td>\n",
       "      <td>NaN</td>\n",
       "      <td>Single Crystal</td>\n",
       "      <td>Reported GOF=0.954</td>\n",
       "      <td>NaN</td>\n",
       "      <td>NaN</td>\n",
       "      <td>colourless</td>\n",
       "      <td>NaN</td>\n",
       "      <td>NaN</td>\n",
       "      <td>...</td>\n",
       "      <td>NaN</td>\n",
       "      <td>NaN</td>\n",
       "      <td>NaN</td>\n",
       "      <td>NaN</td>\n",
       "      <td>NaN</td>\n",
       "      <td>NaN</td>\n",
       "      <td>NaN</td>\n",
       "      <td>NaN</td>\n",
       "      <td>NaN</td>\n",
       "      <td>NaN</td>\n",
       "    </tr>\n",
       "  </tbody>\n",
       "</table>\n",
       "<p>59600 rows × 228 columns</p>\n",
       "</div>"
      ],
      "text/plain": [
       "         ProductID                                        FullComment  \\\n",
       "5        000010006  General Comments: A mixture. Reason O Quality ...   \n",
       "11       000010012  Color: White. General Comments: Decomposes at ...   \n",
       "32       000010033  General Comments: A mixture. Warning: Unindexe...   \n",
       "56       000010057  Additional Patterns: See PDF 00-059-1260. Colo...   \n",
       "70       000010071  General Comments: A mixture. Warning: Unindexe...   \n",
       "...            ...                                                ...   \n",
       "1104132  050104882  Color: colourless. General Comments: Reported ...   \n",
       "1104133  050104883  Color: yellow. General Comments: Reported GOF=...   \n",
       "1104134  050104884  Color: brown. General Comments: Reported GOF=1...   \n",
       "1104135  050104885  Color: dark blue. General Comments: Reported G...   \n",
       "1104136  050104886  Color: colourless. General Comments: Reported ...   \n",
       "\n",
       "                                       Warning Unit Cell Data Source  \\\n",
       "5                                          NaN    Powder Diffraction   \n",
       "11                           Unindexed pattern    Powder Diffraction   \n",
       "32                           Unindexed pattern    Powder Diffraction   \n",
       "56       Lines with abs(delta 2Theta)>0.06 DEG    Powder Diffraction   \n",
       "70                           Unindexed pattern    Powder Diffraction   \n",
       "...                                        ...                   ...   \n",
       "1104132                                    NaN        Single Crystal   \n",
       "1104133                                    NaN        Single Crystal   \n",
       "1104134                                    NaN        Single Crystal   \n",
       "1104135                                    NaN        Single Crystal   \n",
       "1104136                                    NaN        Single Crystal   \n",
       "\n",
       "           General Comments Reason O Quality Was Assigned  \\\n",
       "5                 A mixture  O assigned because unindexed   \n",
       "11       Decomposes at 200°                           NaN   \n",
       "32                A mixture                           NaN   \n",
       "56               Decomposes                           NaN   \n",
       "70                A mixture                           NaN   \n",
       "...                     ...                           ...   \n",
       "1104132  Reported GOF=1.029                           NaN   \n",
       "1104133  Reported GOF=1.047                           NaN   \n",
       "1104134  Reported GOF=1.035                           NaN   \n",
       "1104135  Reported GOF=1.036                           NaN   \n",
       "1104136  Reported GOF=0.954                           NaN   \n",
       "\n",
       "        Deleted Or Rejected By       Color Melting Point  \\\n",
       "5                          NaN         NaN           NaN   \n",
       "11                         NaN       White           NaN   \n",
       "32                         NaN         NaN           NaN   \n",
       "56                         NaN   Colorless           NaN   \n",
       "70                         NaN         NaN           NaN   \n",
       "...                        ...         ...           ...   \n",
       "1104132                    NaN  colourless           NaN   \n",
       "1104133                    NaN      yellow           NaN   \n",
       "1104134                    NaN       brown           NaN   \n",
       "1104135                    NaN   dark blue           NaN   \n",
       "1104136                    NaN  colourless           NaN   \n",
       "\n",
       "                    Water Loss  ...    X Phasons Homologous Series Calc  \\\n",
       "5                          NaN  ...  NaN     NaN               NaN  NaN   \n",
       "11       Loses 3 H2 O at 383 K  ...  NaN     NaN               NaN  NaN   \n",
       "32                         NaN  ...  NaN     NaN               NaN  NaN   \n",
       "56                         NaN  ...  NaN     NaN               NaN  NaN   \n",
       "70                         NaN  ...  NaN     NaN               NaN  NaN   \n",
       "...                        ...  ...  ...     ...               ...  ...   \n",
       "1104132                    NaN  ...  NaN     NaN               NaN  NaN   \n",
       "1104133                    NaN  ...  NaN     NaN               NaN  NaN   \n",
       "1104134                    NaN  ...  NaN     NaN               NaN  NaN   \n",
       "1104135                    NaN  ...  NaN     NaN               NaN  NaN   \n",
       "1104136                    NaN  ...  NaN     NaN               NaN  NaN   \n",
       "\n",
       "        Preparation Reference Procedure Solution Slurry Kneading Solution B  \n",
       "5                         NaN       NaN      NaN    NaN      NaN        NaN  \n",
       "11                        NaN       NaN      NaN    NaN      NaN        NaN  \n",
       "32                        NaN       NaN      NaN    NaN      NaN        NaN  \n",
       "56                        NaN       NaN      NaN    NaN      NaN        NaN  \n",
       "70                        NaN       NaN      NaN    NaN      NaN        NaN  \n",
       "...                       ...       ...      ...    ...      ...        ...  \n",
       "1104132                   NaN       NaN      NaN    NaN      NaN        NaN  \n",
       "1104133                   NaN       NaN      NaN    NaN      NaN        NaN  \n",
       "1104134                   NaN       NaN      NaN    NaN      NaN        NaN  \n",
       "1104135                   NaN       NaN      NaN    NaN      NaN        NaN  \n",
       "1104136                   NaN       NaN      NaN    NaN      NaN        NaN  \n",
       "\n",
       "[59600 rows x 228 columns]"
      ]
     },
     "execution_count": 57,
     "metadata": {},
     "output_type": "execute_result"
    }
   ],
   "source": [
    "df_combined[df_combined[\"General Comments\"].notna()]"
   ]
  },
  {
   "cell_type": "code",
   "execution_count": null,
   "metadata": {},
   "outputs": [],
   "source": []
  }
 ],
 "metadata": {
  "kernelspec": {
   "display_name": "LLM-for-materials-env",
   "language": "python",
   "name": "venv"
  },
  "language_info": {
   "codemirror_mode": {
    "name": "ipython",
    "version": 3
   },
   "file_extension": ".py",
   "mimetype": "text/x-python",
   "name": "python",
   "nbconvert_exporter": "python",
   "pygments_lexer": "ipython3",
   "version": "3.12.0"
  }
 },
 "nbformat": 4,
 "nbformat_minor": 2
}
