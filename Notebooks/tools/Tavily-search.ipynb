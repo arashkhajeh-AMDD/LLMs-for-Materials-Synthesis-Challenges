{
 "cells": [
  {
   "cell_type": "code",
   "execution_count": 1,
   "metadata": {},
   "outputs": [
    {
     "data": {
      "text/plain": [
       "True"
      ]
     },
     "execution_count": 1,
     "metadata": {},
     "output_type": "execute_result"
    }
   ],
   "source": [
    "import os\n",
    "from dotenv import load_dotenv\n",
    "from langchain_community.tools.tavily_search import TavilySearchResults\n",
    "\n",
    "load_dotenv()"
   ]
  },
  {
   "cell_type": "code",
   "execution_count": 2,
   "metadata": {},
   "outputs": [],
   "source": [
    "os.environ['TAVILY_API_KEY'] = os.getenv(\"TAVILY_API_KEY\")"
   ]
  },
  {
   "cell_type": "code",
   "execution_count": 3,
   "metadata": {},
   "outputs": [],
   "source": [
    "search_tool = TavilySearchResults(max_results=3)"
   ]
  },
  {
   "cell_type": "code",
   "execution_count": 4,
   "metadata": {},
   "outputs": [
    {
     "data": {
      "text/plain": [
       "('tavily_search_results_json',\n",
       " 'A search engine optimized for comprehensive, accurate, and trusted results. Useful for when you need to answer questions about current events. Input should be a search query.')"
      ]
     },
     "execution_count": 4,
     "metadata": {},
     "output_type": "execute_result"
    }
   ],
   "source": [
    "search_tool.name, search_tool.description"
   ]
  },
  {
   "cell_type": "code",
   "execution_count": 5,
   "metadata": {},
   "outputs": [
    {
     "data": {
      "text/plain": [
       "[{'title': 'The International Centre for Diffraction Data -',\n",
       "  'url': 'https://www.icdd.com/',\n",
       "  'content': 'The International Centre for Diffraction Data (ICDD®) is a non-profit scientific organization dedicated to collecting, editing, publishing, and distributing powder diffraction data for the identification of materials. The membership of the ICDD consists of worldwide representation from academe, government, and industry.\\n\\nDIFFRACTION DATABASES YOU CAN TRUST [...] ICDD database operations, based in Pennsylvania, USA, is the only crystallographic database organization in the world with its Quality Management System ISO 9001:2015 certified by DEKRA.\\n\\nContact ICDD\\n\\nMost Visited Pages [...] effectiveness in their applications of XRD, XRF, and Rietveld refinement in various scientific fields.',\n",
       "  'score': 0.921591},\n",
       " {'title': 'International Centre for Diffraction Data ICDD Session I',\n",
       "  'url': 'https://www.nationalacademies.org/event/03-28-2022/international-centre-for-diffraction-data-icdd-session-i',\n",
       "  'content': 'The International Centre for Diffraction Data (ICDD®) Powder Diffraction File (PDF®) is a powerful database for materials characterization that',\n",
       "  'score': 0.8755427},\n",
       " {'title': 'International Centre for Diffraction Data - Wikipedia',\n",
       "  'url': 'https://en.wikipedia.org/wiki/International_Centre_for_Diffraction_Data',\n",
       "  'content': \"The International Centre for Diffraction Data (ICDD) maintains a database of powder diffraction patterns, the Powder Diffraction File (PDF), including the d-spacings (related to angle of diffraction) and relative intensities of observable diffraction peaks.  Patterns may be experimentally determined, or computed based on crystal structure and Bragg's law.  It is most often used to identify substances based on x-ray diffraction data, and is designed for use with a diffractometer. The PDF [...] The organization was founded in 1941 as the  Joint Committee on Powder Diffraction Standards. In 1978, the current name was adopted to highlight the global commitment of this scientific endeavor.\\n\\nThe ICDD is a nonprofit scientific organization working in the field of X-ray analysis and materials characterization. It produces materials databases, characterization tools, and educational materials, as well as organizing and supporting global workshops, clinics and conferences. [...] In 2019, Materials Data, also known as MDI, merged with ICDD. Materials Data creates JADE software used to collect, analyze, and simulate XRD data and solve issues in an array of materials science projects.\\n\\nIn 2020, the ICDD and the Cambridge Crystallographic Data Centre, which curates and maintains the Cambridge Structural Database, announced a data partnership.\\n\\nSee also\\n\\nReferences\\n\\nExternal links\",\n",
       "  'score': 0.87348515}]"
      ]
     },
     "execution_count": 5,
     "metadata": {},
     "output_type": "execute_result"
    }
   ],
   "source": [
    "search_tool.invoke(\"What is ICDD dataset?\")"
   ]
  },
  {
   "cell_type": "markdown",
   "metadata": {},
   "source": [
    "### Extract abstract of a paper\n"
   ]
  },
  {
   "cell_type": "code",
   "execution_count": 6,
   "metadata": {},
   "outputs": [],
   "source": [
    "from langchain_community.tools.tavily_search import TavilySearchResults\n",
    "\n",
    "def get_paper_abstract_with_langchain(paper_title: str, api_key: str = None) -> str:\n",
    "    \"\"\"\n",
    "    Uses LangChain's TavilySearchResults to get the abstract of a paper based on its title.\n",
    "    \n",
    "    Args:\n",
    "        paper_title (str): Title of the paper to search.\n",
    "        api_key (str, optional): Tavily API key (or set via env var TAVILY_API_KEY).\n",
    "    \n",
    "    Returns:\n",
    "        str: Extracted abstract or message if not found.\n",
    "    \"\"\"\n",
    "    # You can also set TAVILY_API_KEY as an env variable, and skip passing api_key\n",
    "    search_tool = TavilySearchResults(api_key=api_key, search_depth=\"advanced\") if api_key else TavilySearchResults()\n",
    "\n",
    "    query = f\"abstract of the academic paper titled '{paper_title}'\"\n",
    "    results = search_tool.invoke(query, )\n",
    "    \n",
    "    for result in results:\n",
    "        content = result.get(\"content\", \"\")\n",
    "        if \"abstract\" in content.lower():\n",
    "            return content.strip()\n",
    "    \n",
    "    return \"Abstract not found. You may need to refine the paper title or check the source manually.\"\n"
   ]
  },
  {
   "cell_type": "code",
   "execution_count": 7,
   "metadata": {},
   "outputs": [
    {
     "name": "stdout",
     "output_type": "stream",
     "text": [
      "Attention Is All You Need Ashish Vaswani∗ Google Brain avaswani@google.com Noam Shazeer∗ Google Brain noam@google.com Niki Parmar∗ Google Research nikip@google.com Jakob Uszkoreit∗ Google Research usz@google.com Llion Jones∗ Google Research llion@google.com Aidan N. Gomez∗† University of Toronto aidan@cs.toronto.edu Łukasz Kaiser∗ Google Brain lukaszkaiser@google.com Illia Polosukhin∗‡ illia.polosukhin@gmail.com Abstract The dominant sequence transduction models are based on complex recurrent or [...] 7 Conclusion In this work, we presented the Transformer, the ﬁrst sequence transduction model based entirely on attention, replacing the recurrent layers most commonly used in encoder-decoder architectures with multi-headed self-attention.\n"
     ]
    }
   ],
   "source": [
    "raw_content = get_paper_abstract_with_langchain(\"Attention Is All You Need\")\n",
    "print(raw_content)\n"
   ]
  },
  {
   "cell_type": "code",
   "execution_count": 8,
   "metadata": {},
   "outputs": [],
   "source": [
    "import re\n",
    "\n",
    "def extract_abstract(text: str) -> str:\n",
    "    \"\"\"\n",
    "    Extracts the abstract from a block of academic paper text using a more flexible regex\n",
    "    that works even when sections aren't separated by newlines.\n",
    "    \"\"\"\n",
    "    # Match \"Abstract\" followed by some text, stopping before common section keywords\n",
    "    pattern = r\"(?i)abstract[\\s:]*([\\s\\S]{20,2000}?)\\s(?:1\\s|I\\.?|introduction|background|methods|conclusion|keywords|results|we present|in this paper|the proposed)\"\n",
    "\n",
    "    match = re.search(pattern, text)\n",
    "    if match:\n",
    "        return match.group(1).strip()\n",
    "\n",
    "    return \"Abstract not found.\"\n"
   ]
  },
  {
   "cell_type": "code",
   "execution_count": 9,
   "metadata": {},
   "outputs": [
    {
     "data": {
      "text/plain": [
       "'Attention Is All You Need Ashish Vaswani∗ Google Brain avaswani@google.com Noam Shazeer∗ Google Brain noam@google.com Niki Parmar∗ Google Research nikip@google.com Jakob Uszkoreit∗ Google Research usz@google.com Llion Jones∗ Google Research llion@google.com Aidan N. Gomez∗† University of Toronto aidan@cs.toronto.edu Łukasz Kaiser∗ Google Brain lukaszkaiser@google.com Illia Polosukhin∗‡ illia.polosukhin@gmail.com Abstract The dominant sequence transduction models are based on complex recurrent or [...] 7 Conclusion In this work, we presented the Transformer, the ﬁrst sequence transduction model based entirely on attention, replacing the recurrent layers most commonly used in encoder-decoder architectures with multi-headed self-attention.'"
      ]
     },
     "execution_count": 9,
     "metadata": {},
     "output_type": "execute_result"
    }
   ],
   "source": [
    "raw_content"
   ]
  },
  {
   "cell_type": "code",
   "execution_count": 10,
   "metadata": {},
   "outputs": [
    {
     "name": "stdout",
     "output_type": "stream",
     "text": [
      "The dominant sequence transduction models are based on complex recurrent or [...] 7\n"
     ]
    }
   ],
   "source": [
    "raw_content = get_paper_abstract_with_langchain(\"Attention Is All You Need\")\n",
    "abstract = extract_abstract(raw_content)\n",
    "print(abstract)"
   ]
  },
  {
   "cell_type": "code",
   "execution_count": 11,
   "metadata": {},
   "outputs": [],
   "source": [
    "import requests\n",
    "from bs4 import BeautifulSoup\n",
    "\n",
    "def extract_abstract_from_html(url: str) -> str:\n",
    "    \"\"\"\n",
    "    Downloads and parses an academic paper HTML page to extract the abstract.\n",
    "    \n",
    "    Args:\n",
    "        url (str): URL of the paper page (e.g., arXiv or Springer).\n",
    "    \n",
    "    Returns:\n",
    "        str: Extracted abstract, or message if not found.\n",
    "    \"\"\"\n",
    "    try:\n",
    "        response = requests.get(url, timeout=10)\n",
    "        response.raise_for_status()\n",
    "        soup = BeautifulSoup(response.text, \"html.parser\")\n",
    "\n",
    "        # Common pattern for arXiv\n",
    "        abstract_div = soup.find(\"blockquote\", class_=\"abstract\")\n",
    "        if abstract_div:\n",
    "            return abstract_div.get_text(strip=True).replace(\"Abstract:\", \"\").strip()\n",
    "        \n",
    "        # Other common patterns (e.g., Springer)\n",
    "        abstract_section = soup.find(\"section\", {\"class\": \"Abstract\"})\n",
    "        if abstract_section:\n",
    "            return abstract_section.get_text(strip=True)\n",
    "\n",
    "        # Generic fallback\n",
    "        possible_abstracts = soup.find_all([\"p\", \"div\"], string=lambda s: s and \"abstract\" in s.lower())\n",
    "        for element in possible_abstracts:\n",
    "            if \"abstract\" in element.get_text().lower():\n",
    "                return element.get_text(strip=True).split(\"abstract\", 1)[-1].strip()\n",
    "\n",
    "        return \"Abstract not found in HTML.\"\n",
    "\n",
    "    except Exception as e:\n",
    "        return f\"Error fetching or parsing HTML: {e}\"\n"
   ]
  },
  {
   "cell_type": "code",
   "execution_count": 12,
   "metadata": {},
   "outputs": [],
   "source": [
    "from langchain_community.tools.tavily_search import TavilySearchResults\n",
    "\n",
    "def get_paper_abstract_from_html(paper_title: str, api_key: str = None) -> str:\n",
    "    tavily = TavilySearchResults(api_key=api_key) if api_key else TavilySearchResults()\n",
    "    query = f\"{paper_title} site:arxiv.org OR site:springer.com OR site:nature.com\"\n",
    "    results = tavily.invoke(query)\n",
    "\n",
    "    for result in results:\n",
    "        url = result.get(\"url\")\n",
    "        if url:\n",
    "            abstract = extract_abstract_from_html(url)\n",
    "            if \"not found\" not in abstract.lower():\n",
    "                return abstract\n",
    "    return \"Abstract could not be extracted from HTML.\"\n"
   ]
  },
  {
   "cell_type": "code",
   "execution_count": 13,
   "metadata": {},
   "outputs": [
    {
     "name": "stdout",
     "output_type": "stream",
     "text": [
      "The dominant sequence transduction models are based on complex recurrent or convolutional neural networks in an encoder-decoder configuration. The best performing models also connect the encoder and decoder through an attention mechanism. We propose a new simple network architecture, the Transformer, based solely on attention mechanisms, dispensing with recurrence and convolutions entirely. Experiments on two machine translation tasks show these models to be superior in quality while being more parallelizable and requiring significantly less time to train. Our model achieves 28.4 BLEU on the WMT 2014 English-to-German translation task, improving over the existing best results, including ensembles by over 2 BLEU. On the WMT 2014 English-to-French translation task, our model establishes a new single-model state-of-the-art BLEU score of 41.8 after training for 3.5 days on eight GPUs, a small fraction of the training costs of the best models from the literature. We show that the Transformer generalizes well to other tasks by applying it successfully to English constituency parsing both with large and limited training data.\n"
     ]
    }
   ],
   "source": [
    "raw_content = get_paper_abstract_from_html(\"Attention Is All You Need\")\n",
    "print(raw_content)"
   ]
  },
  {
   "cell_type": "code",
   "execution_count": 14,
   "metadata": {},
   "outputs": [],
   "source": [
    "from langchain_community.tools.tavily_search import TavilySearchResults\n",
    "\n",
    "def get_paper_abstract_from_html(paper_title: str, api_key: str = None) -> str:\n",
    "    tavily = TavilySearchResults(api_key=api_key) if api_key else TavilySearchResults()\n",
    "    query = f\"{paper_title} site:arxiv.org OR site:springer.com OR site:nature.com\"\n",
    "    results = tavily.invoke(query)\n",
    "\n",
    "    for result in results:\n",
    "        url = result.get(\"url\")\n",
    "        if url:\n",
    "            abstract = extract_abstract_from_html(url)\n",
    "            if \"not found\" not in abstract.lower():\n",
    "                return abstract\n",
    "    return \"Abstract could not be extracted from HTML.\"\n"
   ]
  },
  {
   "cell_type": "code",
   "execution_count": 15,
   "metadata": {},
   "outputs": [
    {
     "name": "stdout",
     "output_type": "stream",
     "text": [
      "The dominant sequence transduction models are based on complex recurrent or convolutional neural networks in an encoder-decoder configuration. The best performing models also connect the encoder and decoder through an attention mechanism. We propose a new simple network architecture, the Transformer, based solely on attention mechanisms, dispensing with recurrence and convolutions entirely. Experiments on two machine translation tasks show these models to be superior in quality while being more parallelizable and requiring significantly less time to train. Our model achieves 28.4 BLEU on the WMT 2014 English-to-German translation task, improving over the existing best results, including ensembles by over 2 BLEU. On the WMT 2014 English-to-French translation task, our model establishes a new single-model state-of-the-art BLEU score of 41.8 after training for 3.5 days on eight GPUs, a small fraction of the training costs of the best models from the literature. We show that the Transformer generalizes well to other tasks by applying it successfully to English constituency parsing both with large and limited training data.\n"
     ]
    }
   ],
   "source": [
    "raw_content = get_paper_abstract_from_html(\"Attention Is All You Need\")\n",
    "print(raw_content)"
   ]
  },
  {
   "cell_type": "code",
   "execution_count": 16,
   "metadata": {},
   "outputs": [
    {
     "name": "stdout",
     "output_type": "stream",
     "text": [
      "Abstract could not be extracted from HTML.\n"
     ]
    }
   ],
   "source": [
    "# Test on my paper\n",
    "paper_title = \"Mechanochemical Association Reaction of Interfacial Molecules Driven by Shear\"\n",
    "abstract = get_paper_abstract_from_html(paper_title)\n",
    "print(abstract)"
   ]
  },
  {
   "cell_type": "markdown",
   "metadata": {},
   "source": [
    "⚠️ Problem with ACS and Other Journals\n",
    "1. Abstract is often available, but:\n",
    "It’s embedded inside complex HTML structures (JavaScript-heavy pages).\n",
    "\n",
    "It may be hidden behind a cookie or paywall modal, even though the abstract is public.\n",
    "\n",
    "Some require a browser-like session to load the full DOM.\n",
    "\n",
    "2. Requests + BeautifulSoup may not see the abstract at all:\n",
    "The page may return a limited version of the HTML without running JS.\n",
    "\n",
    "You might get a skeleton page or a redirect message.\n",
    "\n",
    "✅ Solutions by Journal Type\n",
    "Journal\tAbstract Availability\tScrape-Friendly?\tNotes\n",
    "arXiv\t✅ Always available\t✅ Easy\tStandard HTML structure\n",
    "Springer/Nature\t✅ Public abstracts\t✅ With parsing\tUsually inside <section class=\"Abstract\">\n",
    "ACS Publications\t✅ Abstract shown\t⚠️ Sometimes\tMay need session headers or JS rendering\n",
    "Elsevier (ScienceDirect)\t✅\t⚠️ Often JS\tUse Selenium/Playwright or trafilatura\n",
    "IEEE/ACM\t✅\t⚠️\tOften HTML is wrapped or requires custom headers\n",
    "Wiley/Taylor & Francis\t✅\t⚠️\tSimilar JS-heavy issues\n"
   ]
  },
  {
   "cell_type": "code",
   "execution_count": 17,
   "metadata": {},
   "outputs": [
    {
     "name": "stdout",
     "output_type": "stream",
     "text": [
      "Abstract could not be extracted from HTML.\n"
     ]
    }
   ],
   "source": [
    "raw_content = get_paper_abstract_from_html(paper_title)\n",
    "print(raw_content)"
   ]
  },
  {
   "cell_type": "code",
   "execution_count": 19,
   "metadata": {},
   "outputs": [],
   "source": [
    "import trafilatura\n",
    "\n",
    "def extract_abstract_with_trafilatura(url: str) -> str:\n",
    "    downloaded = trafilatura.fetch_url(url)\n",
    "    if not downloaded:\n",
    "        return \"Failed to download page.\"\n",
    "    \n",
    "    result = trafilatura.extract(downloaded, include_comments=False, include_tables=False, favor_recall=True)\n",
    "    return result or \"Abstract not found in content.\"\n"
   ]
  },
  {
   "cell_type": "code",
   "execution_count": 21,
   "metadata": {},
   "outputs": [
    {
     "name": "stdout",
     "output_type": "stream",
     "text": [
      "Failed to download page.\n"
     ]
    }
   ],
   "source": [
    "raw_content = extract_abstract_with_trafilatura(\"Attention Is All You Need\")\n",
    "print(raw_content)"
   ]
  },
  {
   "cell_type": "code",
   "execution_count": 34,
   "metadata": {},
   "outputs": [],
   "source": [
    "# Tavily result\n",
    "url = \"https://pubs.acs.org/doi/full/10.1021/acs.langmuir.8b00315\"\n",
    "\n",
    "# Then use your own fetcher\n",
    "response = requests.get(url)\n",
    "soup = BeautifulSoup(response.text, \"html.parser\")"
   ]
  },
  {
   "cell_type": "code",
   "execution_count": 35,
   "metadata": {},
   "outputs": [
    {
     "data": {
      "text/plain": [
       "<!DOCTYPE html>\n",
       "<html lang=\"en-US\"><head><title>Just a moment...</title><meta content=\"text/html; charset=utf-8\" http-equiv=\"Content-Type\"/><meta content=\"IE=Edge\" http-equiv=\"X-UA-Compatible\"/><meta content=\"noindex,nofollow\" name=\"robots\"/><meta content=\"width=device-width,initial-scale=1\" name=\"viewport\"/><style>*{box-sizing:border-box;margin:0;padding:0}html{line-height:1.15;-webkit-text-size-adjust:100%;color:#313131;font-family:system-ui,-apple-system,BlinkMacSystemFont,Segoe UI,Roboto,Helvetica Neue,Arial,Noto Sans,sans-serif,Apple Color Emoji,Segoe UI Emoji,Segoe UI Symbol,Noto Color Emoji}body{display:flex;flex-direction:column;height:100vh;min-height:100vh}.main-content{margin:8rem auto;max-width:60rem;padding-left:1.5rem}@media (width <= 720px){.main-content{margin-top:4rem}}.h2{font-size:1.5rem;font-weight:500;line-height:2.25rem}@media (width <= 720px){.h2{font-size:1.25rem;line-height:1.5rem}}#challenge-error-text{background-image:url(data:image/svg+xml;base64,PHN2ZyB4bWxucz0iaHR0cDovL3d3dy53My5vcmcvMjAwMC9zdmciIHdpZHRoPSIzMiIgaGVpZ2h0PSIzMiIgZmlsbD0ibm9uZSI+PHBhdGggZmlsbD0iI0IyMEYwMyIgZD0iTTE2IDNhMTMgMTMgMCAxIDAgMTMgMTNBMTMuMDE1IDEzLjAxNSAwIDAgMCAxNiAzbTAgMjRhMTEgMTEgMCAxIDEgMTEtMTEgMTEuMDEgMTEuMDEgMCAwIDEtMTEgMTEiLz48cGF0aCBmaWxsPSIjQjIwRjAzIiBkPSJNMTcuMDM4IDE4LjYxNUgxNC44N0wxNC41NjMgOS41aDIuNzgzem0tMS4wODQgMS40MjdxLjY2IDAgMS4wNTcuMzg4LjQwNy4zODkuNDA3Ljk5NCAwIC41OTYtLjQwNy45ODQtLjM5Ny4zOS0xLjA1Ny4zODktLjY1IDAtMS4wNTYtLjM4OS0uMzk4LS4zODktLjM5OC0uOTg0IDAtLjU5Ny4zOTgtLjk4NS40MDYtLjM5NyAxLjA1Ni0uMzk3Ii8+PC9zdmc+);background-repeat:no-repeat;background-size:contain;padding-left:34px}@media (prefers-color-scheme:dark){body{background-color:#222;color:#d9d9d9}}</style><meta content=\"360\" http-equiv=\"refresh\"/></head><body class=\"no-js\"><div class=\"main-wrapper\" role=\"main\"><div class=\"main-content\"><noscript><div class=\"h2\"><span id=\"challenge-error-text\">Enable JavaScript and cookies to continue</span></div></noscript></div></div><script>(function(){window._cf_chl_opt={cvId: '3',cZone: \"pubs.acs.org\",cType: 'managed',cRay: '93070bd4ebeb3520',cH: 'fkYTsmdGipzg628iAWaDjfxccBh8Ow0rz1909cXKq3Y-1744674005-1.2.1.1-HDn_68RcGeBcjcy4MFB6kgrBR37fxMrb.9a.czKyMEzBMKuQaaha4nA4lV.xR5wx',cUPMDTk: \"\\/doi\\/full\\/10.1021\\/acs.langmuir.8b00315?__cf_chl_tk=WFsDRrB8iZuWX97gG1ZSlLsbunsthFeGAgG41Z5dv34-1744674005-1.0.1.1-qM2PMoKv.6lIjJxFCVEimi3g_jQTTVySSU2P3gpUdPQ\",cFPWv: 'b',cITimeS: '1744674005',cTplC: 0,cTplV: 5,cTplB: 'cf',cK: \"unsupported_browser_beacon\",fa: \"\\/doi\\/full\\/10.1021\\/acs.langmuir.8b00315?__cf_chl_f_tk=WFsDRrB8iZuWX97gG1ZSlLsbunsthFeGAgG41Z5dv34-1744674005-1.0.1.1-qM2PMoKv.6lIjJxFCVEimi3g_jQTTVySSU2P3gpUdPQ\",md: \"dU8bYTqx3fB.wvlYeN8lOOnjtukhsxR28RKpe6lFWQU-1744674005-1.2.1.1-UfVoRAhzK9K_OWbBpfFYMqPPxUvmSrwgxFizHke96TfABgsUoScbbOuTRhoTiADTlHDyVyRjhuxIGVwmiJT_2nstSooi.uB6yGlwzyMO7FT4KzQCmgm_IcAcRz6fL._GhAqH.nz67aXLge5ZPgRI82LaHZv7TfSGLCiGvQkzswB7BKi28C7_y5jZ0_aYs8jGhe5tP_wk_AllLeZKU4K1jn3tv7De8IiC_.qUAoBcIf0CwcmjXRr4OtZjYLpmiYuSLBf2L.Upa58QGoF9G.fe4dSI00wibMbUEv.NMe_ygSjG6GYrONqQGMj.HMSrIEsbSg8hymqLRmoYMohxVr9Y6WmayAcE99RmeDX99wpZ_fVWsBEaUjs2t5IUEEOKZZ8jbJNlHasCcRhOXdNJefqL7EP1KcpJnPGswWpaBOsKcKZcgvT7iyf8nAoNNP8ZwikU3pOnZCgXb2qrCTKcJ3kV0rLOKBUk7r2eh6M6sa4PSyX3fxRaANbkifAHy0cc6KNKXU55JoyegIezDnn6v.OdNuJfijbI6jV480WxSFoPbpfjzLfToLsa_TqXbEwQ2ljONDT5ZlFlryQFRHrLhlc5kpSxWrnzugX3obEoNzcQYJRHX_vDWdxTeN9m07ZIEI9xF5k1QHQkMmhKHJd2QdGKkeLCkxbyx6ufh4zIE74FugPGu8PzZEUNdLCkhc2QKo_nacrhSOhgjwrHb3CrZhhkLFu1S5ufQXJy7Z5wueS1aQgmjF4W4OawxjV4oDrqzELwUAnKec5GCMe4ybI2a6FlL4C8ZKU3URilE_WglRtdtMk1Fzf7hO7AkbyargRcJqFygYx7SLcp1CbCQw1ieQbKJNzD51B3QcYl079tH2c7SyUw3DzZBAU8peBT99ah.8M3Noz9E.X3cqwBrse1C3DygNpakquKnAhQUqBLPOjJYtD311hm0OH_xa_ln_dOTL7M7OOpbV00KW3SlySXIqCjfOVcthAs3p_QpqSh_hArsll3BRq2I.Zrhck78tQFZmlb1lNY6xd7iB6g4y02zQn5IIMhhAGidwM9_3bm4imXE5nF2zYJh4BDFW9tQIq9L2HlZRjwh2X0cTga4YlAdmiVT4KASQ.2vgnBV1x4v5RqoLlP822GsqpbwYj4ti2iaSIm\",mdrd: \"lQEDG3hqnGdCeS0lVbr8q4cwV3aJCbEBD7exSBHTvGA-1744674005-1.2.1.1-.onRUO0YZkKBS.jFyihbe.slzlNV4AYjnG7LwBwoy7eFQzTQtwjN2c3XkdIplh2p27lbml.5z1WoZIJ7LyAKKhJEGS2PEUc09a7kRciJUELaBTFoUQfDn6xg2.uAYx50oluApC4pPdkupTLty6mLfeo.g4TsyMc111wYZUMfV1cCpFKwjfvNnXEtVbqtNy41BRCkLKGq_ZnIm8_SmUO0dkmVGqNSYXQbgX5OxsVhB7uQ4CRTAmHozRMKKqO4QW3MZp0L1LIERFuHOTtt4G1THSKOrygHHgCTUciiABUTIv13eOLC6d.fXfT4uFNyWfo0tvlB3fNnswtWycuIqGrbtYs.w3kKgrdebin0V.kBvRme_WNJIygOCT6CRBEEMIpMxMzk2MY00munTfDVXe2HZQdsFIS2e21De2anJt9LjlVArQQ.zA3RqFh5uC8iVWDl1CzXKpXDUjxJezuF_pONRM0q2By17kbZgSjwyQ3cZvPnOF.EnlacwyJes7igV3afLPKIhtdyMIMUXYkd7uVob1TfYUQYz7PHls04KWhej6zY286C9WcMXfITAxp0NZH.jcw2QMz07.eSRhNshCi4jLHNowYAuRmFRfXfS729gnoFsbaKAQoABBOxR0BPBW_L_m7mbAyQ764XKR.3UtqKg47QrYxnKxACOQCg7M60I51JryXJvRIPCRAP1Mh8OIfyxWSiFtOecgtpwUugqpiN58AC84fqXwyLThzrD3u5QT4pJrJwU1R8qLJDjjgJD2jx.ypD8I3gJAGPtySe4nGP1sdKT7TBjdvzwzRgWtwXgUpQaGrhK2wMuZAjqZqxdRWTnGdO1lSo0NDz2JGneNS1pGxz5uyRkasDlCeUssFTciJUA0KP.kq41VzwiPXTSTjIB7qB.SYv7q_Thgw4dqfRlmM_7N5n6O4vfylqWb5gQR2Db8adtqVCK9OVcYxMWn80oqbB15hpAsVLL0tXjPqKgnPEEdDWnLzaUMIQLtPJMeqzOTFApQCllnWgg61eBzUmRICTu_SksoQkGCaeqRY0ZI_RgWjN0OMpCvkU3s7ZgaaRScR5vArkERZygbBgUTfFhzyZ.ifUqhGmVlD.kbgOauHl58Hq.4aMBOCkVSXIo839t7WZWcY0k3WXHIy25yETOQgpM8WXoArxfgWmLnYykQ9583wm7DAbv1FU3HCV9wPyznBQdqkRB0nHgiI4_an4iKT3_d_I_btew9DeB5IqFNliN8NTkaT8J.FwVxOlfymzrOZrc40JZwmXzYwlnhmlUfowexM5G8wy8ewpn_GDxVnd249mhzL91rI2Phi8Zk3aPHE2pbCMWH51wOgjRIIg8aeUfyl3RooMywZTBqzMggia1JLy8d8rgWQbnlS2S0XbnOCVClYgsfqaQOqDXKl3JgHg9DkCduQgfK6bsrGI0PTPibtOKZ8unilLKWrmn0ITgBTQSFrrhYnACi4sS5iIeneXt1UrTlM.5G.mXqGSBZSQGOYmSS.LXWgOJ3IbIacK0UhXNFHe1l1ARbht4bkN5ivDQI6jFjqbQVRqa2BIOtZ6fEzrx5Jnb8mI6I2LOy94but_XN4UhXWPdmdQxVgNmDxrUJcdqZElxODt.jHvRuHBu2Vt8kjDvmeGf7HMzOkv0cnsE8pCEmsPj9MPD6mOd6dItuIYeCeA9SBsZ4QK8YTMSzuj50sZg_eIz40BB28L5RcRX1Iw1RTxy0nGEKpTK59UNHyBUmOXWyT_fLMz8M6q1Hj7zXMfgTI05ojgJ9oHCONQpJK_8.khck4CLHuzkaiPJNlqREKyco_WnrJGxZTeElyNwbHzybwgOlcQ2_8x5lmXObloePYp2BuTEBTc9QEQf2kY_I8qBTVdsPgMuw5jyQrBzG0IuyvLl4QItbjXIt8WLfIns0jIa_OyUHA.AuPoCPeZBWZkaoPW9tot8Ap55509tmT.MWVfOClTLGhDuvKS6B2zdmUBiFgnmfMiZDD0IlXq2QbTKEzcws2XQv6X1CxK164fCRnxxTGH4QhuWEWIbxALbThu3V4ye5hytULnSjIvZLAP2vWyI79OmrD62SO8tM_sb5hPwKKjB0XdE3bi7TxIWcmIZ_1A.IDeJtJj_fiakNMyfUOWE6_zB5oQTdUtL.4DOs4ZRskYFCPfRXPX0IVRvorCIXix6hIS9vaxcyWJURYGeNWLe5cgYl.9yKULsvo3pqZxjrZ84dXFkbdXGe1QQHK7tm8mjqme2HKENZRw2I1kwqtttvyyyKflCr00DD1CIntNxKYgNccpkTp2B38utbjZDMoFNyjKFTnZg2qOc91BKMEyk6Bozw\"};var cpo = document.createElement('script');cpo.src = '/cdn-cgi/challenge-platform/h/b/orchestrate/chl_page/v1?ray=93070bd4ebeb3520';window._cf_chl_opt.cOgUHash = location.hash === '' && location.href.indexOf('#') !== -1 ? '#' : location.hash;window._cf_chl_opt.cOgUQuery = location.search === '' && location.href.slice(0, location.href.length - window._cf_chl_opt.cOgUHash.length).indexOf('?') !== -1 ? '?' : location.search;if (window.history && window.history.replaceState) {var ogU = location.pathname + window._cf_chl_opt.cOgUQuery + window._cf_chl_opt.cOgUHash;history.replaceState(null, null, \"\\/doi\\/full\\/10.1021\\/acs.langmuir.8b00315?__cf_chl_rt_tk=WFsDRrB8iZuWX97gG1ZSlLsbunsthFeGAgG41Z5dv34-1744674005-1.0.1.1-qM2PMoKv.6lIjJxFCVEimi3g_jQTTVySSU2P3gpUdPQ\" + window._cf_chl_opt.cOgUHash);cpo.onload = function() {history.replaceState(null, null, ogU);}}document.getElementsByTagName('head')[0].appendChild(cpo);}());</script></body></html>"
      ]
     },
     "execution_count": 35,
     "metadata": {},
     "output_type": "execute_result"
    }
   ],
   "source": [
    "soup"
   ]
  },
  {
   "cell_type": "code",
   "execution_count": 39,
   "metadata": {},
   "outputs": [],
   "source": [
    "def extract_abstract_from_html_soup(soup) -> str:\n",
    "    # arXiv\n",
    "    if (div := soup.find(\"blockquote\", class_=\"abstract\")):\n",
    "        return div.get_text(strip=True).replace(\"Abstract:\", \"\").strip()\n",
    "\n",
    "    # Springer\n",
    "    if (sec := soup.find(\"section\", class_=\"Abstract\")):\n",
    "        return sec.get_text(strip=True)\n",
    "\n",
    "    # ACS\n",
    "    if (div := soup.find(\"div\", class_=\"abstractSection abstractInFull\")):\n",
    "        return div.get_text(strip=True)\n",
    "\n",
    "    # Generic fallback\n",
    "    for tag in soup.find_all([\"div\", \"section\", \"p\"]):\n",
    "        class_id_str = ' '.join(tag.get(\"class\", [])) + ' ' + tag.get(\"id\", \"\")\n",
    "        if \"abstract\" in class_id_str.lower():\n",
    "            return tag.get_text(strip=True)\n",
    "\n",
    "    return \"Abstract not found.\"\n"
   ]
  },
  {
   "cell_type": "code",
   "execution_count": 40,
   "metadata": {},
   "outputs": [
    {
     "data": {
      "text/plain": [
       "'Abstract not found.'"
      ]
     },
     "execution_count": 40,
     "metadata": {},
     "output_type": "execute_result"
    }
   ],
   "source": [
    "extract_abstract_from_html_soup(soup)"
   ]
  },
  {
   "cell_type": "markdown",
   "metadata": {},
   "source": [
    "This doesn't work for ACS and other jornals!"
   ]
  },
  {
   "cell_type": "markdown",
   "metadata": {},
   "source": []
  }
 ],
 "metadata": {
  "kernelspec": {
   "display_name": "LLM-for-mater",
   "language": "python",
   "name": "venv"
  },
  "language_info": {
   "codemirror_mode": {
    "name": "ipython",
    "version": 3
   },
   "file_extension": ".py",
   "mimetype": "text/x-python",
   "name": "python",
   "nbconvert_exporter": "python",
   "pygments_lexer": "ipython3",
   "version": "3.12.0"
  }
 },
 "nbformat": 4,
 "nbformat_minor": 2
}
