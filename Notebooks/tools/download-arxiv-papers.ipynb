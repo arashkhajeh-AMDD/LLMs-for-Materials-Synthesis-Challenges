{
 "cells": [
  {
   "cell_type": "markdown",
   "metadata": {},
   "source": [
    "## 1. Use the arXiv API\n",
    "The arXiv API lets you search for papers and retrieve metadata or download links.\n",
    "\n",
    "Here’s a minimal working example in Python:"
   ]
  },
  {
   "cell_type": "code",
   "execution_count": 6,
   "metadata": {},
   "outputs": [
    {
     "name": "stdout",
     "output_type": "stream",
     "text": [
      "Title: Porous nanostructured metal oxides synthesized through atomic layer\n",
      "  deposition on a carbonaceous template followed by calcination\n",
      "Authors: Shaoren Deng, Mert Kurttepeli, Daire J. Cott, Sara Bals, Christophe Detavernier\n",
      "Published: 2015-02-25T16:33:02Z\n",
      "Summary: Porous metal oxides with nano-sized features attracted intensive interest in\n",
      "recent decades due to their high surface area which is essential for many\n",
      "applications, e.g. Li ion batteries, photocatalys...\n",
      "PDF: http://arxiv.org/pdf/1502.07233v1\n",
      "--------------------------------------------------------------------------------\n"
     ]
    }
   ],
   "source": [
    "import requests\n",
    "import feedparser\n",
    "\n",
    "query = 'all:(V2O5 AND battery AND Synthesis)'\n",
    "base_url = 'http://export.arxiv.org/api/query?'\n",
    "params = {\n",
    "    'search_query': query,\n",
    "    'start': 0,\n",
    "    'max_results': 10,  # increase this if needed\n",
    "    'sortBy': 'relevance',\n",
    "    'sortOrder': 'descending'\n",
    "}\n",
    "\n",
    "# Construct URL\n",
    "search_url = base_url + '&'.join(f\"{k}={v}\" for k, v in params.items())\n",
    "response = requests.get(search_url)\n",
    "\n",
    "# Parse response\n",
    "feed = feedparser.parse(response.text)\n",
    "\n",
    "for entry in feed.entries:\n",
    "    print(f\"Title: {entry.title}\")\n",
    "    print(f\"Authors: {', '.join(author.name for author in entry.authors)}\")\n",
    "    print(f\"Published: {entry.published}\")\n",
    "    print(f\"Summary: {entry.summary[:200]}...\")\n",
    "    print(f\"PDF: {entry.link.replace('abs', 'pdf')}\")\n",
    "    print(\"-\" * 80)"
   ]
  },
  {
   "cell_type": "markdown",
   "metadata": {},
   "source": [
    "## 2. Download PDFs\n",
    "If you want to download each paper:"
   ]
  },
  {
   "cell_type": "code",
   "execution_count": 7,
   "metadata": {},
   "outputs": [],
   "source": [
    "import os\n",
    "\n",
    "for i, entry in enumerate(feed.entries):\n",
    "    pdf_url = entry.link.replace('abs', 'pdf')\n",
    "    response = requests.get(pdf_url)\n",
    "    with open(f\"v2o5_battery_{i+1}.pdf\", \"wb\") as f:\n",
    "        f.write(response.content)"
   ]
  },
  {
   "cell_type": "code",
   "execution_count": null,
   "metadata": {},
   "outputs": [],
   "source": []
  }
 ],
 "metadata": {
  "kernelspec": {
   "display_name": "LLM-for-mater",
   "language": "python",
   "name": "venv"
  },
  "language_info": {
   "codemirror_mode": {
    "name": "ipython",
    "version": 3
   },
   "file_extension": ".py",
   "mimetype": "text/x-python",
   "name": "python",
   "nbconvert_exporter": "python",
   "pygments_lexer": "ipython3",
   "version": "3.12.0"
  }
 },
 "nbformat": 4,
 "nbformat_minor": 2
}
